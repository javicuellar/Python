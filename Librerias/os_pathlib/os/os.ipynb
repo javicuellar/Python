{
  "cells": [
    {
      "cell_type": "markdown",
      "metadata": {
        "colab_type": "text",
        "id": "view-in-github"
      },
      "source": [
        "<a href=\"https://colab.research.google.com/github/javicuellar/Guia_Python/blob/master/M%C3%B3dulos/Libreria_os.ipynb\" target=\"_parent\"><img src=\"https://colab.research.google.com/assets/colab-badge.svg\" alt=\"Open In Colab\"/></a>"
      ]
    },
    {
      "attachments": {},
      "cell_type": "markdown",
      "metadata": {
        "id": "Cm5XPsnPeI3P"
      },
      "source": [
        "# Librería Os - Interfaces misceláneas del sistema operativo\n",
        "\n",
        "Repositorio Github.-  **Guia_Python**\n",
        "\n",
        "Carpeta.- **Módulos/Libreria_os.ipynb**\n",
        "_____________________________________________\n",
        "\n",
        "Este módulo provee una manera versátil de usar funcionalidades dependientes del sistema operativo. \n",
        "\n",
        "  - Si quieres leer o escribir un archivo mira **open()**\n",
        "  - si quieres manipular rutas, mira el módulo **os.path**\n",
        "  - si quieres leer todas las líneas en todos los archivos en la línea de comandos mira el módulo **fileinput**\n",
        "  - crear archivos temporales y directorios mira el módulo **tempfile**\n",
        "  - manejo de alto nivel de archivos y directorios puedes ver el módulo **shutil**.\n",
        "  - **os.name**.- El nombre del módulo dependiente del sistema operativo importado. Los siguientes nombres están registrados: 'posix', 'nt', 'java'.\n",
        "  - Obtener el número de ficheros con **pathlib**\n",
        "  - Comprobar si tenemos permisos de administrador"
      ]
    },
    {
      "cell_type": "code",
      "execution_count": 3,
      "metadata": {
        "colab": {
          "base_uri": "https://localhost:8080/"
        },
        "id": "6Qxpfq0-eEFu",
        "outputId": "3e1b3231-633e-45b4-80f5-426b13aad443"
      },
      "outputs": [
        {
          "name": "stdout",
          "output_type": "stream",
          "text": [
            "nt\n",
            " >  ALLUSERSPROFILE  datos:  C:\\ProgramData\n",
            " >  APPDATA  datos:  C:\\Users\\javic\\AppData\\Roaming\n",
            " >  CHROME_CRASHPAD_PIPE_NAME  datos:  \\\\.\\pipe\\LOCAL\\crashpad_2804_HKBPWKJPYDIPGOLK\n",
            " >  COMMONPROGRAMFILES  datos:  C:\\Program Files\\Common Files\n",
            " >  COMMONPROGRAMFILES(X86)  datos:  C:\\Program Files (x86)\\Common Files\n",
            " >  COMMONPROGRAMW6432  datos:  C:\\Program Files\\Common Files\n",
            " >  COMPUTERNAME  datos:  DESKTOP-JAVI\n",
            " >  COMSPEC  datos:  C:\\WINDOWS\\system32\\cmd.exe\n",
            " >  CONDA_DEFAULT_ENV  datos:  base\n",
            " >  CONDA_EXE  datos:  C:\\Anaconda\\Scripts\\conda.exe\n",
            " >  CONDA_EXES  datos:  \"C:\\Anaconda\\condabin\\..\\Scripts\\conda.exe\"  \n",
            " >  CONDA_PREFIX  datos:  C:\\Anaconda\n",
            " >  CONDA_PROMPT_MODIFIER  datos:  (base) \n",
            " >  CONDA_PYTHON_EXE  datos:  C:\\Anaconda\\python.exe\n",
            " >  CONDA_ROOT  datos:  C:\\Anaconda\n",
            " >  CONDA_SHLVL  datos:  1\n",
            " >  CSSCRIPT_INC  datos:  C:\\ProgramData\\cs-script\\inc\n",
            " >  DRIVERDATA  datos:  C:\\Windows\\System32\\Drivers\\DriverData\n",
            " >  EFC_10804  datos:  1\n",
            " >  ELECTRON_RUN_AS_NODE  datos:  1\n",
            " >  FPS_BROWSER_APP_PROFILE_STRING  datos:  Internet Explorer\n",
            " >  FPS_BROWSER_USER_PROFILE_STRING  datos:  Default\n",
            " >  GAMEFIRSTUSERPATH  datos:  C:\\ProgramData\\ASUS\\GameFirst\n",
            " >  GAMETURBO  datos:  C:\\Program Files (x86)\\ASUS\\GameFirst\\\n",
            " >  HADOOP_HOME  datos:  D:\\Instalacion Spark\\spark-3.0.3-bin-hadoop2.7\n",
            " >  HOMEDRIVE  datos:  C:\n",
            " >  HOMEPATH  datos:  \\Users\\javic\n",
            " >  JAVA  datos:  C:\\Program Files\\Java\\jre1.8.0_301\n",
            " >  JPY_INTERRUPT_EVENT  datos:  1664\n",
            " >  LOCALAPPDATA  datos:  C:\\Users\\javic\\AppData\\Local\n",
            " >  LOGONSERVER  datos:  \\\\DESKTOP-JAVI\n",
            " >  NUMBER_OF_PROCESSORS  datos:  16\n",
            " >  ONEDRIVE  datos:  D:\\OneDrive\n",
            " >  ONEDRIVECONSUMER  datos:  D:\\OneDrive\n",
            " >  ORIGINAL_XDG_CURRENT_DESKTOP  datos:  undefined\n",
            " >  OS  datos:  Windows_NT\n",
            " >  PATH  datos:  C:\\Anaconda;C:\\Anaconda\\Library\\mingw-w64\\bin;C:\\Anaconda\\Library\\usr\\bin;C:\\Anaconda\\Library\\bin;C:\\Anaconda\\Scripts;C:\\Anaconda\\bin;C:\\Anaconda\\condabin;C:\\Program Files (x86)\\VMware\\VMware Workstation\\bin;C:\\Program Files (x86)\\Common Files\\Oracle\\Java\\javapath;C:\\WINDOWS\\system32;C:\\WINDOWS;C:\\WINDOWS\\System32\\Wbem;C:\\WINDOWS\\System32\\WindowsPowerShell\\v1.0;C:\\WINDOWS\\System32\\OpenSSH;C:\\Program Files\\dotnet;C:\\Program Files\\AutoFirma\\AutoFirma;C:\\Program Files\\PuTTY;C:\\Program Files\\Git\\cmd;C:\\WINDOWS\\system32;C:\\WINDOWS;C:\\WINDOWS\\System32\\Wbem;C:\\WINDOWS\\System32\\WindowsPowerShell\\v1.0;C:\\WINDOWS\\System32\\OpenSSH;C:\\Users\\javic\\AppData\\Roaming\\.dotnet;C:\\Anaconda;C:\\Anaconda\\Library\\mingw-w64\\bin;C:\\Anaconda\\Library\\usr\\bin;C:\\Anaconda\\Library\\bin;C:\\Anaconda\\Scripts;C:\\Users\\javic\\AppData\\Local\\Microsoft\\WindowsApps;D:\\Instalacion Spark\\spark-3.0.3-bin-hadoop2.7;C:\\Users\\javic\\AppData\\Local\\Programs\\Microsoft VS Code\\bin;C:\\Program Files\\Azure Data Studio\\bin;C:\\Users\\javic\\.dotnet\\tools\n",
            " >  PATHEXT  datos:  .COM;.EXE;.BAT;.CMD;.VBS;.VBE;.JS;.JSE;.WSF;.WSH;.MSC\n",
            " >  PROCESSOR_ARCHITECTURE  datos:  AMD64\n",
            " >  PROCESSOR_IDENTIFIER  datos:  AMD64 Family 23 Model 96 Stepping 1, AuthenticAMD\n",
            " >  PROCESSOR_LEVEL  datos:  23\n",
            " >  PROCESSOR_REVISION  datos:  6001\n",
            " >  PROGRAMDATA  datos:  C:\\ProgramData\n",
            " >  PROGRAMFILES  datos:  C:\\Program Files\n",
            " >  PROGRAMFILES(X86)  datos:  C:\\Program Files (x86)\n",
            " >  PROGRAMW6432  datos:  C:\\Program Files\n",
            " >  PROMPT  datos:  (base) $P$G\n",
            " >  PSMODULEPATH  datos:  C:\\Program Files\\WindowsPowerShell\\Modules;C:\\WINDOWS\\system32\\WindowsPowerShell\\v1.0\\Modules\n",
            " >  PUBLIC  datos:  C:\\Users\\Public\n",
            " >  PYDEVD_IPYTHON_COMPATIBLE_DEBUGGING  datos:  1\n",
            " >  PYSPARK_DRIVER_PYTHON  datos:  jupyter\n",
            " >  PYSPARK_DRIVER_PYTHON_OPTS  datos:  notebook\n",
            " >  PYTHONIOENCODING  datos:  utf-8\n",
            " >  PYTHONUNBUFFERED  datos:  1\n",
            " >  PYTHONUTF8  datos:  1\n",
            " >  SESSIONNAME  datos:  Console\n",
            " >  SPARK_HOME  datos:  D:\\Instalacion Spark\\spark-3.0.3-bin-hadoop2.7\n",
            " >  SYSTEMDRIVE  datos:  C:\n",
            " >  SYSTEMROOT  datos:  C:\\WINDOWS\n",
            " >  TEMP  datos:  C:\\Users\\javic\\AppData\\Local\\Temp\n",
            " >  TMP  datos:  C:\\Users\\javic\\AppData\\Local\\Temp\n",
            " >  USERDOMAIN  datos:  DESKTOP-JAVI\n",
            " >  USERDOMAIN_ROAMINGPROFILE  datos:  DESKTOP-JAVI\n",
            " >  USERNAME  datos:  javic\n",
            " >  USERPROFILE  datos:  C:\\Users\\javic\n",
            " >  VS160ENTCOMNTOOLS  datos:  C:\\Program Files (x86)\\Microsoft Visual Studio\\2019\\Enterprise\\Common7\\Tools\\\n",
            " >  VSCODE_AMD_ENTRYPOINT  datos:  vs/workbench/api/node/extensionHostProcess\n",
            " >  VSCODE_CODE_CACHE_PATH  datos:  C:\\Users\\javic\\AppData\\Roaming\\Code\\CachedData\\ee2b180d582a7f601fa6ecfdad8d9fd269ab1884\n",
            " >  VSCODE_CRASH_REPORTER_PROCESS_TYPE  datos:  extensionHost\n",
            " >  VSCODE_CWD  datos:  C:\\Users\\javic\\AppData\\Local\\Programs\\Microsoft VS Code\n",
            " >  VSCODE_HANDLES_UNCAUGHT_ERRORS  datos:  true\n",
            " >  VSCODE_IPC_HOOK  datos:  \\\\.\\pipe\\e6c09bbad688c21edce0a5926788fce0-1.76.2-main-sock\n",
            " >  VSCODE_L10N_BUNDLE_LOCATION  datos:  \n",
            " >  VSCODE_NLS_CONFIG  datos:  {\"locale\":\"es-es\",\"availableLanguages\":{},\"_languagePackSupport\":true}\n",
            " >  VSCODE_PID  datos:  2804\n",
            " >  WINDIR  datos:  C:\\WINDOWS\n",
            " >  _CONDA_OLD_CHCP  datos:  850\n",
            " >  TERM  datos:  xterm-color\n",
            " >  CLICOLOR  datos:  1\n",
            " >  PAGER  datos:  cat\n",
            " >  GIT_PAGER  datos:  cat\n",
            " >  MPLBACKEND  datos:  module://matplotlib_inline.backend_inline\n"
          ]
        }
      ],
      "source": [
        "import os\n",
        "\n",
        "print(os.name)\n",
        "\n",
        "#  Devuelve diccionario con las variables del entorno\n",
        "for key in os.environ:\n",
        "    print(\" > \", key, \" datos: \", os.environ[key])"
      ]
    },
    {
      "cell_type": "code",
      "execution_count": 4,
      "metadata": {
        "id": "Jpnl4ITKhlMg"
      },
      "outputs": [
        {
          "data": {
            "text/plain": [
              "1"
            ]
          },
          "execution_count": 4,
          "metadata": {},
          "output_type": "execute_result"
        }
      ],
      "source": [
        "# Utilizamos OS.POPEN para ejecutar comandos de DOS, en este cado hacemos un DIR de la ruta dada.\n",
        "ruta = './'\n",
        "inst_dos = 'dir ' + ruta + ' > fichero.txt'\n",
        "f = os.popen(inst_dos)\n",
        "f.close()"
      ]
    },
    {
      "cell_type": "markdown",
      "metadata": {
        "id": "CTH7VyqPk8ql"
      },
      "source": [
        " * **os.chdir(path)**.- cambiar directorio\n",
        " * **os.getcwd()**.- Retorna una cadena que representa el directorio de trabajo actual.\n",
        " * **os.mkdir(path, mode=0o777, *, dir_fd=None)**.- Cree un directorio llamado path con modo numérico mode. If the directory already exists, **FileExistsError** is raised. If a parent directory in the path does not exist, **FileNotFoundError** is raised.\n",
        " * **os.listdir(path='.')**.- Retorna una lista que contiene los nombres de las entradas en el directorio dado por path. La lista está en un orden arbitrario y no incluye las entradas especiales '.' Y '..' incluso si están presentes en el directorio."
      ]
    },
    {
      "cell_type": "code",
      "execution_count": 9,
      "metadata": {},
      "outputs": [
        {
          "name": "stdout",
          "output_type": "stream",
          "text": [
            "d:\\Python\\Guía_Python\\Módulos\n",
            " > .gitignore    -> tamaño:  67\n",
            " > Credenciales.json    -> tamaño:  2325\n",
            " > fichero.txt    -> tamaño:  0\n",
            " > Ficheros    -> tamaño:  4096\n",
            " > Libreria_os.ipynb    -> tamaño:  14387\n",
            " > Libreria_stat.ipynb    -> tamaño:  4912\n",
            " > Librería gspread.ipynb    -> tamaño:  1061379\n",
            " > Librería openpyxl (Excel) y pandas.ipynb    -> tamaño:  6206\n",
            " > Librería openpyxl (Excel).ipynb    -> tamaño:  16038\n",
            " > Librería sqlite.ipynb    -> tamaño:  12264\n"
          ]
        }
      ],
      "source": [
        "#  Obtener directorio actual\n",
        "dir = os.getcwd()\n",
        "print(dir)\n",
        "\n",
        "#  Obtener elementos del directorio\n",
        "elementos = os.listdir(dir)\n",
        "for elemento in elementos:\n",
        "    print(\" >\", elemento, \"   -> tamaño: \", os.path.getsize(elemento))"
      ]
    },
    {
      "attachments": {},
      "cell_type": "markdown",
      "metadata": {},
      "source": [
        "### Obtener los elementos de un directorio recursivamente -> **os.scandir()**"
      ]
    },
    {
      "cell_type": "code",
      "execution_count": 13,
      "metadata": {},
      "outputs": [
        {
          "name": "stdout",
          "output_type": "stream",
          "text": [
            "426431533308\n"
          ]
        }
      ],
      "source": [
        "def get_dir_size(path='d:\\\\'):\n",
        "    total = 0\n",
        "    try:\n",
        "        #  os.scandir() devuelve un iterador del objeto os.DirEntry.\n",
        "        with os.scandir(path) as it:\n",
        "            for entry in it:\n",
        "                if entry.is_file():\n",
        "                    total += entry.stat().st_size\n",
        "                elif entry.is_dir():\n",
        "                    total += get_dir_size(entry.path)\n",
        "    except:\n",
        "        pass\n",
        "    return total\n",
        "\n",
        "print(get_dir_size())"
      ]
    },
    {
      "attachments": {},
      "cell_type": "markdown",
      "metadata": {},
      "source": [
        "### Obtener número de ficheros con **pathlib**"
      ]
    },
    {
      "cell_type": "code",
      "execution_count": 21,
      "metadata": {},
      "outputs": [
        {
          "name": "stdout",
          "output_type": "stream",
          "text": [
            "42246\n"
          ]
        }
      ],
      "source": [
        "import pathlib\n",
        "\n",
        "def NumFicherosDirectorio(dir):\n",
        "    num_ficheros = 0\n",
        "\n",
        "    try:\n",
        "        for path in pathlib.Path(dir).iterdir():\n",
        "            if path.is_file():\n",
        "                num_ficheros += 1\n",
        "            elif path.is_dir():\n",
        "                num_ficheros += NumFicherosDirectorio(path)\n",
        "    except:\n",
        "        pass\n",
        "    return num_ficheros\n",
        "\n",
        "\n",
        "print(NumFicherosDirectorio('D:\\\\'))"
      ]
    },
    {
      "attachments": {},
      "cell_type": "markdown",
      "metadata": {},
      "source": [
        "### Comprobar si tenemos permisos de administrador"
      ]
    },
    {
      "cell_type": "code",
      "execution_count": 1,
      "metadata": {},
      "outputs": [
        {
          "name": "stdout",
          "output_type": "stream",
          "text": [
            "Windows\n",
            "Admin privileges: False\n"
          ]
        },
        {
          "data": {
            "text/plain": [
              "False"
            ]
          },
          "execution_count": 1,
          "metadata": {},
          "output_type": "execute_result"
        }
      ],
      "source": [
        "import ctypes, os\n",
        "#from sys import exit\n",
        " \n",
        " \n",
        "def is_admin():\n",
        "    is_admin = False\n",
        "    try:\n",
        "        #  Para Linux\n",
        "        is_admin = os.getuid() == 0\n",
        "    except AttributeError:\n",
        "        print(\"Windows\")\n",
        "        is_admin = ctypes.windll.shell32.IsUserAnAdmin() != 0\n",
        " \n",
        "    print (\"Admin privileges: {}\".format(is_admin))\n",
        "    return is_admin\n",
        "\n",
        "is_admin()"
      ]
    }
  ],
  "metadata": {
    "colab": {
      "authorship_tag": "ABX9TyOgo9V4NQAVRvdX4zGA70XI",
      "include_colab_link": true,
      "provenance": []
    },
    "kernelspec": {
      "display_name": "Python 3",
      "name": "python3"
    },
    "language_info": {
      "codemirror_mode": {
        "name": "ipython",
        "version": 3
      },
      "file_extension": ".py",
      "mimetype": "text/x-python",
      "name": "python",
      "nbconvert_exporter": "python",
      "pygments_lexer": "ipython3",
      "version": "3.8.8"
    }
  },
  "nbformat": 4,
  "nbformat_minor": 0
}
