{
  "cells": [
    {
      "cell_type": "markdown",
      "metadata": {},
      "source": [
        "# IMDbPY\n",
        "\n",
        "https://www.toolify.ai/es/ai-news-es/accede-a-datos-de-imdb-con-python-usando-imdbpy-2468862"
      ]
    },
    {
      "cell_type": "code",
      "execution_count": 1,
      "metadata": {
        "colab": {
          "base_uri": "https://localhost:8080/"
        },
        "id": "_XpnViKtPeDY",
        "outputId": "0914285d-bbd5-45d2-c7ed-72a6b48e502b"
      },
      "outputs": [
        {
          "name": "stdout",
          "output_type": "stream",
          "text": [
            "Collecting IMDbPY\n",
            "  Downloading IMDbPY-2022.7.9-py3-none-any.whl.metadata (498 bytes)\n",
            "Collecting cinemagoer (from IMDbPY)\n",
            "  Downloading cinemagoer-2023.5.1-py3-none-any.whl.metadata (2.9 kB)\n",
            "Requirement already satisfied: SQLAlchemy in /usr/local/lib/python3.10/dist-packages (from cinemagoer->IMDbPY) (2.0.32)\n",
            "Requirement already satisfied: lxml in /usr/local/lib/python3.10/dist-packages (from cinemagoer->IMDbPY) (4.9.4)\n",
            "Requirement already satisfied: typing-extensions>=4.6.0 in /usr/local/lib/python3.10/dist-packages (from SQLAlchemy->cinemagoer->IMDbPY) (4.12.2)\n",
            "Requirement already satisfied: greenlet!=0.4.17 in /usr/local/lib/python3.10/dist-packages (from SQLAlchemy->cinemagoer->IMDbPY) (3.0.3)\n",
            "Downloading IMDbPY-2022.7.9-py3-none-any.whl (1.2 kB)\n",
            "Downloading cinemagoer-2023.5.1-py3-none-any.whl (297 kB)\n",
            "\u001b[2K   \u001b[90m━━━━━━━━━━━━━━━━━━━━━━━━━━━━━━━━━━━━━━━━\u001b[0m \u001b[32m297.2/297.2 kB\u001b[0m \u001b[31m4.9 MB/s\u001b[0m eta \u001b[36m0:00:00\u001b[0m\n",
            "\u001b[?25hInstalling collected packages: cinemagoer, IMDbPY\n",
            "Successfully installed IMDbPY-2022.7.9 cinemagoer-2023.5.1\n"
          ]
        }
      ],
      "source": [
        "pip install IMDbPY"
      ]
    },
    {
      "cell_type": "code",
      "execution_count": 4,
      "metadata": {
        "colab": {
          "base_uri": "https://localhost:8080/"
        },
        "id": "NiobeM0zQ9gQ",
        "outputId": "90cff4dc-90b8-4e3b-ed0c-1ebb7e59d758"
      },
      "outputs": [
        {
          "name": "stdout",
          "output_type": "stream",
          "text": [
            "Introduzca película: el sindicato\n",
            "Resultados:\n",
            "1, The Union  (2024)]\n",
            "2, El sindicato del crimen  (1954)]\n",
            "3, Baile en el Sindicato  (2016)]\n",
            "4, 10,000 Black Men Named George  (2002)]\n",
            "5, Megamind vs. The Doom Syndicate  (2024)]\n",
            "6, The Assassination Bureau  (1969)]\n",
            "7, Murder, Inc.  (1960)]\n",
            "8, Hammer  (1972)]\n",
            "9, The Mongolian Connection  (2019)]\n",
            "10, Persecución hasta Valencia  (1968)]\n",
            "11, El sindicato  (2017)]\n",
            "12, The Vindicators  (2022)]\n",
            "13, Episode 535: Angel Calderon - Artist, Distance Runner & El Sindicato  (2022)]\n",
            "14, Choque de versiones entre el sindicato Plis Educación y el PP balear sobre la imposición lingüística  (2024)]\n",
            "15, Qué pereza... un sindicato figureti y una alcaldada, alteran el torneo  (2023)]\n",
            "16, Los Tenores y el fin del paro del Sindicato de Futbolistas Profesionales  (2024)]\n",
            "17, Trabajadores del sindicato del colegio de Bachilleres protestaron en el Valle de México  (2023)]\n",
            "18, El Larguero a las 00.00 | Entrevista a la presidenta del sindicato de futbolistas y El Sanedrín analiza la actualidad de la huelga femenina  (2023)]\n",
            "19, Jesse Ventura y el fallido sindicato de lucha libre - Episodio exclusivo para mecenas  (2023)]\n",
            "20, : sindicato de Migración aconseja llenarse de paciencia por filas en El Dorado  (2023)]\n"
          ]
        }
      ],
      "source": [
        "import imdb\n",
        "\n",
        "ia = imdb.Cinemagoer()\n",
        "pelicula = input(\"Introduzca película: \")\n",
        "busqueda = ia.search_movie(pelicula)\n",
        "\n",
        "print(\"Resultados:\")\n",
        "for num, peli in enumerate(busqueda):\n",
        "    print(f\"{num + 1}, {peli['title']}  ({peli['year']})\")\n",
        "\n"
      ]
    }
  ],
  "metadata": {
    "colab": {
      "provenance": []
    },
    "kernelspec": {
      "display_name": "Python 3",
      "name": "python3"
    },
    "language_info": {
      "name": "python"
    }
  },
  "nbformat": 4,
  "nbformat_minor": 0
}
