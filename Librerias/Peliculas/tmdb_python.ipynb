{
  "cells": [
    {
      "cell_type": "markdown",
      "metadata": {
        "id": "rrjBaApeZ9wz"
      },
      "source": [
        "# themoviedb\n",
        "\n",
        "https://github.com/leandcesar/themoviedb"
      ]
    },
    {
      "cell_type": "code",
      "execution_count": 1,
      "metadata": {
        "colab": {
          "base_uri": "https://localhost:8080/"
        },
        "id": "B2kggKVAZ7hv",
        "outputId": "01131ca9-beed-4bb7-c6ee-1f6d5b2c940a"
      },
      "outputs": [
        {
          "name": "stdout",
          "output_type": "stream",
          "text": [
            "Collecting themoviedb[full]Note: you may need to restart the kernel to use updated packages.\n",
            "\n",
            "  Downloading themoviedb-1.0.2-py3-none-any.whl.metadata (6.0 kB)\n",
            "Collecting aiohttp>=3.8.4 (from themoviedb[full])\n",
            "  Downloading aiohttp-3.10.5-cp311-cp311-win_amd64.whl.metadata (7.8 kB)\n",
            "Collecting dacite>=1.8.0 (from themoviedb[full])\n",
            "  Downloading dacite-1.8.1-py3-none-any.whl.metadata (15 kB)\n",
            "Requirement already satisfied: requests>=2.31.0 in c:\\users\\javic\\appdata\\local\\programs\\python\\python311\\lib\\site-packages (from themoviedb[full]) (2.31.0)\n",
            "Collecting aiohappyeyeballs>=2.3.0 (from aiohttp>=3.8.4->themoviedb[full])\n",
            "  Downloading aiohappyeyeballs-2.4.0-py3-none-any.whl.metadata (5.9 kB)\n",
            "Collecting aiosignal>=1.1.2 (from aiohttp>=3.8.4->themoviedb[full])\n",
            "  Downloading aiosignal-1.3.1-py3-none-any.whl.metadata (4.0 kB)\n",
            "Requirement already satisfied: attrs>=17.3.0 in c:\\users\\javic\\appdata\\local\\programs\\python\\python311\\lib\\site-packages (from aiohttp>=3.8.4->themoviedb[full]) (23.2.0)\n",
            "Collecting frozenlist>=1.1.1 (from aiohttp>=3.8.4->themoviedb[full])\n",
            "  Downloading frozenlist-1.4.1-cp311-cp311-win_amd64.whl.metadata (12 kB)\n",
            "Collecting multidict<7.0,>=4.5 (from aiohttp>=3.8.4->themoviedb[full])\n",
            "  Downloading multidict-6.0.5-cp311-cp311-win_amd64.whl.metadata (4.3 kB)\n",
            "Collecting yarl<2.0,>=1.0 (from aiohttp>=3.8.4->themoviedb[full])\n",
            "  Downloading yarl-1.9.6-cp311-cp311-win_amd64.whl.metadata (39 kB)\n",
            "Requirement already satisfied: charset-normalizer<4,>=2 in c:\\users\\javic\\appdata\\local\\programs\\python\\python311\\lib\\site-packages (from requests>=2.31.0->themoviedb[full]) (3.1.0)\n",
            "Requirement already satisfied: idna<4,>=2.5 in c:\\users\\javic\\appdata\\local\\programs\\python\\python311\\lib\\site-packages (from requests>=2.31.0->themoviedb[full]) (3.4)\n",
            "Requirement already satisfied: urllib3<3,>=1.21.1 in c:\\users\\javic\\appdata\\local\\programs\\python\\python311\\lib\\site-packages (from requests>=2.31.0->themoviedb[full]) (1.26.15)\n",
            "Requirement already satisfied: certifi>=2017.4.17 in c:\\users\\javic\\appdata\\local\\programs\\python\\python311\\lib\\site-packages (from requests>=2.31.0->themoviedb[full]) (2023.5.7)\n",
            "Downloading aiohttp-3.10.5-cp311-cp311-win_amd64.whl (379 kB)\n",
            "   ---------------------------------------- 0.0/379.1 kB ? eta -:--:--\n",
            "   ---------------------------------------- 379.1/379.1 kB 7.8 MB/s eta 0:00:00\n",
            "Downloading dacite-1.8.1-py3-none-any.whl (14 kB)\n",
            "Downloading themoviedb-1.0.2-py3-none-any.whl (61 kB)\n",
            "   ---------------------------------------- 0.0/61.4 kB ? eta -:--:--\n",
            "   ---------------------------------------- 61.4/61.4 kB 3.2 MB/s eta 0:00:00\n",
            "Downloading aiohappyeyeballs-2.4.0-py3-none-any.whl (12 kB)\n",
            "Downloading aiosignal-1.3.1-py3-none-any.whl (7.6 kB)\n",
            "Downloading frozenlist-1.4.1-cp311-cp311-win_amd64.whl (50 kB)\n",
            "   ---------------------------------------- 0.0/50.5 kB ? eta -:--:--\n",
            "   ---------------------------------------- 50.5/50.5 kB ? eta 0:00:00\n",
            "Downloading multidict-6.0.5-cp311-cp311-win_amd64.whl (28 kB)\n",
            "Downloading yarl-1.9.6-cp311-cp311-win_amd64.whl (79 kB)\n",
            "   ---------------------------------------- 0.0/79.0 kB ? eta -:--:--\n",
            "   ---------------------------------------- 79.0/79.0 kB ? eta 0:00:00\n",
            "Installing collected packages: multidict, frozenlist, dacite, aiohappyeyeballs, yarl, aiosignal, aiohttp, themoviedb\n",
            "Successfully installed aiohappyeyeballs-2.4.0 aiohttp-3.10.5 aiosignal-1.3.1 dacite-1.8.1 frozenlist-1.4.1 multidict-6.0.5 themoviedb-1.0.2 yarl-1.9.6\n"
          ]
        },
        {
          "name": "stderr",
          "output_type": "stream",
          "text": [
            "WARNING: themoviedb 1.0.2 does not provide the extra 'full'\n",
            "\n",
            "[notice] A new release of pip is available: 24.0 -> 24.2\n",
            "[notice] To update, run: python.exe -m pip install --upgrade pip\n"
          ]
        }
      ],
      "source": [
        "pip install themoviedb[full]"
      ]
    },
    {
      "cell_type": "markdown",
      "metadata": {
        "id": "g0Y7KTZ0bl2O"
      },
      "source": [
        "## API Key\n",
        "\n",
        "You will need an API key to The Movie Database to access the API. To obtain a key, follow these steps:\n",
        "\n",
        "1. [Register](https:/www.themoviedb.org/account/signup) for and verify an account.\n",
        "2. [Log](https:/www.themoviedb.org/login) into your account.\n",
        "3. Select the [API section](https:/www.themoviedb.org/settings/api) on left side of your account page.\n",
        "4. Click on the link to generate a new API key and follow the instructions.\n",
        "\n"
      ]
    },
    {
      "cell_type": "code",
      "execution_count": 7,
      "metadata": {
        "colab": {
          "base_uri": "https://localhost:8080/"
        },
        "id": "eIEiI44qcMrb",
        "outputId": "028e1454-e0c1-4a06-d6d4-fcbc92cd563a"
      },
      "outputs": [
        {
          "name": "stdout",
          "output_type": "stream",
          "text": [
            "Cadena perpetua  (1995) 8.706\n",
            "El padrino  (1972) 8.7\n",
            "El padrino. Parte II  (1990) 8.6\n",
            "La lista de Schindler  (1994) 8.565\n",
            "12 hombres sin piedad  (1958) 8.544\n",
            "El viaje de Chihiro  (2002) 8.536\n",
            "Un amor contra viento y marea  (1995) 8.532\n",
            "El caballero oscuro  (2008) 8.516\n",
            "Parásitos  (2019) 8.507\n",
            "La milla verde  (2000) 8.507\n",
            "Pulp Fiction  (1995) 8.487\n",
            "Your Name  (2017) 8.487\n",
            "El señor de los anillos: El retorno del rey  (2003) 8.481\n",
            "Forrest Gump  (1994) 8.474\n",
            "Uno de los nuestros  (1990) 8.463\n",
            "Cosas imposibles  (2021) 8.462\n",
            "El bueno, el feo y el malo  (1968) 8.461\n",
            "Los siete samuráis  (1967) 8.5\n",
            "La tumba de las luciérnagas  (2003) 8.5\n",
            "La vida es bella  (1999) 8.45\n"
          ]
        }
      ],
      "source": [
        "from themoviedb import TMDb\n",
        "\n",
        "tmdb = TMDb(key=\"4c7f934b31dc6d566806aefcdeaf05d2\", language=\"es-ES\", region=\"ES\")\n",
        "\n",
        "#  Obtener la lista de las mejors peliculas rated\n",
        "movies = tmdb.movies().top_rated()\n",
        "for movie in movies:\n",
        "    # print(movie)\n",
        "    print(f\"{movie.title}  ({movie.year})\", movie.vote_average)"
      ]
    },
    {
      "cell_type": "code",
      "execution_count": 33,
      "metadata": {
        "colab": {
          "base_uri": "https://localhost:8080/"
        },
        "id": "PmnrY6hWdcJI",
        "outputId": "dcb4f44d-8137-4e2e-acb3-cfce88069fa8"
      },
      "outputs": [
        {
          "name": "stdout",
          "output_type": "stream",
          "text": [
            "Ley y orden - Adultos: False - Año 1990 - Nota 7.367 Geenero [80, 18]\n",
            "Binnelanders - Adultos: False - Año 2005 - Nota 5.6 Geenero [10766]\n",
            "Los Simpson - Adultos: False - Año 1989 - Nota 8.011 Geenero [10751, 16, 35]\n",
            "Real Time with Bill Maher - Adultos: False - Año 2003 - Nota 6.018 Geenero [35, 10767]\n",
            "Navy: Investigación criminal - Adultos: False - Año 2003 - Nota 7.624 Geenero [80, 18, 10759]\n",
            "El señor de los anillos: Los anillos de poder - Adultos: False - Año 2022 - Nota 7.3 Geenero [10759, 10765, 18]\n",
            "Dos hombres y medio - Adultos: False - Año 2003 - Nota 7.464 Geenero [35]\n",
            "Stargate SG-1 - Adultos: False - Año 1997 - Nota 8.257 Geenero [10765, 10759, 9648]\n",
            "Padre de familia - Adultos: False - Año 1999 - Nota 7.354 Geenero [16, 35]\n",
            "Brooklyn Nine-Nine - Adultos: False - Año 2013 - Nota 8.222 Geenero [35, 80]\n",
            "La Casa de los Famosos México - Adultos: False - Año 2023 - Nota 7.6 Geenero [10764, 10751]\n",
            "Malhação - Adultos: False - Año 1995 - Nota 5.796 Geenero [10766]\n",
            "Overwatch Champions Series - Asia - Adultos: False - Año 2024 - Nota 4.75 Geenero []\n",
            "Suidooster - Adultos: False - Año 2015 - Nota 7.5 Geenero [10766]\n",
            "NOVA - Adultos: False - Año 1974 - Nota 6.833 Geenero [99]\n",
            "Dilema - Adultos: False - Año 2024 - Nota 0.0 Geenero [10764]\n",
            "Ich bin ein Star – Showdown der Dschungel-Legenden - Adultos: False - Año 2024 - Nota 6.5 Geenero [10764]\n",
            "Lucifer - Adultos: False - Año 2016 - Nota 8.465 Geenero [80, 10765]\n",
            "House Hunters International - Adultos: False - Año 2006 - Nota 6.523 Geenero [10764]\n",
            "60 Minutes - Adultos: False - Año 1968 - Nota 6.695 Geenero [10763]\n"
          ]
        }
      ],
      "source": [
        "#  Obtener la lista de las series mas populares\n",
        "series = tmdb.tvs().popular()\n",
        "for serie in series:\n",
        "    print(f\"{serie.name} - Adultos: {serie.adult} - Año {serie.year} - Nota {serie.vote_average} Geenero {serie.genre_ids}\")"
      ]
    },
    {
      "cell_type": "code",
      "execution_count": 8,
      "metadata": {
        "colab": {
          "base_uri": "https://localhost:8080/"
        },
        "id": "f3bkU59VeCqb",
        "outputId": "36fa680c-357f-41fa-c439-803e7fcc3d60"
      },
      "outputs": [
        {
          "name": "stdout",
          "output_type": "stream",
          "text": [
            "Cadena perpetua  (1995) - Calificación: 8.706\n",
            "El viaje de Chihiro  (2002) - Calificación: 8.536\n",
            "La milla verde  (2000) - Calificación: 8.507\n",
            "Pulp Fiction  (1995) - Calificación: 8.487\n",
            "Your Name  (2017) - Calificación: 8.5\n",
            "El señor de los anillos: El retorno del rey  (2003) - Calificación: 8.5\n",
            "Forrest Gump  (1994) - Calificación: 8.474\n",
            "Interstellar  (2014) - Calificación: 8.44\n",
            "El club de la lucha  (1999) - Calificación: 8.438\n",
            "El señor de los anillos: La comunidad del anillo  (2001) - Calificación: 8.413\n",
            "El señor de los anillos: Las dos torres  (2002) - Calificación: 8.4\n",
            "Whiplash  (2015) - Calificación: 8.382\n",
            "Seven  (1996) - Calificación: 8.375\n",
            "El silencio de los corderos  (1991) - Calificación: 8.349\n",
            "El rey león  (1994) - Calificación: 8.256\n",
            "Gladiator  (2000) - Calificación: 8.218\n",
            "La guerra de las galaxias  (1977) - Calificación: 8.203\n",
            "La naranja mecánica  (1975) - Calificación: 8.198\n",
            "Alien, el octavo pasajero  (1979) - Calificación: 8.2\n",
            "Taxi Driver  (1977) - Calificación: 8.146\n"
          ]
        }
      ],
      "source": [
        "#  Descurbir peliculas de diferentes tipos\n",
        "movies = tmdb.discover().movie(\n",
        "    sort_by=\"vote_average.desc\",\n",
        "    year=2024,\n",
        "    #primary_release_date__gte=\"1997-08-15\",\n",
        "    vote_count__gte=10000,\n",
        "    vote_average__gte=6.0,     )\n",
        "\n",
        "for movie in movies:\n",
        "    print(f\"{movie.title}  ({movie.year}) - Calificación: {movie.vote_average}\")  "
      ]
    },
    {
      "cell_type": "code",
      "execution_count": 10,
      "metadata": {
        "colab": {
          "base_uri": "https://localhost:8080/"
        },
        "id": "kgcm6fKCeUrG",
        "outputId": "cb0fe56c-9d84-4525-f843-e5c333eae12e"
      },
      "outputs": [
        {
          "name": "stdout",
          "output_type": "stream",
          "text": [
            "Titulo año.:  El sindicato 2024\n",
            "Tagline:  \n",
            "url poster:  <bound method PartialMovie.poster_url of Movie(id=704239, poster_path='/1UHp2QEBPnTrcx0i6aYw6jWtDbI.jpg', adult=False, overview='Un obrero de Nueva Jersey pasa de ser un tío normal a un aspirante a espía cuando su novia del instituto, desaparecida desde hace tiempo, lo recluta para una misión de espionaje.', release_date=datetime.date(2024, 8, 15), genre_ids=None, original_title='The Union', original_language='en', title='El sindicato', backdrop_path='/4ft6TR9wA6bra0RLL6G7JFDQ5t1.jpg', popularity=1299.718, vote_count=494, video=False, vote_average=6.266, media_type=<MediaType.movie: 'movie'>, belongs_to_collection=None, budget=0, genres=[Genre(id=28, name='Acción'), Genre(id=35, name='Comedia')], homepage='https://www.netflix.com/es/title/81282732', imdb_id='tt12610390', production_companies=[Company(id=169668, logo_path=None, name='Municipal Pictures', description=None, headquarters=None, homepage=None, origin_country='US', parent_company=None), Company(id=8537, logo_path=None, name='Closest to the Hole Productions', description=None, headquarters=None, homepage=None, origin_country='US', parent_company=None), Company(id=8536, logo_path=None, name='Leverage Entertainment', description=None, headquarters=None, homepage=None, origin_country='US', parent_company=None)], production_countries=[Country(iso_3166_1='US', name='United States of America')], revenue=0, runtime=109, spoken_languages=[Language(english_name='English', iso_639_1='en', name='English')], status='Released', tagline='', alternative_titles=None, credits=Credits(id=None, cast=[Cast(id=13240, adult=False, gender=2, known_for_department='Acting', name='Mark Wahlberg', original_name='Mark Wahlberg', popularity=65.926, profile_path='/bTEFpaWd7A6AZVWOqKKBWzKEUe8.jpg', cast_id=1, character='Mike McKenna', credit_id='5ebd8711bc8abc0021c20f8c', order=0, total_episode_count=None, roles=None), Cast(id=4587, adult=False, gender=1, known_for_department='Acting', name='Halle Berry', original_name='Halle Berry', popularity=101.317, profile_path='/9aLI0LSi7cbieyiskOdsBaneKmp.jpg', cast_id=5, character='Roxanne Hall', credit_id='605a47e67dfda60028fdc189', order=1, total_episode_count=None, roles=None), Cast(id=18999, adult=False, gender=2, known_for_department='Acting', name='J.K. Simmons', original_name='J.K. Simmons', popularity=51.567, profile_path='/ScmKoJ9eiSUOthAt1PDNLi8Fkw.jpg', cast_id=6, character='Tom Brennan', credit_id='628be11c2495ab74da6cdba5', order=2, total_episode_count=None, roles=None), Cast(id=450, adult=False, gender=2, known_for_department='Acting', name='Mike Colter', original_name='Mike Colter', popularity=24.658, profile_path='/rTcfLDlcQ78tVVUDHSFJYiodJtb.jpg', cast_id=83, character='Nick Faraday', credit_id='66bf4ea8cd7bc1090a405e29', order=3, total_episode_count=None, roles=None), Cast(id=31164, adult=False, gender=2, known_for_department='Acting', name='Adewale Akinnuoye-Agbaje', original_name='Adewale Akinnuoye-Agbaje', popularity=20.07, profile_path='/zdtwVtVmmm7VzYfu8xH7mbuTvrH.jpg', cast_id=8, character='Frank Preiffer', credit_id='628be1466c8492718878b5ae', order=4, total_episode_count=None, roles=None), Cast(id=1196822, adult=False, gender=1, known_for_department='Acting', name='Jessica De Gouw', original_name='Jessica De Gouw', popularity=37.992, profile_path='/pu09eASIUzHPJZMfHPkpFqDZ2RR.jpg', cast_id=9, character='Juliet Quinn', credit_id='628be16cec455255ec43e3dd', order=5, total_episode_count=None, roles=None), Cast(id=1517252, adult=False, gender=1, known_for_department='Acting', name='Alice Lee', original_name='Alice Lee', popularity=9.661, profile_path='/3LVBiCWOLDM6mD0TthfEQ2vcl40.jpg', cast_id=10, character='Athena Kim', credit_id='628be17b5cea184d122d6f6e', order=6, total_episode_count=None, roles=None), Cast(id=17183, adult=False, gender=2, known_for_department='Acting', name='Jackie Earle Haley', original_name='Jackie Earle Haley', popularity=27.181, profile_path='/xDPeiyklN8f9Ilowsti4lGVbioj.jpg', cast_id=7, character='Foreman', credit_id='628be136d3d38700a145d65b', order=7, total_episode_count=None, roles=None), Cast(id=55467, adult=False, gender=2, known_for_department='Acting', name='Stephen Campbell Moore', original_name='Stephen Campbell Moore', popularity=13.712, profile_path='/5w4EvQfi5YipR5I5lhtN5dCDiEY.jpg', cast_id=84, character='Cameron Foster', credit_id='66bf500a768b03c06aad6d30', order=8, total_episode_count=None, roles=None), Cast(id=11478, adult=False, gender=1, known_for_department='Acting', name='Lorraine Bracco', original_name='Lorraine Bracco', popularity=25.538, profile_path='/ptgcPyXFd6wTeF8pxdne1jtkXrS.jpg', cast_id=82, character='Lorraine McKenna', credit_id='66bbeecf5036802d7c807f3a', order=9, total_episode_count=None, roles=None), Cast(id=65002, adult=False, gender=1, known_for_department='Acting', name='Dana Delany', original_name='Dana Delany', popularity=57.169, profile_path='/sw49JGyGVjgtIaARlDb7c3qcAcf.jpg', cast_id=85, character='Nicole', credit_id='66bf502552dd9cc50797c336', order=10, total_episode_count=None, roles=None), Cast(id=172156, adult=False, gender=2, known_for_department='Acting', name='Patch Darragh', original_name='Patch Darragh', popularity=7.675, profile_path='/pLYaRnY2l61DphIUYZvLSlZZfGJ.jpg', cast_id=22, character='Bobby Breslin', credit_id='63c7ce6cc5c1ef008ae489d7', order=11, total_episode_count=None, roles=None), Cast(id=1319037, adult=False, gender=2, known_for_department='Acting', name='James McMenamin', original_name='James McMenamin', popularity=8.105, profile_path='/uTFqvMgmdLJy8NE4zntD7ItL3wV.jpg', cast_id=86, character='Johnny Healy', credit_id='66bfe469544595899249e8cb', order=12, total_episode_count=None, roles=None), Cast(id=116714, adult=False, gender=2, known_for_department='Acting', name='Juan Carlos Hernández', original_name='Juan Carlos Hernández', popularity=4.362, profile_path='/7QXETsvObOMzUhpgdAU1lq6kqZL.jpg', cast_id=87, character='Billy Lewis', credit_id='66bfe477469814d852ad751d', order=13, total_episode_count=None, roles=None), Cast(id=2007198, adult=False, gender=2, known_for_department='Acting', name='Alex Brightman', original_name='Alex Brightman', popularity=5.146, profile_path='/3QotS4a8RAI1jR6mjWAG4C8HIoq.jpg', cast_id=23, character='Gary', credit_id='63c7ce73c5c1ef008ae489dd', order=14, total_episode_count=None, roles=None), Cast(id=1504796, adult=False, gender=2, known_for_department='Acting', name='Andrei Lenart', original_name='Andrei Lenart', popularity=2.019, profile_path='/5n1S06vvL7YgurFYfG9QNgRV5yM.jpg', cast_id=24, character='Suspicious Man', credit_id='63c7ce7c70b44400c8be8d1c', order=15, total_episode_count=None, roles=None), Cast(id=1385098, adult=False, gender=1, known_for_department='Acting', name='Susan Fordham', original_name='Susan Fordham', popularity=6.457, profile_path='/pAMCxwohwelWcgAZIMLh0abWsDt.jpg', cast_id=25, character='Rollerskater', credit_id='63c7ce9470b44400aecd2352', order=16, total_episode_count=None, roles=None), Cast(id=109669, adult=False, gender=2, known_for_department='Acting', name='Fahim Fazli', original_name='Fahim Fazli', popularity=4.299, profile_path='/hNjSzr3quACIMwotRaRM2yKi9fU.jpg', cast_id=26, character='Mo', credit_id='63c7cf4670b4440094a4e01c', order=17, total_episode_count=None, roles=None), Cast(id=3291978, adult=False, gender=2, known_for_department='Acting', name='Robert Ryan', original_name='Robert Ryan', popularity=5.697, profile_path='/A5Go2UKi5UwoFUsvRVH8Us0b2GM.jpg', cast_id=27, character='Union Mechanic', credit_id='64c18ff413a32000c532ecea', order=18, total_episode_count=None, roles=None), Cast(id=2277896, adult=False, gender=1, known_for_department='Crew', name='Lucy Cork', original_name='Lucy Cork', popularity=5.908, profile_path='/litpdpX4LfUyB4OM9q25pUIkPT3.jpg', cast_id=28, character='Eilas Schiller', credit_id='64c1a2f2097c4900e3f3681f', order=19, total_episode_count=None, roles=None), Cast(id=3725862, adult=False, gender=1, known_for_department='Acting', name='Jeśka Pike', original_name='Jeśka Pike', popularity=1.988, profile_path='/999GHUz4nPLJFRU4e16YtnbkiI9.jpg', cast_id=29, character='CIA Operative', credit_id='64c1a31dfdc14600ad552b00', order=20, total_episode_count=None, roles=None), Cast(id=1423823, adult=False, gender=1, known_for_department='Acting', name='Jen Jacob', original_name='Jen Jacob', popularity=4.593, profile_path='/l69OpmoV621ftD0Ys27NBrZXhtw.jpg', cast_id=30, character='Stephanie', credit_id='64c1a32fede1b0013c6e8bba', order=21, total_episode_count=None, roles=None), Cast(id=4182228, adult=False, gender=0, known_for_department='Acting', name='Scott Rees', original_name='Scott Rees', popularity=0.001, profile_path=None, cast_id=31, character='Sam', credit_id='64c1a355fdc1460139fa04c5', order=22, total_episode_count=None, roles=None), Cast(id=3353402, adult=False, gender=1, known_for_department='Acting', name='Julianna Kurokawa', original_name='Julianna Kurokawa', popularity=2.14, profile_path='/lcUwHeEaEEo2prfegN7q616Wp7E.jpg', cast_id=32, character='Agent Martin', credit_id='64c1a369ede1b000e50d3e64', order=23, total_episode_count=None, roles=None), Cast(id=1675387, adult=False, gender=2, known_for_department='Acting', name='Adam Collins', original_name='Adam Collins', popularity=6.009, profile_path='/iuKuZT6xWpzdVhAouEZllgLEwgB.jpg', cast_id=33, character='Agent Glover', credit_id='64c1a37bbe55b701026041ab', order=24, total_episode_count=None, roles=None), Cast(id=4182237, adult=False, gender=0, known_for_department='Acting', name='Richard Sutar', original_name='Richard Sutar', popularity=0.001, profile_path=None, cast_id=34, character='Airport Ground Staff', credit_id='64c1a4632f1be0010c81f3bb', order=25, total_episode_count=None, roles=None), Cast(id=3398994, adult=False, gender=0, known_for_department='Acting', name='John-Deric Mitchell', original_name='John-Deric Mitchell', popularity=0.001, profile_path=None, cast_id=35, character='Head Bartender', credit_id='64c1a484097c4900c64340ce', order=26, total_episode_count=None, roles=None), Cast(id=3916721, adult=True, gender=0, known_for_department='Acting', name='Smilla', original_name='Smilla', popularity=0.032, profile_path=None, cast_id=36, character='Girl on Bus', credit_id='64c1a48f2f1be000ae4bc698', order=27, total_episode_count=None, roles=None), Cast(id=1475496, adult=False, gender=0, known_for_department='Acting', name='Riley Neldam', original_name='Riley Neldam', popularity=1.967, profile_path='/vabMCNK2U2d9dyt4FfLVTp453yp.jpg', cast_id=37, character='Derek Mitchell', credit_id='64c1a49dede1b000e50d3eb4', order=28, total_episode_count=None, roles=None), Cast(id=4011560, adult=False, gender=0, known_for_department='Acting', name='Luis Arroyo Jr.', original_name='Luis Arroyo Jr.', popularity=0.001, profile_path=None, cast_id=38, character='Union Construction Worker', credit_id='64c1a4b1fdc1460139fa053d', order=29, total_episode_count=None, roles=None), Cast(id=1854056, adult=False, gender=1, known_for_department='Acting', name='Claire Ashton', original_name='Claire Ashton', popularity=1.813, profile_path='/fHN0zWdKVfyAMsjU5UyJXKeZ41x.jpg', cast_id=39, character='Office Worker', credit_id='64c1a4be13a32000ffbedef4', order=30, total_episode_count=None, roles=None), Cast(id=2655218, adult=False, gender=2, known_for_department='Acting', name='Christian Yeung', original_name='Christian Yeung', popularity=0.683, profile_path=None, cast_id=40, character='Agent Cheung', credit_id='64c1a4c913a3200139f0e052', order=31, total_episode_count=None, roles=None), Cast(id=2939069, adult=False, gender=0, known_for_department='Acting', name='Liam Edwards', original_name='Liam Edwards', popularity=0.638, profile_path=None, cast_id=41, character='Member of the Public', credit_id='64c1a4dbede1b0011f7db362', order=32, total_episode_count=None, roles=None), Cast(id=3840978, adult=False, gender=0, known_for_department='Acting', name='Tianyi Kiy', original_name='Tianyi Kiy', popularity=0.001, profile_path=None, cast_id=42, character='Pub Punter', credit_id='64c1a4e9fdc14600e28634da', order=33, total_episode_count=None, roles=None), Cast(id=1553053, adult=False, gender=2, known_for_department='Acting', name='Tommy Bayiokos', original_name='Tommy Bayiokos', popularity=1.711, profile_path='/81FT5dSauZgrArgtgXhOJyBVAoN.jpg', cast_id=43, character='Wedding Guest', credit_id='64c1a5082f1be0010c81f3eb', order=34, total_episode_count=None, roles=None), Cast(id=4182037, adult=False, gender=2, known_for_department='Acting', name='Stephane Fichet', original_name='Stephane Fichet', popularity=4.224, profile_path=None, cast_id=44, character='Maitre d’', credit_id='64c1a519097c49013a318ffb', order=35, total_episode_count=None, roles=None), Cast(id=1132158, adult=False, gender=0, known_for_department='Acting', name='Steve Mullins', original_name='Steve Mullins', popularity=0.594, profile_path=None, cast_id=45, character='Agent Sanson', credit_id='64c1a52813a32000e21ac319', order=36, total_episode_count=None, roles=None), Cast(id=4182238, adult=False, gender=0, known_for_department='Acting', name='Elena Bielova', original_name='Elena Bielova', popularity=0.001, profile_path=None, cast_id=46, character='Pub Guest', credit_id='64c1a534fdc14600ad552b98', order=37, total_episode_count=None, roles=None), Cast(id=1566132, adult=False, gender=0, known_for_department='Acting', name='Nathan Hall', original_name='Nathan Hall', popularity=0.477, profile_path='/g51jH3QoTMrBTaUhTDqF98cdGsn.jpg', cast_id=47, character='Passerby', credit_id='64c1a540097c49011d82e68a', order=38, total_episode_count=None, roles=None), Cast(id=3685928, adult=False, gender=0, known_for_department='Acting', name='Luqman A. Agiya', original_name='Luqman A. Agiya', popularity=0.001, profile_path=None, cast_id=48, character='NJ Construction Worker', credit_id='64c1a557ede1b000e50d3ef9', order=39, total_episode_count=None, roles=None), Cast(id=4182239, adult=False, gender=0, known_for_department='Acting', name='Tatanya Lowed-Spence', original_name='Tatanya Lowed-Spence', popularity=0.001, profile_path=None, cast_id=49, character='Assistant Stage Manager', credit_id='64c1a567097c49013a319023', order=40, total_episode_count=None, roles=None), Cast(id=1172059, adult=False, gender=0, known_for_department='Acting', name='Guy Robbins', original_name='Guy Robbins', popularity=2.874, profile_path=None, cast_id=50, character='Passerby', credit_id='64c1a5722f1be000ebd58e8e', order=41, total_episode_count=None, roles=None), Cast(id=3728083, adult=False, gender=0, known_for_department='Acting', name='Benny Bereal', original_name='Benny Bereal', popularity=0.732, profile_path=None, cast_id=51, character='Runway Marshall', credit_id='64c1a58e2f1be0010c81f417', order=42, total_episode_count=None, roles=None), Cast(id=2506333, adult=False, gender=2, known_for_department='Acting', name='Obie Matthew', original_name='Obie Matthew', popularity=3.932, profile_path='/dMf7uPLi74oLJcB67zMyRgcsO2u.jpg', cast_id=52, character='Union Worker', credit_id='64c1a5aedb4ed600c7847260', order=43, total_episode_count=None, roles=None), Cast(id=3538726, adult=False, gender=2, known_for_department='Acting', name='Giovanni James Bertoia', original_name='Giovanni James Bertoia', popularity=0.334, profile_path=None, cast_id=53, character='', credit_id='64c1a5b72f1be0014ef5f300', order=44, total_episode_count=None, roles=None), Cast(id=2732471, adult=False, gender=2, known_for_department='Acting', name='Robert John Gallagher', original_name='Robert John Gallagher', popularity=1.26, profile_path=None, cast_id=54, character='Union Construction Worker', credit_id='64c1a5cbbe55b7013cd58c38', order=45, total_episode_count=None, roles=None), Cast(id=4182242, adult=False, gender=0, known_for_department='Acting', name='Eugene Lin', original_name='Eugene Lin', popularity=0.001, profile_path=None, cast_id=55, character='Union Construction Worker', credit_id='64c1a5e5db4ed600aeb0379e', order=46, total_episode_count=None, roles=None), Cast(id=2435626, adult=False, gender=0, known_for_department='Acting', name='MJ Lee', original_name='MJ Lee', popularity=0.625, profile_path=None, cast_id=56, character='American News Presenter', credit_id='64c1a5f92f1be000ebd58eb1', order=47, total_episode_count=None, roles=None), Cast(id=4182243, adult=False, gender=0, known_for_department='Acting', name='Charlotte Aldhouse', original_name='Charlotte Aldhouse', popularity=0.001, profile_path=None, cast_id=57, character='Unison Worker', credit_id='64c1a60c097c49011d82e6d3', order=48, total_episode_count=None, roles=None), Cast(id=3891303, adult=False, gender=0, known_for_department='Acting', name='Nikky Athan', original_name='Nikky Athan', popularity=0.001, profile_path=None, cast_id=58, character='Electrician', credit_id='64c1a61bede1b000c8bcfda9', order=49, total_episode_count=None, roles=None), Cast(id=3678118, adult=False, gender=0, known_for_department='Acting', name='Nas Ganev', original_name='Nas Ganev', popularity=0.651, profile_path=None, cast_id=59, character='Suspicious Man', credit_id='64c1a628db4ed6013bf378a3', order=50, total_episode_count=None, roles=None), Cast(id=4182244, adult=False, gender=0, known_for_department='Acting', name='Jason Charles Onion', original_name='Jason Charles Onion', popularity=0.001, profile_path=None, cast_id=60, character='Party Guest', credit_id='64c1a63513a32000e21ac367', order=51, total_episode_count=None, roles=None), Cast(id=4182245, adult=False, gender=0, known_for_department='Acting', name='Prince Marfo', original_name='Prince Marfo', popularity=0.095, profile_path='/ySgf0wVyEqN5FQ7lpWtAiI00tdq.jpg', cast_id=61, character='Union Worker', credit_id='64c1a645fdc14600ad552be2', order=52, total_episode_count=None, roles=None), Cast(id=4182247, adult=False, gender=0, known_for_department='Acting', name='Mamie Barry', original_name='Mamie Barry', popularity=0.001, profile_path=None, cast_id=62, character='Girl', credit_id='64c1a655be55b700e34730f6', order=53, total_episode_count=None, roles=None), Cast(id=4136021, adult=False, gender=0, known_for_department='Acting', name='David Ambler', original_name='David Ambler', popularity=0.206, profile_path='/wJB1UkeRvGqFg8mN2L4Ib0wCbUn.jpg', cast_id=63, character='Delivery Driver', credit_id='64c1a662df86a8010636cb18', order=54, total_episode_count=None, roles=None), Cast(id=4182248, adult=False, gender=0, known_for_department='Acting', name='Gaj Mirtic', original_name='Gaj Mirtic', popularity=0.001, profile_path=None, cast_id=64, character=\"Quin's bodyguard\", credit_id='64c1a67c097c49013a319087', order=55, total_episode_count=None, roles=None), Cast(id=3332884, adult=False, gender=0, known_for_department='Production', name='Alex Merry', original_name='Alex Merry', popularity=0.001, profile_path=None, cast_id=65, character='Rayner', credit_id='64c1a68f2f1be000ca2705ce', order=56, total_episode_count=None, roles=None), Cast(id=2405880, adult=False, gender=2, known_for_department='Acting', name='Anthony Thomas', original_name='Anthony Thomas', popularity=0.514, profile_path='/jXTpl2nh6nFsLrILK8iSNusbNzf.jpg', cast_id=66, character='Boxer', credit_id='64c1a6a3db4ed600aeb037cb', order=57, total_episode_count=None, roles=None), Cast(id=4182251, adult=False, gender=0, known_for_department='Acting', name='Simon Steggall', original_name='Simon Steggall', popularity=0.001, profile_path=None, cast_id=67, character='Tourist', credit_id='64c1a6af1cfe3a0eb2828cdb', order=58, total_episode_count=None, roles=None), Cast(id=2766131, adult=False, gender=2, known_for_department='Acting', name='Cain Aiden', original_name='Cain Aiden', popularity=2.367, profile_path='/kfYliFAOtNwA2mwpLiR44MF0zPz.jpg', cast_id=68, character='Union Workman', credit_id='64c1a6c22f1be000ebd58ef0', order=59, total_episode_count=None, roles=None), Cast(id=4187325, adult=False, gender=2, known_for_department='Acting', name='Jason Latief Anderson', original_name='Jason Latief Anderson', popularity=1.054, profile_path='/aq8GCv618IGNki3Q7d0zbXiaMY9.jpg', cast_id=69, character='Pedestrian', credit_id='64c5ac3063e6fb00c408fcc0', order=60, total_episode_count=None, roles=None), Cast(id=4187328, adult=False, gender=0, known_for_department='Acting', name='Lincoln R. Beckett', original_name='Lincoln R. Beckett', popularity=0.001, profile_path=None, cast_id=70, character='Passerby', credit_id='64c5ac8363aad2020a8aaae1', order=61, total_episode_count=None, roles=None), Cast(id=2057332, adult=False, gender=0, known_for_department='Acting', name='Doug Berry', original_name='Doug Berry', popularity=1.411, profile_path=None, cast_id=71, character='Commuter', credit_id='64c5ac9463aad2020a8aaaef', order=62, total_episode_count=None, roles=None), Cast(id=3588769, adult=False, gender=0, known_for_department='Acting', name='Patrice Bevans', original_name='Patrice Bevans', popularity=0.001, profile_path=None, cast_id=72, character='Woman in the Square', credit_id='64c5aca6cadb6b00ac65ac5f', order=63, total_episode_count=None, roles=None), Cast(id=4187330, adult=False, gender=0, known_for_department='Acting', name='Carlos Damasceno', original_name='Carlos Damasceno', popularity=0.001, profile_path=None, cast_id=73, character='Spy', credit_id='64c5acb263a69500e6b6b355', order=64, total_episode_count=None, roles=None), Cast(id=4187332, adult=False, gender=0, known_for_department='Acting', name='Nick Donald', original_name='Nick Donald', popularity=0.001, profile_path=None, cast_id=74, character='Union Robot Operator', credit_id='64c5acd2cadb6b00c8298db8', order=65, total_episode_count=None, roles=None), Cast(id=1785923, adult=False, gender=2, known_for_department='Acting', name='Jag Patel', original_name='Jag Patel', popularity=1.676, profile_path='/uChgXgHBAFBsy3a9NrCiL0klPMS.jpg', cast_id=75, character='Theater Audience', credit_id='64c5ace163e6fb00c408fd93', order=66, total_episode_count=None, roles=None), Cast(id=2303017, adult=False, gender=2, known_for_department='Acting', name='Daniel Joseph Woolf', original_name='Daniel Joseph Woolf', popularity=0.958, profile_path='/it2F1ZSOqFp68td0IdfgniooE4d.jpg', cast_id=76, character='Agent', credit_id='64c5acec63e6fb00e12ac436', order=67, total_episode_count=None, roles=None)], crew=[Crew(id=230174, adult=False, gender=2, known_for_department='Writing', name='David Guggenheim', original_name='David Guggenheim', popularity=4.539, profile_path=None, credit_id='5ebd872e076ce8001f7509c4', department='Writing', job='Writer', total_episode_count=None, jobs=None, order=None), Crew(id=13240, adult=False, gender=2, known_for_department='Acting', name='Mark Wahlberg', original_name='Mark Wahlberg', popularity=65.926, profile_path='/bTEFpaWd7A6AZVWOqKKBWzKEUe8.jpg', credit_id='5ebe1afd15a4a1001e9ce98e', department='Production', job='Producer', total_episode_count=None, jobs=None, order=None), Crew(id=183044, adult=False, gender=2, known_for_department='Production', name='Stephen Levinson', original_name='Stephen Levinson', popularity=5.214, profile_path='/9MyZ7cYVtwog6Wge05eL8kruxJ8.jpg', credit_id='5ebe1b106d675a00207addc3', department='Production', job='Producer', total_episode_count=None, jobs=None, order=None), Crew(id=173667, adult=False, gender=2, known_for_department='Directing', name='Julian Farino', original_name='Julian Farino', popularity=9.451, profile_path='/hxXRkhFWCdKKklvU9OJk0WSHnZC.jpg', credit_id='628be19adf86a80066c811eb', department='Directing', job='Director', total_episode_count=None, jobs=None, order=None), Crew(id=53476, adult=False, gender=2, known_for_department='Production', name='Jeff G. Waxman', original_name='Jeff G. Waxman', popularity=0.717, profile_path='/dHFcDITJCwivJtURtIIyjmFb4fg.jpg', credit_id='628be2189a64350065ae358c', department='Production', job='Producer', total_episode_count=None, jobs=None, order=None), Crew(id=226587, adult=False, gender=2, known_for_department='Writing', name='Joe Barton', original_name='Joe Barton', popularity=6.425, profile_path='/tWeZkL0zVWeAI5moTAlDJSUVCOA.jpg', credit_id='628be2359a6435005096d4d0', department='Writing', job='Writer', total_episode_count=None, jobs=None, order=None), Crew(id=1108835, adult=False, gender=1, known_for_department='Production', name='Dixie Chassay', original_name='Dixie Chassay', popularity=2.909, profile_path='/zhcJAcL5PIC4qANcMoFvz6Unf7N.jpg', credit_id='62df2c6f33ad8f01bf8ab335', department='Production', job='Casting', total_episode_count=None, jobs=None, order=None), Crew(id=1429639, adult=False, gender=2, known_for_department='Camera', name='Alan Stewart', original_name='Alan Stewart', popularity=1.303, profile_path='/5xpJWIYsILrCbvz0raqzvX5iwsb.jpg', credit_id='632ee688c525c4007fed647f', department='Camera', job='Director of Photography', total_episode_count=None, jobs=None, order=None), Crew(id=33392, adult=False, gender=1, known_for_department='Editing', name='Pia Di Ciaula', original_name='Pia Di Ciaula', popularity=0.553, profile_path=None, credit_id='632ee691dd4716008e41b08b', department='Editing', job='Editor', total_episode_count=None, jobs=None, order=None), Crew(id=32263, adult=False, gender=0, known_for_department='Art', name='Morgan Kennedy', original_name='Morgan Kennedy', popularity=0.792, profile_path=None, credit_id='632ee69f7719d7007ac43fe3', department='Production', job='Production Designer', total_episode_count=None, jobs=None, order=None), Crew(id=978148, adult=False, gender=1, known_for_department='Art', name='Rebecca Alleway', original_name='Rebecca Alleway', popularity=1.175, profile_path=None, credit_id='632ee6ad7719d7007ac43fe9', department='Art', job='Set Decoration', total_episode_count=None, jobs=None, order=None), Crew(id=3738060, adult=False, gender=1, known_for_department='Production', name='Nancy Case', original_name='Nancy Case', popularity=0.568, profile_path=None, credit_id='63474f951b7c59007e6f3d97', department='Production', job='Casting Assistant', total_episode_count=None, jobs=None, order=None), Crew(id=2094300, adult=False, gender=1, known_for_department='Production', name='Lucy Jordan', original_name='Lucy Jordan', popularity=0.907, profile_path=None, credit_id='63508ef5be4b36009c62cc8f', department='Production', job='Casting Associate', total_episode_count=None, jobs=None, order=None), Crew(id=1815726, adult=False, gender=0, known_for_department='Sound', name='Ben Smithers', original_name='Ben Smithers', popularity=0.617, profile_path=None, credit_id='64c5ad3341aac40fb3e50ad4', department='Sound', job='Music Editor', total_episode_count=None, jobs=None, order=None), Crew(id=1641217, adult=False, gender=2, known_for_department='Sound', name='Mark Willsher', original_name='Mark Willsher', popularity=0.647, profile_path=None, credit_id='64c5ad3f63a695013d6e9bfc', department='Sound', job='Music Editor', total_episode_count=None, jobs=None, order=None), Crew(id=224052, adult=False, gender=1, known_for_department='Acting', name='Jolene Van Vugt', original_name='Jolene Van Vugt', popularity=3.179, profile_path='/1hT5gofX6jLXuJEWmHd5MjJew69.jpg', credit_id='65ea84dd3396b90162846103', department='Crew', job='Stunt Double', total_episode_count=None, jobs=None, order=None), Crew(id=2593, adult=False, gender=2, known_for_department='Sound', name='Rupert Gregson-Williams', original_name='Rupert Gregson-Williams', popularity=4.923, profile_path='/5vqYzOAWMAzkkMvnh5ZjCCgM42o.jpg', credit_id='667c5d131348b327c40873cf', department='Sound', job='Original Music Composer', total_episode_count=None, jobs=None, order=None), Crew(id=2441229, adult=False, gender=2, known_for_department='Crew', name='Oleg Podobin', original_name='Oleg Podobin', popularity=0.668, profile_path=None, credit_id='668d99103baebeeedd9eac10', department='Crew', job='Stunts', total_episode_count=None, jobs=None, order=None)], guest_stars=None), external_ids=ExternalIDs(id=None, facebook_id=None, freebase_id=None, freebase_mid=None, imdb_id='tt12610390', instagram_id=None, tvdb_id=None, tvrage_id=None, twitter_id=None, tiktok_id=None, youtube_id=None, wikidata_id='Q112124771'), images=None, keywords=None, recommendations=None, release_dates=None, reviews=None, similar=None, translations=None, videos=None, watch_providers=None)>\n",
            "id:  https://www.imdb.com/title/tt12610390\n"
          ]
        }
      ],
      "source": [
        "#  Obtener detalles de una búsqueda de peliculas\n",
        "movies = tmdb.search().movies(\"el sindicato\")\n",
        "movie_id = movies[0].id   # Obtener el primer resultado\n",
        "movie = tmdb.movie(movie_id).details(append_to_response=\"credits,external_ids, images, videos\")\n",
        "\n",
        "print(\"Titulo año.: \", movie.title, movie.year)\n",
        "print(\"Tagline: \", movie.tagline)\n",
        "print(\"url poster: \", movie.poster_url)\n",
        "print(\"id: \", movie.external_ids.imdb_url)"
      ]
    },
    {
      "cell_type": "code",
      "execution_count": 11,
      "metadata": {
        "colab": {
          "base_uri": "https://localhost:8080/"
        },
        "id": "fNc10jyFfQnd",
        "outputId": "73f136b3-b911-4cf6-84e7-e03091bfd333"
      },
      "outputs": [
        {
          "name": "stdout",
          "output_type": "stream",
          "text": [
            "Mark Wahlberg  -->  Mike McKenna\n",
            "Halle Berry  -->  Roxanne Hall\n",
            "J.K. Simmons  -->  Tom Brennan\n",
            "Mike Colter  -->  Nick Faraday\n",
            "Adewale Akinnuoye-Agbaje  -->  Frank Preiffer\n",
            "Jessica De Gouw  -->  Juliet Quinn\n",
            "Alice Lee  -->  Athena Kim\n",
            "Jackie Earle Haley  -->  Foreman\n",
            "Stephen Campbell Moore  -->  Cameron Foster\n",
            "Lorraine Bracco  -->  Lorraine McKenna\n",
            "Dana Delany  -->  Nicole\n",
            "Patch Darragh  -->  Bobby Breslin\n",
            "James McMenamin  -->  Johnny Healy\n",
            "Juan Carlos Hernández  -->  Billy Lewis\n",
            "Alex Brightman  -->  Gary\n",
            "Andrei Lenart  -->  Suspicious Man\n",
            "Susan Fordham  -->  Rollerskater\n",
            "Fahim Fazli  -->  Mo\n",
            "Robert Ryan  -->  Union Mechanic\n",
            "Lucy Cork  -->  Eilas Schiller\n",
            "Jeśka Pike  -->  CIA Operative\n",
            "Jen Jacob  -->  Stephanie\n",
            "Scott Rees  -->  Sam\n",
            "Julianna Kurokawa  -->  Agent Martin\n",
            "Adam Collins  -->  Agent Glover\n",
            "Richard Sutar  -->  Airport Ground Staff\n",
            "John-Deric Mitchell  -->  Head Bartender\n",
            "Smilla  -->  Girl on Bus\n",
            "Riley Neldam  -->  Derek Mitchell\n",
            "Luis Arroyo Jr.  -->  Union Construction Worker\n",
            "Claire Ashton  -->  Office Worker\n",
            "Christian Yeung  -->  Agent Cheung\n",
            "Liam Edwards  -->  Member of the Public\n",
            "Tianyi Kiy  -->  Pub Punter\n",
            "Tommy Bayiokos  -->  Wedding Guest\n",
            "Stephane Fichet  -->  Maitre d’\n",
            "Steve Mullins  -->  Agent Sanson\n",
            "Elena Bielova  -->  Pub Guest\n",
            "Nathan Hall  -->  Passerby\n",
            "Luqman A. Agiya  -->  NJ Construction Worker\n",
            "Tatanya Lowed-Spence  -->  Assistant Stage Manager\n",
            "Guy Robbins  -->  Passerby\n",
            "Benny Bereal  -->  Runway Marshall\n",
            "Obie Matthew  -->  Union Worker\n",
            "Giovanni James Bertoia  -->  \n",
            "Robert John Gallagher  -->  Union Construction Worker\n",
            "Eugene Lin  -->  Union Construction Worker\n",
            "MJ Lee  -->  American News Presenter\n",
            "Charlotte Aldhouse  -->  Unison Worker\n",
            "Nikky Athan  -->  Electrician\n",
            "Nas Ganev  -->  Suspicious Man\n",
            "Jason Charles Onion  -->  Party Guest\n",
            "Prince Marfo  -->  Union Worker\n",
            "Mamie Barry  -->  Girl\n",
            "David Ambler  -->  Delivery Driver\n",
            "Gaj Mirtic  -->  Quin's bodyguard\n",
            "Alex Merry  -->  Rayner\n",
            "Anthony Thomas  -->  Boxer\n",
            "Simon Steggall  -->  Tourist\n",
            "Cain Aiden  -->  Union Workman\n",
            "Jason Latief Anderson  -->  Pedestrian\n",
            "Lincoln R. Beckett  -->  Passerby\n",
            "Doug Berry  -->  Commuter\n",
            "Patrice Bevans  -->  Woman in the Square\n",
            "Carlos Damasceno  -->  Spy\n",
            "Nick Donald  -->  Union Robot Operator\n",
            "Jag Patel  -->  Theater Audience\n",
            "Daniel Joseph Woolf  -->  Agent\n"
          ]
        }
      ],
      "source": [
        "#  Creditos\n",
        "for actor in movie.credits.cast:\n",
        "    print(actor.name, \" --> \", actor.character)"
      ]
    },
    {
      "cell_type": "code",
      "execution_count": 17,
      "metadata": {
        "colab": {
          "base_uri": "https://localhost:8080/"
        },
        "id": "qCz5AX5ZgRys",
        "outputId": "478e41bd-df95-48e3-cec4-469535e9b362"
      },
      "outputs": [
        {
          "name": "stdout",
          "output_type": "stream",
          "text": [
            "Pelicula:  Jack \n",
            "Resumen:  A causa de un trastorno de envejecimiento inusual que le ha envejecido cuatro veces más rápido que un ser humano normal, un niño entra en el quinto grado por primera vez con el aspecto de un hombre de 40 años de edad. \n",
            "\n",
            "Serie:  Nurse Jackie \n",
            "Resumen:  Jackie es enfermera en urgencias en un hospital de Nueva York. Tiene un sentido del humor bastante negro, dos hijas, un amante, una lesión de espalda, una aprendiz que le sigue como un perrito y unos compañeros que a veces ayudan y a veces no. Entre las cuatro paredes del centro médico, Jackie desarrolla su propia versión terrorista del mito de Robin Hood y da a los pobres lo que quita a los ricos, sean estos ricos en dinero, en órganos extraíbles para trasplantes o de cualquier otro tipo. Comparte escenario con dos médicos poco convencionales: Eleanor O'Hara, que podría sufrir un ataque e ansiedad sólo de pensar que le obligaban a comerse un perrito caliente y Fitch Cooper, con el título todavía caliente y muchos pájaros en la cabeza. \n",
            "\n",
            "Serie:  True Jackson \n",
            "Resumen:  Una impulsiva ejecutiva de la moda ofrece a True Jackson, una adolescente de 15 años de edad, un puesto como vicepresidenta de una compañía dedicada a la línea de ropa juvenil. \n",
            "\n",
            "Pelicula:  Jack en la caja maldita 3 \n",
            "Resumen:  Cuando una adolescente estadounidense accede a un internado femenino del Reino Unido, sus compañeras no tardan en darse cuenta de que ha ido a buscar una misteriosa caja de juguetes escondida en el patio del colegio. Tras encontrarla y abrirla, seis alumnos se lanzan a una lucha por la supervivencia contra un demonio que escapa de su interior. ¿Lograrán salir con vida de la escuela, o el demonio cobrará las víctimas que necesita para seguir vivo? \n",
            "\n",
            "Serie:  Jack Ryan de Tom Clancy \n",
            "Resumen:  Cuando el analista de la CIA, Jack Ryan, se tropieza con una serie de transferencias bancarias sospechosas, su búsqueda de respuestas lo saca de la seguridad de su escritorio y lo catapulta hacia un juego mortal del gato y el ratón por toda Europa y Oriente Medio, donde se encuentra a un terrorista que prepara un ataque masivo contra Estados Unidos y sus aliados. \n",
            "\n",
            "Serie:  Las aventuras de Jackie Chan \n",
            "Resumen:  Las aventuras de Jackie Chan es una serie animada que se centra a las aventuras de una versión ficticia del conocido actor de películas de acción Jackie Chan. La serie se emitió originalmente por el bloque Kids´WB! a partir del 9 de septiembre del 2000 hasta el 8 de julio de 2005, con un total de 95 episodios en 5 temporadas. Actualmente la serie se emite en Estados Unidos por el canal Disney XD, y en Latinoamérica por el canal Boomerang. Las aventuras de Jackie Chan es una serie de episodios donde Jackie, su sobrina Jade, su tío, Toru y el capitán Black de la sección 13 tratan de parar la maldad de los demonios en los portales. Jackie es un arqueólogo y también un agente. Jackie y sus amigos quieren tener los 12 talismanes para tener poder cuando los portales se abran y tratar de eliminarlos, los talismanes solo pueden ayudar a hacer el conjuro chi rápido. \n",
            "\n",
            "Pelicula:  Percy Jackson y el ladrón del rayo \n",
            "Resumen:  Adaptación de la novela publicada en España con el título de 'El Ladrón del Rayo. Después de ir a un campamento, Percy, un chico aparentemente normal, (Lerman) descubre que es hijo de Poseidón, el dios de los mares, y que su mejor amigo Grover (Jackson) es un sátiro. A partir de ahí, él y sus dos amigos (dos semidioses y un sátiro) recorrerán el país, que está plagado de monstruos mitológicos, para restaurar el orden cósmico antes de que se ponga el sol en el día más largo del año. Percy busca recuperar la paz, rescatar a su madre, conocer a su padre y comprender quién es él mismo. Todo un reto que debe superar en apenas diez días. \n",
            "\n",
            "Pelicula:  Jackpot! \n",
            "Resumen:  En un futuro próximo, se ha creado el sorteo de la Gran Lotería. El truco es matar al ganador antes del anochecer y reclamar legalmente el bote multimillonario. Cuando Katie Kim se hace con el boleto ganador por error, se une a regañadientes al agente novato de protección de la lotería Noel Cassidy, que deberá mantenerla con vida a cambio de una parte del premio. \n",
            "\n",
            "Pelicula:  Jack \n",
            "Resumen:   \n",
            "\n",
            "Pelicula:  Jack \n",
            "Resumen:  Jack, de diez años, debe ocuparse todos los días, desde que se levanta hasta que se acuesta, de su hermano pequeño, Manuel, de seis. Cuando este sufre un accidente, las vidas de ambos cambian para siempre. \n",
            "\n",
            "Serie:  Black Jack \n",
            "Resumen:  Black Jack es un médico 'no registrado' con un pasado misterioso y nublado. Trabaja con su pequeña asistente Pinoko (que está enormemente enamorada del médico), ocupándose de casos médicos no muy conocidos, que pueden ser extraños, peligrosos o desconocidos en absoluto. Pero es un genio y puede salvar casi cualquier vida de sus pacientes (siempre que tengan el dinero para ello, claro está), y es conocido por muchos en todo el mundo, especialmente entre los de la medicina y la ciencia. Él mismo es un hombre de ciencia y no cree mucho hasta que lo ha visto, sin embargo, muchas veces se sorprende cuando el amor y la naturaleza a menudo dominan la ciencia en la que basa su vida. \n",
            "\n",
            "Serie:  Jack \n",
            "Resumen:   \n",
            "\n",
            "Serie:  Percy Jackson y los dioses del Olimpo \n",
            "Resumen:  Percy Jackson emprende una peligrosa misión. Dejando atrás a los monstruos y burlando a los dioses, recorrerá Estados Unidos para devolver el Rayo Maestro de Zeus y evitar la guerra. Con ayuda de sus compañeros de misión, Annabeth y Grover, el viaje de Percy lo acercará más a las respuestas que busca: cómo encajar en un mundo que le es ajeno y si logrará entender su destino. \n",
            "\n",
            "Pelicula:  Jack \n",
            "Resumen:   \n",
            "\n",
            "Serie:  The Jack Benny Program \n",
            "Resumen:   \n",
            "\n",
            "Pelicula:  Jack Reacher: Nunca vuelvas atrás \n",
            "Resumen:  La Mayor Susan Turner, líder de la antigua unidad militar de Reacher, es falsamente acusada de traición. Jack Reacher tendrá que sacarla de prisión y descubrir la verdad detrás de una conspiración gubernamental para limpiar sus nombres y salvar sus vidas. Durante el escape, Reacher descubrirá un secreto de su pasado que podría cambiar su vida para siempre. Secuela de \"Jack Reacher\" (2012). \n",
            "\n",
            "Serie:  Black Jack \n",
            "Resumen:  Kuroo Hazama, también conocido como \"Black Jack\", es una leyenda en el mundo médico. Famoso por ser uno de los mejores, además de no tener una licencia, Hazama y su asistente Pinoko salvan innumerables vidas que otros médicos no pueden ... por un precio; un precio exorbitante, de hecho, que hace que muchos vean al genio como codicioso y despiadado. Sin embargo, a pesar de estas afirmaciones, nadie puede negar su habilidad y los esfuerzos que hará para tratar a sus pacientes. Este oscuro drama médico cuenta la historia del ominoso y misterioso mundo de la medicina subterránea cuando Black Jack arriesga su vida para curar algunas de las enfermedades más extrañas imaginables, incluso si eso significa violar todas las leyes del proceso. \n",
            "\n",
            "Pelicula:  Jack \n",
            "Resumen:   \n",
            "\n",
            "Persona:  Jack \n",
            "Biografia:   \n",
            "\n",
            "Pelicula:  Jack y su gemela \n",
            "Resumen:  Jack (Adam Sandler) es un padre de familia que tiene que afrontar un arduo problema: la llegada por Navidad de su odiada hermana Jill. Por si fuera poco, lo que, en principio, iba a ser una visita de pocos días, se alarga más de lo previsto, lo que obliga a Jack y Jill a intentar limar asperezas. \n",
            "\n"
          ]
        }
      ],
      "source": [
        "#  Ejemplo busqueda general para clasificar.\n",
        "\n",
        "results = tmdb.search().multi(\"jack\")\n",
        "for result in results:\n",
        "    if result.is_movie():\n",
        "        movie = tmdb.movie(result.id).details()\n",
        "        print(\"Pelicula: \", movie, \"\\nResumen: \", movie.overview, \"\\n\")\n",
        "    elif result.is_person():\n",
        "        person = tmdb.person(result.id).details()\n",
        "        print(\"Persona: \", person, \"\\nBiografia: \", person.biography, \"\\n\")\n",
        "    elif result.is_tv():\n",
        "        tv = tmdb.tv(result.id).details()\n",
        "        print(\"Serie: \", tv, \"\\nResumen: \", tv.overview, \"\\n\")"
      ]
    }
  ],
  "metadata": {
    "colab": {
      "provenance": []
    },
    "kernelspec": {
      "display_name": "Python 3",
      "name": "python3"
    },
    "language_info": {
      "codemirror_mode": {
        "name": "ipython",
        "version": 3
      },
      "file_extension": ".py",
      "mimetype": "text/x-python",
      "name": "python",
      "nbconvert_exporter": "python",
      "pygments_lexer": "ipython3",
      "version": "3.11.3"
    }
  },
  "nbformat": 4,
  "nbformat_minor": 0
}
