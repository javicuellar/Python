{
 "cells": [
  {
   "attachments": {},
   "cell_type": "markdown",
   "metadata": {},
   "source": [
    "# Librería SMB - SAMBA (acceso a Servidor)\n",
    "\n",
    "_____________________________________________"
   ]
  },
  {
   "cell_type": "code",
   "execution_count": 8,
   "metadata": {},
   "outputs": [],
   "source": [
    "from smb.SMBConnection import SMBConnection\n",
    "\n",
    "servidor = 'javicu.synology.me'\n",
    "usuario = 'Invitado'\n",
    "password = '1234'\n",
    "dominio = 'NAS'"
   ]
  },
  {
   "attachments": {},
   "cell_type": "markdown",
   "metadata": {},
   "source": [
    "### Conexión al servidor"
   ]
  },
  {
   "cell_type": "code",
   "execution_count": 9,
   "metadata": {},
   "outputs": [],
   "source": [
    "try:\n",
    "    conn = SMBConnection(usuario, password, dominio, servidor)\n",
    "    connected = conn.connect(servidor)\n",
    "except:\n",
    "    print('### can not access the system')"
   ]
  },
  {
   "attachments": {},
   "cell_type": "markdown",
   "metadata": {},
   "source": [
    "### Acceso a carpetas compartidas - **conn.listShares()** "
   ]
  },
  {
   "cell_type": "code",
   "execution_count": 10,
   "metadata": {},
   "outputs": [
    {
     "name": "stdout",
     "output_type": "stream",
     "text": [
      "Shares on: NAS\n",
      "   NAS \\  Backup\n",
      "   NAS \\  BackupPC\n",
      "   NAS \\  homes\n",
      "   NAS \\  Invitados\n",
      "   NAS \\  music\n",
      "   NAS \\  photo\n",
      "   NAS \\  Servidor\n",
      "   NAS \\  surveillance\n",
      "   NAS \\  video\n",
      "   NAS \\  IPC$\n",
      "   NAS \\  home\n"
     ]
    }
   ],
   "source": [
    "try:\n",
    "    print('Shares on: ' + dominio)\n",
    "    directorios = conn.listShares()              # obtain a list of shares\n",
    "\n",
    "    for directorio in directorios:\n",
    "        # list the files on each share\n",
    "        print('   ' + dominio + ' \\ ', directorio.name)\n",
    "except:\n",
    "    print('### can not list shares')  "
   ]
  },
  {
   "cell_type": "code",
   "execution_count": 11,
   "metadata": {},
   "outputs": [
    {
     "name": "stdout",
     "output_type": "stream",
     "text": [
      "\\Backup          ## Recurso NO accesible\n",
      "\\BackupPC          ## Recurso NO accesible\n",
      "\\homes          ## Recurso NO accesible\n",
      "\\Invitados\n",
      "* \\Invitados\\imagen.png   (fichero)\n",
      "* \\Invitados\\archivo.txt   (fichero)\n",
      "\\music          ## Recurso NO accesible\n",
      "\\photo          ## Recurso NO accesible\n",
      "\\Servidor          ## Recurso NO accesible\n",
      "\\surveillance          ## Recurso NO accesible\n",
      "\\video          ## Recurso NO accesible\n",
      "\\home\n"
     ]
    }
   ],
   "source": [
    "import os\n",
    "\n",
    "def LeerDirectorio(directorio, ruta):\n",
    "    try:\n",
    "        path = os.path.normpath('/' + directorio + ruta)\n",
    "        archivos = conn.listPath(directorio, ruta)\n",
    "        print(path)\n",
    "        \n",
    "        for archivo in archivos:\n",
    "            if archivo.isDirectory:\n",
    "                if archivo.filename not in ['.', '..']:\n",
    "                    ruta = os.path.join(ruta, archivo.filename)\n",
    "                    LeerDirectorio(directorio, ruta)\n",
    "            else:\n",
    "                fichero = os.path.normpath(os.path.join(path, archivo.filename))\n",
    "                print('*', fichero , \"  (fichero)\")\n",
    "    except:\n",
    "        print(path, '         ## Recurso NO accesible')\n",
    "            \n",
    "\n",
    "#  Listado de archivos en cada carpeta compartida\n",
    "for directorio in directorios:\n",
    "    if not directorio.isSpecial:\n",
    "        LeerDirectorio(directorio.name, '/')\n"
   ]
  },
  {
   "attachments": {},
   "cell_type": "markdown",
   "metadata": {},
   "source": [
    "### Cerrar conexión"
   ]
  },
  {
   "cell_type": "code",
   "execution_count": null,
   "metadata": {},
   "outputs": [],
   "source": [
    "conn.close()"
   ]
  }
 ],
 "metadata": {
  "kernelspec": {
   "display_name": "Python 3",
   "language": "python",
   "name": "python3"
  },
  "language_info": {
   "codemirror_mode": {
    "name": "ipython",
    "version": 3
   },
   "file_extension": ".py",
   "mimetype": "text/x-python",
   "name": "python",
   "nbconvert_exporter": "python",
   "pygments_lexer": "ipython3",
   "version": "3.11.3"
  },
  "orig_nbformat": 4
 },
 "nbformat": 4,
 "nbformat_minor": 2
}
