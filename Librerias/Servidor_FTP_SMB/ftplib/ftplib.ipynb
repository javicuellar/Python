{
 "cells": [
  {
   "attachments": {},
   "cell_type": "markdown",
   "metadata": {},
   "source": [
    "# Librería FTPLIB (acceso al Servidor)\n",
    "\n",
    "_____________________________________________\n",
    "\n",
    "visto en     https://decodigo.com/cliente-ftp-en-python\n",
    "\n",
    "búsqueda    python ftp"
   ]
  },
  {
   "cell_type": "code",
   "execution_count": 6,
   "metadata": {},
   "outputs": [],
   "source": [
    "from ftplib import FTP, all_errors\n",
    "\n",
    "servidor = 'javicu.synology.me'\n",
    "usuario = 'invitado'\n",
    "password = '1234'"
   ]
  },
  {
   "attachments": {},
   "cell_type": "markdown",
   "metadata": {},
   "source": [
    "### Conexión al servidor"
   ]
  },
  {
   "cell_type": "code",
   "execution_count": 7,
   "metadata": {},
   "outputs": [
    {
     "name": "stdout",
     "output_type": "stream",
     "text": [
      "220 NAS FTP server ready.\n"
     ]
    }
   ],
   "source": [
    "# Conectarse en un solo paso (puerto 21)\n",
    "with FTP(host=servidor, user=usuario, passwd=password) as ftp:\n",
    "    print(ftp.getwelcome())"
   ]
  },
  {
   "cell_type": "code",
   "execution_count": 8,
   "metadata": {},
   "outputs": [
    {
     "name": "stdout",
     "output_type": "stream",
     "text": [
      "220 NAS FTP server ready.\n"
     ]
    }
   ],
   "source": [
    "# Conectarse en pasos separados para definir puerto 29\n",
    "ftp = FTP()\n",
    "ftp.connect(servidor, 21)\n",
    "ftp.login(usuario, password)\n",
    "print(ftp.getwelcome())"
   ]
  },
  {
   "attachments": {},
   "cell_type": "markdown",
   "metadata": {},
   "source": [
    "### Control errores"
   ]
  },
  {
   "cell_type": "code",
   "execution_count": 3,
   "metadata": {},
   "outputs": [
    {
     "name": "stdout",
     "output_type": "stream",
     "text": [
      "/\n"
     ]
    }
   ],
   "source": [
    "with FTP(servidor, usuario, password) as ftp:\n",
    "    try:\n",
    "        print(ftp.pwd())\n",
    "    except ftplib.all_errors as e:\n",
    "        print(f'Error en FTP: {e}')"
   ]
  },
  {
   "cell_type": "code",
   "execution_count": null,
   "metadata": {},
   "outputs": [],
   "source": [
    "# Conexión en un paso (sirve solo para puerto predeterminado 21)\n",
    "with FTP(servidor, usuario, password) as ftp:\n",
    "    print(\"Directorio defecto: \", ftp.pwd())  # Muestra la carpeta default\n",
    "    print(\"Cambio a directorio video: \", ftp.cwd('video'))\n",
    "    print(\"Directorio defecto: \", ftp.pwd())\n",
    "    files = []\n",
    "    ftp.dir(files.append)\n",
    "    for f in files:\n",
    "        print(f)\n",
    "    # ftp.mkd('mi_directorio')\n",
    "    # ftp.rmd('mi_directorio')"
   ]
  },
  {
   "attachments": {},
   "cell_type": "markdown",
   "metadata": {},
   "source": [
    "### Trabajar con directorios\n",
    "\n",
    "* **pwd**.- Carpeta por defecto\n",
    "* **mkd**.- Crear directorio\n",
    "* **rmd**.- Eliminar directorio\n",
    "* **cmd**.- Cambiar directorio\n",
    "* **dir**.- Listar contenido de un directorio\n",
    "* **rename(‘nombre_anterior.txt’, ‘ nombre_nuevo.txt’)**.- Renombrar fichero\n",
    "* **delete(fichero)**.- Eliminar fichero "
   ]
  },
  {
   "cell_type": "code",
   "execution_count": 9,
   "metadata": {},
   "outputs": [
    {
     "name": "stdout",
     "output_type": "stream",
     "text": [
      "Directorio defecto:  /\n",
      "-rwxrwxrwx   1 Invitado users              14 Apr 16 17:03 archivo.txt\n",
      "-rwxrwxrwx   1 Invitado users          231769 Apr 16 17:03 imagen.png\n",
      "drwxrwxrwx   1 Invitado users             104 Apr 20 08:43 mi_directorio\n"
     ]
    }
   ],
   "source": [
    "#  Muestra la carpeta default\n",
    "print(\"Directorio defecto: \", ftp.pwd())\n",
    "\n",
    "#  Lectura del contenido del directorio\n",
    "files = []\n",
    "ftp.dir(files.append)\n",
    "for f in files:\n",
    "    print(f)"
   ]
  },
  {
   "cell_type": "code",
   "execution_count": 11,
   "metadata": {},
   "outputs": [
    {
     "name": "stdout",
     "output_type": "stream",
     "text": [
      "Directorio:  /mi_directorio\n",
      "-rwxrwxrwx   1 Javi     users           99584 Jul 30  2021 Aunque tenga miedo, hagalo igual.pdf\n",
      "-rwxrwxrwx   1 Javi     users          638350 Nov 25  2022 Finis Mundi.epub\n"
     ]
    }
   ],
   "source": [
    "#  Cambiar a directorio Invitados\n",
    "ftp.cwd('mi_directorio')\n",
    "\n",
    "#  Mostrar directorio actual y contenido\n",
    "print(\"Directorio: \", ftp.pwd())\n",
    "files = []\n",
    "ftp.dir(files.append)\n",
    "for f in files:\n",
    "    print(f)"
   ]
  },
  {
   "cell_type": "code",
   "execution_count": 18,
   "metadata": {},
   "outputs": [
    {
     "data": {
      "text/plain": [
       "'mi_directorio'"
      ]
     },
     "execution_count": 18,
     "metadata": {},
     "output_type": "execute_result"
    }
   ],
   "source": [
    "#  Crear un nuevo directorio\n",
    "ftp.mkd('mi_directorio')\n",
    "# ftp.rmd('mi_directorio')"
   ]
  },
  {
   "cell_type": "code",
   "execution_count": null,
   "metadata": {},
   "outputs": [],
   "source": [
    "#  Cambiar a directorio Invitados\n",
    "ftp.cwd('mi_directorio')\n",
    "\n",
    "#  Mostrar directorio actual y contenido\n",
    "print(\"Directorio: \", ftp.pwd())\n",
    "files = []\n",
    "ftp.dir(files.append)\n",
    "for f in files:\n",
    "    print(f)"
   ]
  },
  {
   "cell_type": "code",
   "execution_count": 10,
   "metadata": {},
   "outputs": [
    {
     "name": "stdout",
     "output_type": "stream",
     "text": [
      "Error al renombrar archivo en el servidor: 421 Timeout (300 seconds): closing control connection.\n"
     ]
    }
   ],
   "source": [
    "#  Renombrar fichero o directorio\n",
    "try:\n",
    "    ftp.rename('archivo1.txt', 'archivo.txt')\n",
    "except all_errors as error:\n",
    "    print(f'Error al renombrar archivo en el servidor: {error}')"
   ]
  },
  {
   "cell_type": "code",
   "execution_count": 56,
   "metadata": {},
   "outputs": [],
   "source": [
    "#  Eliminar fichero\n",
    "try:\n",
    "    ftp.delete('archivo.txt')\n",
    "except all_errors as error:\n",
    "    print(f'Error al borrar archivo: {error}') "
   ]
  },
  {
   "cell_type": "code",
   "execution_count": 26,
   "metadata": {},
   "outputs": [],
   "source": [
    "#  Cierre conexión\n",
    "ftp.close()"
   ]
  },
  {
   "attachments": {},
   "cell_type": "markdown",
   "metadata": {},
   "source": [
    "### Envío de ficheros\n",
    "\n",
    "* **storlines**.- Envío de ficheros de texto\n",
    "* **storbinary**.- Envío de ficheros binarios (imágenes, etc.)"
   ]
  },
  {
   "cell_type": "code",
   "execution_count": 57,
   "metadata": {},
   "outputs": [],
   "source": [
    "# For text or binary file, always use \"rb\"\n",
    "with open('archivo.txt', 'rb') as text_file:\n",
    "    ftp.storlines('STOR archivo.txt', text_file)\n",
    "with open('imagen.png', 'rb') as image_file:\n",
    "    ftp.storbinary('STOR imagen.png', image_file)"
   ]
  },
  {
   "attachments": {},
   "cell_type": "markdown",
   "metadata": {},
   "source": [
    "### Recepción de ficheros, primero obtenemos tamazo (size)\n",
    "\n",
    "* **sendcmd('TYPE I') y size(fichero)**.- Obtener tamaño de fichero binario\n",
    "* **sendcmd('TYPE A') y size(fichero)**.- Obtener tamaño de fichero texto\n",
    "* **retrlines**.- Recibe fichero de texto\n",
    "* **retrbinary**.- Recibe fichero binario (imágenes, etc.)"
   ]
  },
  {
   "cell_type": "code",
   "execution_count": 53,
   "metadata": {},
   "outputs": [
    {
     "name": "stdout",
     "output_type": "stream",
     "text": [
      "231769\n",
      "14\n"
     ]
    }
   ],
   "source": [
    "#   Obtenemos el tamaño de los ficheros\n",
    "try:\n",
    "    ftp.sendcmd('TYPE I')           # Para archivos binarios\n",
    "    print(ftp.size('imagen.png'))   # obtiene el tamaño de la imagen en el server\n",
    "except all_errors as error:\n",
    "    print(f\"Error al obtener tamaño de imagen: {error}\")\n",
    "try:\n",
    "    ftp.sendcmd('TYPE A')           # Para texto\n",
    "    print(ftp.size('archivo.txt'))\n",
    "except all_errors as error:\n",
    "    print(f\"Error al obtener tamaño de archivo: {error}\")"
   ]
  },
  {
   "cell_type": "code",
   "execution_count": 54,
   "metadata": {},
   "outputs": [
    {
     "name": "stdout",
     "output_type": "stream",
     "text": [
      "Transferencia completa\n"
     ]
    }
   ],
   "source": [
    "#  Recibir ficheros del Servidor\n",
    "\n",
    "# Para archivos de texto\n",
    "with open('nombre_texto_local.txt', 'w') as local_file:  # Abre un archivo de texto localmente para escritura\n",
    "    response = ftp.retrlines('RETR archivo.txt', local_file.write)\n",
    "    # Revisa la respuesta\n",
    "    # https://en.wikipedia.org/wiki/List_of_FTP_server_return_codes\n",
    "    if response.startswith('226'):  # Transferencia completa\n",
    "        print('Transferencia completa')\n",
    "    else:\n",
    "        print('Error de transferencia. El archivo puede estar incompleto o corrupto.')\n",
    "\n",
    "# Para archivos binarios\n",
    "with open('imagen_local.png', 'wb') as local_file:\n",
    "    ftp.retrbinary('RETR imagen.png', local_file.write)"
   ]
  },
  {
   "attachments": {},
   "cell_type": "markdown",
   "metadata": {},
   "source": [
    "### Comando FTP - LIST, RETR, NLST o MLSD\n",
    "\n",
    "* **retrlines(LIST)**.- Listar componentes del directorio\n",
    "* **retrbinary(RETR ...)**.- Descargar archivo (no cierra el fichero)\n",
    "* **retrlines(NLST)**.- Devuelve listado simple del contenido (sin información de si es directorio)\n",
    "* **retrlines(MLSD)**.- Devuelve listado con el contenido con formato, campos"
   ]
  },
  {
   "cell_type": "code",
   "execution_count": 4,
   "metadata": {},
   "outputs": [
    {
     "name": "stdout",
     "output_type": "stream",
     "text": [
      "-rwxrwxrwx   1 Invitado users              14 Apr 16 17:03 archivo.txt\n",
      "-rwxrwxrwx   1 Invitado users          231769 Apr 16 17:03 imagen.png\n",
      "drwxrwxrwx   1 Invitado users               0 Apr 16 16:31 mi_directorio\n"
     ]
    },
    {
     "data": {
      "text/plain": [
       "'226 Transfer complete.'"
      ]
     },
     "execution_count": 4,
     "metadata": {},
     "output_type": "execute_result"
    }
   ],
   "source": [
    "ftp.retrlines('LIST') "
   ]
  },
  {
   "cell_type": "code",
   "execution_count": 6,
   "metadata": {},
   "outputs": [
    {
     "data": {
      "text/plain": [
       "'226 Transfer complete.'"
      ]
     },
     "execution_count": 6,
     "metadata": {},
     "output_type": "execute_result"
    }
   ],
   "source": [
    "#  Descarga el fichero archivo.txt del servidor (no cierra el fichero de salida)\n",
    "ftp.retrbinary('RETR archivo.txt', open('archivo.txt', 'wb').write)"
   ]
  },
  {
   "cell_type": "code",
   "execution_count": 7,
   "metadata": {},
   "outputs": [
    {
     "name": "stdout",
     "output_type": "stream",
     "text": [
      "archivo.txt\n",
      "imagen.png\n",
      "mi_directorio\n"
     ]
    },
    {
     "data": {
      "text/plain": [
       "'226 Transfer complete.'"
      ]
     },
     "execution_count": 7,
     "metadata": {},
     "output_type": "execute_result"
    }
   ],
   "source": [
    "ftp.retrlines('NLST')"
   ]
  },
  {
   "cell_type": "code",
   "execution_count": 8,
   "metadata": {},
   "outputs": [
    {
     "name": "stdout",
     "output_type": "stream",
     "text": [
      "modify=20230416170348;type=file;unique=30U10A;size=14;UNIX.mode=0777;UNIX.owner=Invitado;UNIX.group=users; archivo.txt\n",
      "modify=20230416170348;type=file;unique=30U107;size=231769;UNIX.mode=0777;UNIX.owner=Invitado;UNIX.group=users; imagen.png\n",
      "modify=20230416163133;type=dir;unique=30U105;size=0;UNIX.mode=0777;UNIX.owner=Invitado;UNIX.group=users; mi_directorio\n"
     ]
    },
    {
     "data": {
      "text/plain": [
       "'226 Transfer complete.'"
      ]
     },
     "execution_count": 8,
     "metadata": {},
     "output_type": "execute_result"
    }
   ],
   "source": [
    "ftp.retrlines('MLSD')"
   ]
  }
 ],
 "metadata": {
  "kernelspec": {
   "display_name": "base",
   "language": "python",
   "name": "python3"
  },
  "language_info": {
   "codemirror_mode": {
    "name": "ipython",
    "version": 3
   },
   "file_extension": ".py",
   "mimetype": "text/x-python",
   "name": "python",
   "nbconvert_exporter": "python",
   "pygments_lexer": "ipython3",
   "version": "3.11.3"
  },
  "orig_nbformat": 4,
  "vscode": {
   "interpreter": {
    "hash": "6f5583cf1d9466b5c27e75c89cc6b383bed5736d6b16c51c8074d8690011a952"
   }
  }
 },
 "nbformat": 4,
 "nbformat_minor": 2
}
