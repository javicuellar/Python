{
 "cells": [
  {
   "cell_type": "markdown",
   "metadata": {},
   "source": [
    "### Pruebas de búsqueda en web de viajes de esquí (MAS PAGINAS de las 10 primeras)"
   ]
  },
  {
   "cell_type": "code",
   "execution_count": 9,
   "metadata": {},
   "outputs": [],
   "source": [
    "# Importamos librerías de trabajo\n",
    "import time\n",
    "import random\n",
    "import pandas as pd\n",
    "from selenium import webdriver\n",
    "from selenium.webdriver.common.by import By\n",
    "from selenium.webdriver.common.keys import Keys\n",
    "from webdriver_manager.chrome import ChromeDriverManager\n",
    "from selenium.webdriver.chrome.service import Service\n",
    "from selenium.webdriver.chrome.options import Options"
   ]
  },
  {
   "cell_type": "code",
   "execution_count": 10,
   "metadata": {},
   "outputs": [],
   "source": [
    "# Inicializar el navegador\n",
    "chrome_options = Options()\n",
    "chrome_options.add_argument(\"user-agent=Mozilla/5.0 (Windows NT 10.0; Win64; x64) \"\n",
    "                            \"AppleWebkit/537.36 (KHTML, like Gecko) \"\n",
    "                            \"Chrome/91.0.4472.77 Safari/537.36\")\n",
    "\n",
    "service = Service(ChromeDriverManager().install())\n",
    "driver = webdriver.Chrome(service=service, options=chrome_options)\n",
    "driver.maximize_window()"
   ]
  },
  {
   "cell_type": "code",
   "execution_count": 11,
   "metadata": {},
   "outputs": [],
   "source": [
    "termino = \"viaje esqui ayuntamiento\""
   ]
  },
  {
   "cell_type": "markdown",
   "metadata": {},
   "source": [
    "#### Búsqueda con google -> bloquea con captcha al detectar que es un robot"
   ]
  },
  {
   "cell_type": "code",
   "execution_count": null,
   "metadata": {},
   "outputs": [],
   "source": [
    "# Prefereiblemente buscar con google, hay más resultados\n",
    "driver.get(\"https://www.google.es\")\n",
    "\n",
    "# Esperar como humano\n",
    "time.sleep(random.randint(3,5))\n",
    "\n",
    "# Encontrar botón de Rechazar cookies\n",
    "try:\n",
    "    driver.find_element(By.ID, \"W0wltc\").click()\n",
    "except:\n",
    "    pass\n",
    "\n",
    "# Esperar como humano\n",
    "time.sleep(random.randint(1,5))\n",
    "\n",
    "# Encontrar termino en caja de búsqueda\n",
    "caja_busqueda = driver.find_element(By.NAME, \"q\")\n",
    "caja_busqueda.send_keys(termino)\n",
    "\n",
    "# Esperar como humano\n",
    "time.sleep(random.randint(3,5))\n",
    "caja_busqueda.send_keys(Keys.RETURN)\n",
    "\n",
    "#  Con google detecta que es un robot y bloquea con captcha"
   ]
  },
  {
   "cell_type": "markdown",
   "metadata": {},
   "source": [
    "#### Búsqueda con Duckduckgo -> Funciona"
   ]
  },
  {
   "cell_type": "code",
   "execution_count": 12,
   "metadata": {},
   "outputs": [],
   "source": [
    "driver.get(\"https://duckduckgo.com\")\n",
    "\n",
    "# Esperar como humano\n",
    "time.sleep(random.randint(1,5))\n",
    "\n",
    "# Encontrar termino en caja de búsqueda\n",
    "caja_busqueda = driver.find_element(By.NAME, \"q\")\n",
    "caja_busqueda.send_keys(termino)\n",
    "\n",
    "# Esperar como humano\n",
    "time.sleep(random.randint(3,5))\n",
    "caja_busqueda.send_keys(Keys.RETURN)"
   ]
  },
  {
   "cell_type": "code",
   "execution_count": null,
   "metadata": {},
   "outputs": [],
   "source": [
    "# Esperar a que se carguen los resultados\n",
    "time.sleep(random.randint(2,5))\n",
    "        \n",
    "# Extraer títulos y enlaces de los resultados\n",
    "resultados_globales = []\n",
    "resultados = []\n",
    "while len(resultados) < 30:\n",
    "    resultados = driver.find_elements(By.CSS_SELECTOR, \"h2 a\")\n",
    "\n",
    "    if len(resultados) < 30:\n",
    "        try:\n",
    "            caja_mas_resultados = driver.find_element(By.ID, \"more-results\")\n",
    "            caja_mas_resultados.send_keys(Keys.RETURN)\n",
    "        \n",
    "            time.sleep(random.randint(2,5))\n",
    "        except Exception:\n",
    "            break\n",
    "    \n",
    "for resultado in resultados:\n",
    "    print(resultado.text)\n",
    "    try:\n",
    "        titulo = resultado.text                     # Texto del enlace (título del resultado)\n",
    "        enlace = resultado.get_attribute(\"href\")    # Enlace del resultado\n",
    "        if titulo and enlace:\n",
    "            resultados_globales.append({\n",
    "                \"Término\": termino,\n",
    "                \"Título\": titulo,\n",
    "                \"Enlace\": enlace\n",
    "                })\n",
    "    except Exception:\n",
    "        continue\n",
    "\n",
    "resultados_globales"
   ]
  },
  {
   "cell_type": "code",
   "execution_count": 42,
   "metadata": {},
   "outputs": [
    {
     "data": {
      "text/plain": [
       "33"
      ]
     },
     "execution_count": 42,
     "metadata": {},
     "output_type": "execute_result"
    }
   ],
   "source": [
    "len(resultados_globales)"
   ]
  },
  {
   "cell_type": "code",
   "execution_count": 6,
   "metadata": {},
   "outputs": [],
   "source": [
    "driver.quit()"
   ]
  }
 ],
 "metadata": {
  "kernelspec": {
   "display_name": "Python 3",
   "language": "python",
   "name": "python3"
  },
  "language_info": {
   "codemirror_mode": {
    "name": "ipython",
    "version": 3
   },
   "file_extension": ".py",
   "mimetype": "text/x-python",
   "name": "python",
   "nbconvert_exporter": "python",
   "pygments_lexer": "ipython3",
   "version": "3.11.3"
  }
 },
 "nbformat": 4,
 "nbformat_minor": 2
}
