{
  "cells": [
    {
      "cell_type": "markdown",
      "metadata": {
        "colab_type": "text",
        "id": "view-in-github"
      },
      "source": [
        "<a href=\"https://colab.research.google.com/github/javicuellar/Guia_Python/blob/master/M%C3%B3dulos/Libreria_stat.ipynb\" target=\"_parent\"><img src=\"https://colab.research.google.com/assets/colab-badge.svg\" alt=\"Open In Colab\"/></a>"
      ]
    },
    {
      "cell_type": "markdown",
      "metadata": {
        "id": "0Kle6SajaMaH"
      },
      "source": [
        "# Libraría Stat - Interpretación de los resultados\n",
        "\n",
        "_____________________________________________\n",
        "El módulo stat define constantes y funciones para interpretar los resultados de **os.stat()**, **os.fstat()** y **os.lstat()** (si existen). \n",
        "\n",
        "El módulo stat define las siguientes funciones para comprobar tipos de archivo específicos:\n",
        "  - **stat.S_ISDIR(mode)**.- Retorna un valor no nulo si el modo es de un directorio.\n",
        "  - **stat.S_ISCHR(mode)**.- Retorna un valor no nulo si el modo es de un archivo de un dispositivo especial de caracteres.\n",
        "  - **stat.S_ISBLK(mode)**.- Retorna un valor no nulo si el modo es de un archivo de un dispositivo especial de bloques.\n",
        "  - **stat.S_ISREG(mode)**.- Retorna un valor no nulo si el modo es de un archivo normal.\n",
        "  - **stat.S_ISFIFO(mode)**.- Retorna un valor no nulo si el modo es de un FIFO (tubería con nombre).\n",
        "  - **stat.S_ISLNK(mode)**.- Retorna un valor no nulo si el modo es de un enlace simbólico.\n",
        "  - **stat.S_ISSOCK(mode)**.- Retorna un valor no nulo si el modo es de un socket.\n",
        "  - **stat.S_ISDOOR(mode)**.- Retorna un valor no nulo si el modo es de un door.\n",
        "  - **stat.S_ISPORT(mode)**.- Retorna un valor no nulo si el modo es de un event port.\n",
        "  - **stat.S_ISWHT(mode)**.- Retorna un valor no nulo si el modo es de un whiteout.\n",
        "\n",
        "Se definen dos funciones adicionales para una manipulación más general del modo del archivo:\n",
        "\n",
        "  - **stat.S_IMODE(mode)**.- Retorna la porción del modo del archivo que puede ser establecida por **os.chmod**()— esto es, los bits de los permisos del archivo más los bits sticky bit, set-group-id y set-user-id (en los sistemas que lo soporten).\n",
        "  - **stat.S_IFMT(mode)**.- Retorna la porción del modo del archivo que describe el tipo de archivo (usado por las funciones S_IS*() de más arriba).\n",
        "\n",
        "Normalmente se usarían las funciones **os.path.is*()** para comprobar el tipo de un archivo; estas funciones de aquí son útiles cuando se hacen múltiples comprobaciones sobre el mismo archivo y se desea evitar la sobrecarga causada por la llamada al sistema stat() en cada comprobación. También son útiles cuando se comprueba información de un archivo que no es gestionada por os.path, como buscar dispositivos de bloques o caracteres."
      ]
    },
    {
      "cell_type": "code",
      "execution_count": null,
      "metadata": {
        "id": "96b9G2k7YFT8"
      },
      "outputs": [],
      "source": [
        "#  Ejemplo\n",
        "import os, sys\n",
        "from stat import *\n",
        "\n",
        "def walktree(top, callback):\n",
        "    '''recursively descend the directory tree rooted at top,\n",
        "       calling the callback function for each regular file'''\n",
        "\n",
        "    for f in os.listdir(top):\n",
        "        pathname = os.path.join(top, f)\n",
        "        mode = os.lstat(pathname).st_mode\n",
        "        if S_ISDIR(mode):\n",
        "            # It's a directory, recurse into it\n",
        "            walktree(pathname, callback)\n",
        "        elif S_ISREG(mode):\n",
        "            # It's a file, call the callback function\n",
        "            callback(pathname)\n",
        "        else:\n",
        "            # Unknown file type, print a message\n",
        "            print('Skipping %s' % pathname)\n",
        "\n",
        "def visitfile(file):\n",
        "    print('visiting', file)\n",
        "\n",
        "if __name__ == '__main__':\n",
        "    walktree(sys.argv[1], visitfile)"
      ]
    }
  ],
  "metadata": {
    "colab": {
      "authorship_tag": "ABX9TyP96zMe01p2tEWAWkYGV4Dn",
      "include_colab_link": true,
      "provenance": []
    },
    "kernelspec": {
      "display_name": "Python 3",
      "name": "python3"
    },
    "language_info": {
      "name": "python"
    }
  },
  "nbformat": 4,
  "nbformat_minor": 0
}
