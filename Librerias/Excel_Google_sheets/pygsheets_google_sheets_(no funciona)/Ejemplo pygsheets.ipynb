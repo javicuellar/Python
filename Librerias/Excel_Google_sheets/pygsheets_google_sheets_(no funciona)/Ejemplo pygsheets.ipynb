{
 "cells": [
  {
   "cell_type": "markdown",
   "metadata": {},
   "source": [
    "Fuente: https://www.iteramos.com/pregunta/80313/como-puedo-acceder-leer-escribir-a-las-hojas-de-calculo-de-google-sheets-con-python"
   ]
  },
  {
   "cell_type": "code",
   "execution_count": null,
   "metadata": {},
   "outputs": [],
   "source": [
    "#   Instalación paquete pygsheets, última versión\n",
    "pip install https://github.com/nithinmurali/pygsheets/archive/master.zip"
   ]
  },
  {
   "cell_type": "code",
   "execution_count": null,
   "metadata": {},
   "outputs": [],
   "source": [
    "import pandas as pd\n",
    "import pygsheets\n",
    "from apiclient.discovery import build\n",
    "from oauth2client.service_account import ServiceAccountCredentials\n",
    "\n",
    "\n",
    "SCOPES = ['https://www.googleapis.com/auth/analytics.readonly']\n",
    "KEY_FILE_LOCATION = 'client_secrets.json'\n",
    "VIEW_ID = ''\n",
    "SHEET_ID = ''\n",
    "\n",
    "# For the full list of dimensions & metrics, check https://developers.google.com/analytics/devguides/reporting/core/dimsmets\n",
    "DIMENSIONS = ['ga:source','ga:medium']\n",
    "METRICS = ['ga:users','ga:sessions']\n",
    "\n",
    "def initialize_analyticsreporting():\n",
    "  credentials = ServiceAccountCredentials.from_json_keyfile_name(\n",
    "      KEY_FILE_LOCATION, SCOPES)\n",
    "\n",
    "  # Build the service object.\n",
    "  analytics = build('analyticsreporting', 'v4', credentials=credentials)\n",
    "\n",
    "  return analytics\n",
    "\n",
    "\n",
    "def get_report(analytics):\n",
    "  return analytics.reports().batchGet(\n",
    "      body={\n",
    "        'reportRequests': [\n",
    "        {\n",
    "          'viewId': VIEW_ID,\n",
    "          'dateRanges': [{'startDate': '7daysAgo', 'endDate': 'today'}],\n",
    "          'metrics': [{'expression':i} for i in METRICS],\n",
    "          'dimensions': [{'name':j} for j in DIMENSIONS]\n",
    "        }]\n",
    "      }\n",
    "  ).execute()\n",
    "\n",
    "\n",
    "def convert_to_dataframe(response):\n",
    "    \n",
    "  for report in response.get('reports', []):\n",
    "    columnHeader = report.get('columnHeader', {})\n",
    "    dimensionHeaders = columnHeader.get('dimensions', [])\n",
    "    metricHeaders = [i.get('name',{}) for i in columnHeader.get('metricHeader', {}).get('metricHeaderEntries', [])]\n",
    "    finalRows = []\n",
    "    \n",
    "\n",
    "    for row in report.get('data', {}).get('rows', []):\n",
    "      dimensions = row.get('dimensions', [])\n",
    "      metrics = row.get('metrics', [])[0].get('values', {})\n",
    "      rowObject = {}\n",
    "\n",
    "      for header, dimension in zip(dimensionHeaders, dimensions):\n",
    "        rowObject[header] = dimension\n",
    "        \n",
    "        \n",
    "      for metricHeader, metric in zip(metricHeaders, metrics):\n",
    "        rowObject[metricHeader] = metric\n",
    "\n",
    "      finalRows.append(rowObject)\n",
    "      \n",
    "      \n",
    "  dataFrameFormat = pd.DataFrame(finalRows)    \n",
    "  return dataFrameFormat      \n",
    "        \n",
    " \n",
    "def export_to_sheets(df):\n",
    "    gc = pygsheets.authorize(service_file='client_secrets.json')\n",
    "    sht = gc.open_by_key(SHEET_ID)\n",
    "    wks = sht.worksheet_by_title('Sheet1')\n",
    "    wks.set_dataframe(df,'A1')\n",
    "\n",
    "\n",
    "def main():\n",
    "  analytics = initialize_analyticsreporting()\n",
    "  response = get_report(analytics)\n",
    "  df = convert_to_dataframe(response)   #df = pandas dataframe\n",
    "  export_to_sheets(df)                  #outputs to spreadsheet. comment to skip\n",
    "  print(df)                             \n",
    "\n",
    "if __name__ == '__main__':\n",
    "  main()"
   ]
  },
  {
   "cell_type": "markdown",
   "metadata": {},
   "source": [
    "  Parece que dando permisos a la API de Google Drive, he solucionado el error 403 que no me permitía el acceso."
   ]
  },
  {
   "cell_type": "code",
   "execution_count": 11,
   "metadata": {},
   "outputs": [],
   "source": [
    "import pygsheets\n",
    "\n",
    "client = pygsheets.authorize()\n",
    "\n",
    "# Open the spreadsheet and the first sheet.\n",
    "sh = client.open('Activos')\n",
    "wks = sh.sheet1\n",
    "\n",
    "# Update a single cell.\n",
    "wks.update_value('A1', \"Numbers on Stuff\")\n",
    "\n",
    "lista = [5,3,8]\n",
    "# Update the worksheet with the numpy array values. Beginning at cell 'A2'.\n",
    "#wks.update_values('A2', lista)\n",
    "\n",
    "# Share the sheet with your friend. (read access only)\n",
    "sh.share('ralleuc@gmail.com')\n",
    "# sharing with write access\n",
    "sh.share('ralleuc@gmail.com', role='writer')"
   ]
  }
 ],
 "metadata": {
  "kernelspec": {
   "display_name": "Python 3.8.8 ('base')",
   "language": "python",
   "name": "python3"
  },
  "language_info": {
   "codemirror_mode": {
    "name": "ipython",
    "version": 3
   },
   "file_extension": ".py",
   "mimetype": "text/x-python",
   "name": "python",
   "nbconvert_exporter": "python",
   "pygments_lexer": "ipython3",
   "version": "3.8.8"
  },
  "orig_nbformat": 4,
  "vscode": {
   "interpreter": {
    "hash": "6f5583cf1d9466b5c27e75c89cc6b383bed5736d6b16c51c8074d8690011a952"
   }
  }
 },
 "nbformat": 4,
 "nbformat_minor": 2
}
