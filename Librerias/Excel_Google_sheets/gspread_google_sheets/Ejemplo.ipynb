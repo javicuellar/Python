{
 "cells": [
  {
   "cell_type": "markdown",
   "metadata": {},
   "source": [
    "Ejemplo Tutorial sacado de:  https://www.youtube.com/watch?v=lI98OTpKarY\n",
    "\n",
    "   - Primero instalamos librerías:  gspread y oauth2client\n",
    "\n",
    "Referencia, Guía de la librería gspread - https://docs.gspread.org/en/latest/user-guide.html"
   ]
  },
  {
   "cell_type": "code",
   "execution_count": null,
   "metadata": {},
   "outputs": [],
   "source": [
    "pip install gspread"
   ]
  },
  {
   "cell_type": "code",
   "execution_count": null,
   "metadata": {},
   "outputs": [],
   "source": [
    "pip install oauth2client"
   ]
  },
  {
   "cell_type": "markdown",
   "metadata": {},
   "source": [
    "**Importar librería gspread y autenticarse**"
   ]
  },
  {
   "cell_type": "code",
   "execution_count": 1,
   "metadata": {},
   "outputs": [],
   "source": [
    "import gspread\n",
    "from oauth2client.service_account import ServiceAccountCredentials   # para usar credenciales\n",
    "\n",
    "#   Definir el límite de acceso, el scope = alcance, acceso a hojas de cálculo y drive\n",
    "alcance =  ['https://www.googleapis.com/auth/spreadsheets',\n",
    "            'https://www.googleapis.com/auth/drive']\n",
    "\n",
    "Credenciales = ServiceAccountCredentials.from_json_keyfile_name('Credenciales.json', alcance)\n",
    "\n",
    "cliente = gspread.authorize(Credenciales)"
   ]
  },
  {
   "cell_type": "markdown",
   "metadata": {},
   "source": [
    "**Crear hoja de cálculo**\n",
    "\n",
    "Se crea en la cuenta creada en Google Cloud Platform, se puede ver en el fichero json\n",
    "para nuestra aplicación:  \"client_email\": \"appservicio@python-tutorial3.iam.gserviceaccount.com\"\n",
    "\n",
    "Para ver la hoja con tu usuario, tienes que comparirla."
   ]
  },
  {
   "cell_type": "code",
   "execution_count": null,
   "metadata": {},
   "outputs": [],
   "source": [
    "hoja = cliente.create(\"Hoja Creada en Python\")\n",
    "\n",
    "#   Vamos a compartirla con nuestro usuario para que podamos verla\n",
    "hoja.share('javicu25@gmail.com', perm_type='user', role='writer')\n",
    "# hoja.share(email_to_share, perm_type='user', role='reader')"
   ]
  },
  {
   "cell_type": "markdown",
   "metadata": {},
   "source": [
    "**Abrir hoja excel y manejo de pestañas**"
   ]
  },
  {
   "cell_type": "code",
   "execution_count": 2,
   "metadata": {},
   "outputs": [],
   "source": [
    "hoja1 = cliente.open(\"Hoja Creada en Python\").sheet1    # Abrimos hoja y pestaña\n",
    "hoja2 = cliente.open(\"Hoja Creada en Python\")           # Abrimos hoja (pdte. pestaña)\n",
    "\n",
    "pestaña1 = hoja2.get_worksheet(2)       # Acceso por orden de pestañas ('Datos)\n",
    "pestaña2 = hoja2.worksheet('Nueva')     # Acceso por nombre pestaña"
   ]
  },
  {
   "cell_type": "markdown",
   "metadata": {},
   "source": [
    "**Cargamos datos en la hoja google:  Hoja Creada en Python**\n",
    "\n",
    "- En la primera pestaña ->  datos futbol (football_noticias.csv)\n",
    "- En pestaña tercera 'Datos' -> Datos (datos.csv)\n",
    "- En la pestaña 'Nueva' -> datos + futbol"
   ]
  },
  {
   "cell_type": "code",
   "execution_count": 9,
   "metadata": {},
   "outputs": [
    {
     "data": {
      "text/plain": [
       "{'spreadsheetId': '1TD6gvhdwz4EixVm3tmqF_QXqGjIAF_jbBz3-PxXKYQs',\n",
       " 'updatedRange': 'Nueva!A1:G62',\n",
       " 'updatedRows': 62,\n",
       " 'updatedColumns': 7,\n",
       " 'updatedCells': 241}"
      ]
     },
     "execution_count": 9,
     "metadata": {},
     "output_type": "execute_result"
    }
   ],
   "source": [
    "import pandas as pd\n",
    "df1 = pd.read_csv('.\\\\Ficheros\\\\football_noticias.csv')\n",
    "df2 = pd.read_csv('.\\\\Ficheros\\\\datos.csv', sep=';', decimal=',')\n",
    "\n",
    "#  Escribimos la primera pestaña, hoja1\n",
    "cabecera = df1.columns.values.tolist()\n",
    "datos = df1.values.tolist()\n",
    "hoja1.update([cabecera] + datos)        # Primero insertar la cabecera y después los datos\n",
    "\n",
    "#  Escribimos pestaña 'Datos' \n",
    "cabecera = df2.columns.values.tolist()\n",
    "datos = df2.values.tolist()\n",
    "pestaña1.update([cabecera] + datos)     # Primero insertar la cabecera y después los datos\n",
    "\n",
    "#  Escribimos pestaña 'Nueva' \n",
    "cabecera = df2.columns.values.tolist() + df1.columns.values.tolist()\n",
    "datos = df2.values.tolist() + df1.values.tolist()\n",
    "pestaña2.update([cabecera] + datos)     # Primero insertar la cabecera y después los datos"
   ]
  },
  {
   "cell_type": "markdown",
   "metadata": {},
   "source": [
    "Compartir mis hojas y leer toda una hoja del libro\n",
    "-------\n",
    "Puedo compartir mis hojas con la cuenta de la App y tendrá acceso a ellas.\n",
    "Lectura de toda la hoja del libro.\n"
   ]
  },
  {
   "cell_type": "code",
   "execution_count": null,
   "metadata": {},
   "outputs": [],
   "source": [
    "hoja3 = cliente.open(\"Compartida App\").sheet1\n",
    "\n",
    "list_of_lists = hoja3.get_all_values()\n",
    "list_of_lists"
   ]
  }
 ],
 "metadata": {
  "kernelspec": {
   "display_name": "Python 3",
   "language": "python",
   "name": "python3"
  },
  "language_info": {
   "codemirror_mode": {
    "name": "ipython",
    "version": 3
   },
   "file_extension": ".py",
   "mimetype": "text/x-python",
   "name": "python",
   "nbconvert_exporter": "python",
   "pygments_lexer": "ipython3",
   "version": "3.11.3"
  },
  "orig_nbformat": 4
 },
 "nbformat": 4,
 "nbformat_minor": 2
}
