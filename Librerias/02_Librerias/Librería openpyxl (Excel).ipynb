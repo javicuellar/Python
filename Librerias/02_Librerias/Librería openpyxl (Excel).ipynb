{
  "cells": [
    {
      "cell_type": "markdown",
      "metadata": {
        "id": "view-in-github",
        "colab_type": "text"
      },
      "source": [
        "<a href=\"https://colab.research.google.com/github/javicuellar/Guia_Python/blob/master/M%C3%B3dulos/Librer%C3%ADa%20openpyxl%20(Excel).ipynb\" target=\"_parent\"><img src=\"https://colab.research.google.com/assets/colab-badge.svg\" alt=\"Open In Colab\"/></a>"
      ]
    },
    {
      "cell_type": "markdown",
      "metadata": {
        "id": "08BxpOrr3zKf"
      },
      "source": [
        "# Libraría openpyxl (Excel)- Manejo de libros Excel\n",
        "\n",
        "Repositorio Github.-  **Guia_Python**\n",
        "\n",
        "Carpeta.- **Módulos/Librería openpyxl (Excel).ipynb**\n",
        "_____________________________________________\n",
        "\n",
        "**INDICE**\n",
        "\n",
        "- Importar librería **openpyxl**\n",
        "- Abrir/definir libro -> **libro = openpyxl.load_workbook('fichero')**\n",
        "- Pestañas del libro -> **libro.worksheets**\n",
        "- Acceso/abrir/definir pestaña activa (primera)-> **pestaña = libro.active**\n",
        "- Abrir pestaña por nombre -> **pestaña = libro['pestaña']**\n",
        "- Obtener datos pestaña, número filas y columnas: **pestaña.max_row** y **max_column**\n",
        "- Acceso a las celdas, los datos, por notación -> **pestaña['A2'].value**\n",
        "- Acceso a las celdas por coordenadas -> **pestaña.cell(row=2, column=4).value**\n",
        "- Leer una fila -> **fila1 = [pestaña.cell(row= 1, column=i).value for i in range(1, pestaña.max_column + 1)]**\n",
        "- Leer una columna -> **columna5 = [pestaña.cell(row= i, column=5).value for i in range(1, pestaña.max_row + 1)]**\n",
        "- Leer un rango -> **pestaña.iter_rows(min_row=1, max_row=10, min_col=1, max_col=6, values_only=True)**\n",
        "- Actualizar valores de celdas -> **pestaña['J3'] = 'Suma ventas'** o **pestaña.cell(row=3, column=11, value= 2)**\n",
        "- **IMPORTANTE** -> Actualizar libro -> **libro.save(fichero)**\n",
        "- Añadir una fila -> **pestaña.append(nueva_fila)**\n",
        "- Borrar filas (pos. fila, núm. filas) -> **pestaña.delete_rows(pestaña.max_row, 1)** borra la última\n",
        "- Incluir fórmulas, directamente poniendo la fórmula -> **pestaña['A5'] = '=SUMA(A2:A4)'**\n",
        "- Modificar nombre pestaña -> **pestaña.title = 'nuevo nombre'**\n",
        "- Crear nueva pestaña -> **libro.create_sheet('nueva pestaña')**\n",
        "- Eliminar pestaña -> **libro.remove(libro['pestaña'])**\n",
        "- Duplicar pestaña -> **libro.copy_worksheet(libro['pestaña'])**\n",
        "- Grabar excel modificado en otro, simplemente grabar y cambiar nombre fichero -> **libro.save('nuevo fichero')**"
      ]
    },
    {
      "cell_type": "markdown",
      "metadata": {
        "id": "uMyglPuZKZUr"
      },
      "source": [
        "### **Importar librería openpyxl**"
      ]
    },
    {
      "cell_type": "code",
      "execution_count": null,
      "metadata": {
        "id": "uDYpur4jKZUs"
      },
      "outputs": [],
      "source": [
        "import openpyxl"
      ]
    },
    {
      "cell_type": "markdown",
      "metadata": {
        "id": "-OK7OHgTKZUs"
      },
      "source": [
        "### Definir libro Excel y leer las pestañas del libro Excel"
      ]
    },
    {
      "cell_type": "code",
      "execution_count": null,
      "metadata": {
        "id": "6FXy2Do3KZUs",
        "outputId": "10ff0932-ab36-4772-ab8d-5af2de6ac634"
      },
      "outputs": [
        {
          "name": "stdout",
          "output_type": "stream",
          "text": [
            "<Worksheet \"datos\">\n",
            "<Worksheet \"Discos\">\n"
          ]
        }
      ],
      "source": [
        "#  Leer las pestañas del libro excel\n",
        "fichero = '.\\\\Ficheros\\\\datos.xlsx'\n",
        "libro = openpyxl.load_workbook(fichero)\n",
        "\n",
        "for pestaña in libro.worksheets:\n",
        "    print(pestaña)"
      ]
    },
    {
      "cell_type": "markdown",
      "metadata": {
        "id": "X2D6cqMaHwdf"
      },
      "source": [
        "### Acceso a las pestañas, la activa o por nombre"
      ]
    },
    {
      "cell_type": "code",
      "execution_count": null,
      "metadata": {
        "id": "6lc3rGjSHwdf"
      },
      "outputs": [],
      "source": [
        "#  Acceso a las pestañas, acceso a la primera por defecto\n",
        "pestaña = libro.active\n",
        "\n",
        "#  Acceso por el nombre de las pestañas\n",
        "pestaña = libro['Discos']"
      ]
    },
    {
      "cell_type": "markdown",
      "metadata": {
        "id": "ZSxKV8aWHwdf"
      },
      "source": [
        "### Datos de las pestañas: número de filas y de columnas"
      ]
    },
    {
      "cell_type": "code",
      "execution_count": null,
      "metadata": {
        "id": "CijYCaZTHwdg",
        "outputId": "323163c2-fca8-4f91-fa3d-adfe2fa46584"
      },
      "outputs": [
        {
          "name": "stdout",
          "output_type": "stream",
          "text": [
            "Número total de filas: 15. Y total de columnas: 11\n"
          ]
        }
      ],
      "source": [
        "#  Contar el número de filas y columnas\n",
        "print('Número total de filas: ' + str(pestaña.max_row) +\n",
        "      '. Y total de columnas: ' + str(pestaña.max_column))"
      ]
    },
    {
      "cell_type": "markdown",
      "metadata": {
        "id": "12FDwbokHwdg"
      },
      "source": [
        "### Acceso a los datos, las celdas, por notación A1, ... o por coordenadas"
      ]
    },
    {
      "cell_type": "code",
      "execution_count": null,
      "metadata": {
        "id": "L5oV-MG6Hwdg",
        "outputId": "eb765953-50b8-4c7c-cfa0-840930edecbf"
      },
      "outputs": [
        {
          "name": "stdout",
          "output_type": "stream",
          "text": [
            "Valor de celda A2:  DISK_JAVI_0_SISTEMA\n",
            "Valor de celda fila 2, columna 4:  2022-09-28 00:00:00\n"
          ]
        }
      ],
      "source": [
        "#  Lectura de los datos\n",
        "#  Lectura por notación A1, ...\n",
        "print('Valor de celda A2: ', pestaña['A2'].value)\n",
        "\n",
        "#  Lectura por coordenadas\n",
        "print('Valor de celda fila 2, columna 4: ', pestaña.cell(row= 2, column=4).value)"
      ]
    },
    {
      "cell_type": "markdown",
      "metadata": {
        "id": "wNYzCD5rHwdg"
      },
      "source": [
        "### Lectura de una fila"
      ]
    },
    {
      "cell_type": "code",
      "execution_count": null,
      "metadata": {
        "id": "n5Uch9n-Hwdg",
        "outputId": "d111cd96-7843-40bf-95a6-96aeeb0731b6"
      },
      "outputs": [
        {
          "name": "stdout",
          "output_type": "stream",
          "text": [
            "['Disco', 'Tamaño', 'Gb.', 'Fecha Mod.', 'Ficheros', 'Directorios', 'Libre', 'Gb Libre', None, 'Suma ventas', 1253]\n"
          ]
        }
      ],
      "source": [
        "#  Lectura de rango de celdas, una fila, primera (todas las columnas)\n",
        "valores = [pestaña.cell(row= 1, column=i).value for i in range(1, pestaña.max_column + 1)]\n",
        "print(valores)"
      ]
    },
    {
      "cell_type": "markdown",
      "metadata": {
        "id": "b4U2PDTYHwdh"
      },
      "source": [
        "### Lectura de una columna"
      ]
    },
    {
      "cell_type": "code",
      "execution_count": null,
      "metadata": {
        "id": "ATmOAESMHwdh",
        "outputId": "9a15e980-0ac0-4ce4-9ff4-63fd084f0987"
      },
      "outputs": [
        {
          "name": "stdout",
          "output_type": "stream",
          "text": [
            "['Ficheros', 829198, 37261, 85023, 1279, 9047, 155, 178271, 1219, 573, 3253, 77109, 55377, 51405, 1921]\n"
          ]
        }
      ],
      "source": [
        "#  Lectura de rango de celdas, una columna, la 5 (todas las filas)\n",
        "valores = [pestaña.cell(row= i, column=5).value for i in range(1, pestaña.max_row + 1)]\n",
        "print(valores)"
      ]
    },
    {
      "cell_type": "markdown",
      "metadata": {
        "id": "vT0ilS7cHwdh"
      },
      "source": [
        "### Lectura de un rango, 10 primeras filas y columnas de la 1 a la 6"
      ]
    },
    {
      "cell_type": "code",
      "execution_count": null,
      "metadata": {
        "id": "4XjMg43SHwdh",
        "outputId": "512895e4-9808-4700-95f0-b5693d722c1f"
      },
      "outputs": [
        {
          "name": "stdout",
          "output_type": "stream",
          "text": [
            "('Disco', 'Tamaño', 'Gb.', 'Fecha Mod.', 'Ficheros', 'Directorios')\n",
            "('DISK_JAVI_0_SISTEMA', 143135089497, 133.304940068163, datetime.datetime(2022, 9, 28, 0, 0), 829198, 178929)\n",
            "('DISK_JAVI_1_DATA', 339610535000, 316.2869578227401, datetime.datetime(2022, 9, 28, 0, 0), 37261, 3221)\n",
            "('NAS BACKUP', 772907968385, 719.8266390571371, datetime.datetime(2022, 9, 28, 0, 0), 85023, 3851)\n",
            "('NAS HOMES', 3567421391, 3.322420074604452, datetime.datetime(2022, 8, 16, 0, 0), 1279, 180)\n",
            "('NAS PHOTO', 45035733448, 41.94279522448778, datetime.datetime(2022, 9, 23, 0, 0), 9047, 246)\n",
            "('NAS VIDEO', 97769713544, 91.0551413372159, datetime.datetime(2022, 9, 26, 0, 0), 155, 48)\n",
            "('USB_AZUL', 667393447123, 621.5585834560916, datetime.datetime(2023, 1, 23, 0, 0), 178271, 8264)\n",
            "('USB_BLANCO1', 28416194, 0.02646464295685291, datetime.datetime(2022, 5, 29, 0, 0), 1219, 148)\n",
            "('USB_BLANCO2', 312959107, 0.291465881280601, datetime.datetime(2020, 12, 17, 0, 0), 573, 17)\n"
          ]
        }
      ],
      "source": [
        "#  Lectura de las primeras 10 filas en un rango de columnas (1 a 6)\n",
        "lista = []\n",
        "\n",
        "for value in pestaña.iter_rows(min_row=1, max_row=10, min_col=1, max_col=6, values_only=True): \n",
        "    lista.append(value)\n",
        "\n",
        "for ele in lista:\n",
        "    print (ele)"
      ]
    },
    {
      "cell_type": "markdown",
      "metadata": {
        "id": "ytazrZdEHwdh"
      },
      "source": [
        "### Grabar datos en celdas, por notación o por coordenadas\n",
        "\n",
        "IMPORTANTE -> Hay que grabar el fichero."
      ]
    },
    {
      "cell_type": "code",
      "execution_count": null,
      "metadata": {
        "id": "9YeVLbL5Hwdh"
      },
      "outputs": [],
      "source": [
        "#  Escribiendo a Excel\n",
        "#  Escribir una celda usando notación A1, ...\n",
        "pestaña['J3'] = 'Suma ventas'\n",
        "\n",
        "#  Escribir celda usando coordenadas\n",
        "pestaña.cell(row=3, column=11, value= 2023789)\n",
        "\n",
        "#  Para que los cambios se graben, es necesario usar save\n",
        "libro.save(fichero)\n",
        "\n",
        "#  No parece necesario cerrar el libro\n",
        "libro.close()"
      ]
    },
    {
      "cell_type": "markdown",
      "metadata": {
        "id": "7KbpcqOBHwdh"
      },
      "source": [
        "### Añadir nueva fila al excel"
      ]
    },
    {
      "cell_type": "code",
      "execution_count": null,
      "metadata": {
        "id": "BBpCujkMHwdi"
      },
      "outputs": [],
      "source": [
        "#  Añadir nueva fila, una tupla pero también puede ser lista\n",
        "nueva_fila = ['USB_NUEVO_INVENTADO9', 900, 9.29, '9/05/2022', 900, 90]\n",
        "\n",
        "pestaña.append(nueva_fila)\n",
        "\n",
        "libro.save(fichero)"
      ]
    },
    {
      "cell_type": "markdown",
      "metadata": {
        "id": "mr-7F29lHwdi"
      },
      "source": [
        "### Borrar/eliminar filas del excel"
      ]
    },
    {
      "cell_type": "code",
      "execution_count": null,
      "metadata": {
        "id": "HxGqdEC5Hwdi"
      },
      "outputs": [],
      "source": [
        "#  Eliminar filas, seleccionar por cual empezar y cuantas borrar\n",
        "pestaña.delete_rows(pestaña.max_row - 5, 5)      # borramos las últimas 5 filas\n",
        "\n",
        "libro.save(fichero)"
      ]
    },
    {
      "cell_type": "markdown",
      "metadata": {
        "id": "O04626C1Hwdi"
      },
      "source": [
        "### Incluir fórmulas en las celdas"
      ]
    },
    {
      "cell_type": "code",
      "execution_count": null,
      "metadata": {
        "id": "ZERQbKpUHwdi"
      },
      "outputs": [],
      "source": [
        "pestaña['b15'] = 'SUMA(C2:C14)= '\n",
        "pestaña['c15'] = '=SUMA(C2:C14)'\n",
        "\n",
        "libro.save(fichero)"
      ]
    },
    {
      "cell_type": "markdown",
      "metadata": {
        "id": "UxoBlZO5Hwdi"
      },
      "source": [
        "### Modificando pestañas: modificar nombre, crear, borrar y duplicar pestaña"
      ]
    },
    {
      "cell_type": "code",
      "execution_count": null,
      "metadata": {
        "id": "VP7-ih5aHwdi"
      },
      "outputs": [],
      "source": [
        "#  Nombre pestaña activa\n",
        "print(pestaña.title)\n",
        "\n",
        "#  Cambiar nombre pestaña\n",
        "pestaña.title = 'Pestaña1'\n",
        "libro.save(fichero)"
      ]
    },
    {
      "cell_type": "code",
      "execution_count": null,
      "metadata": {
        "id": "6TC20o46Hwdi",
        "outputId": "e550b250-0df3-437a-bd6e-22e6e1d07df2"
      },
      "outputs": [
        {
          "name": "stdout",
          "output_type": "stream",
          "text": [
            "Discos\n",
            "['datos', 'Pestaña1']\n",
            "['datos', 'Pestaña1', 'Pestaña2']\n"
          ]
        }
      ],
      "source": [
        "#  Lista de pestañas del libro\n",
        "print(libro.sheetnames)\n",
        "\n",
        "#  Crear nueva pestaña\n",
        "libro.create_sheet('Pestaña2')\n",
        "print(libro.sheetnames)\n",
        "libro.save(fichero)"
      ]
    },
    {
      "cell_type": "code",
      "execution_count": null,
      "metadata": {
        "id": "D-9h2D3FHwdi"
      },
      "outputs": [],
      "source": [
        "#  Eliminar pestaña\n",
        "libro.remove(libro['Pestaña2'])\n",
        "libro.save(fichero)"
      ]
    },
    {
      "cell_type": "code",
      "execution_count": null,
      "metadata": {
        "id": "xX-Ed6rwHwdj"
      },
      "outputs": [],
      "source": [
        "#  Duplicar pestaña\n",
        "libro.copy_worksheet(libro['Pestaña1'])\n",
        "\n",
        "fichero2 = '.\\\\Ficheros\\\\datos2.xlsx'\n",
        "libro.save(fichero2)"
      ]
    }
  ],
  "metadata": {
    "colab": {
      "provenance": [],
      "include_colab_link": true
    },
    "kernelspec": {
      "display_name": "Python 3.8.8 ('base')",
      "language": "python",
      "name": "python3"
    },
    "language_info": {
      "codemirror_mode": {
        "name": "ipython",
        "version": 3
      },
      "file_extension": ".py",
      "mimetype": "text/x-python",
      "name": "python",
      "nbconvert_exporter": "python",
      "pygments_lexer": "ipython3",
      "version": "3.8.8"
    },
    "orig_nbformat": 4,
    "vscode": {
      "interpreter": {
        "hash": "6f5583cf1d9466b5c27e75c89cc6b383bed5736d6b16c51c8074d8690011a952"
      }
    }
  },
  "nbformat": 4,
  "nbformat_minor": 0
}