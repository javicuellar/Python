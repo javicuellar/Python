{
 "cells": [
  {
   "attachments": {},
   "cell_type": "markdown",
   "metadata": {},
   "source": [
    "# Librarías para Encriptar\n",
    "\n",
    "Repositorio Github.-  **Guia_Python**\n",
    "\n",
    "Carpeta.- **Módulos/Librerias encriptar.ipynb**\n",
    "_____________________________________________\n",
    "Tres ejemplos de librarias de encriptado:\n",
    "  - **Cryptography**.- Se crea clave con la que encriptar y desencriptar.\n",
    "  - **Passlib**.- Usa contexto de encriptado\n",
    "  - **Werkzeug** - "
   ]
  },
  {
   "cell_type": "code",
   "execution_count": null,
   "metadata": {},
   "outputs": [],
   "source": [
    "from werkzeug.security import generate_password_hash, check_password_hash\n",
    "\n",
    "texto = 'x?1_P-1M.4!eM'\n",
    "\n",
    "texto_encriptado1 = generate_password_hash(texto)\n",
    "texto_encriptado2 = generate_password_hash(texto, 'sha256')\n",
    "texto_encriptado3 = generate_password_hash(texto, 'sha256', 30)\n",
    "texto_encriptado4 = generate_password_hash(texto, 'pbkdf2:sha256')\n",
    "texto_encriptado5 = generate_password_hash(texto, 'pbkdf2:sha256', 30)\n",
    "texto_encriptado6 = generate_password_hash(texto, 'pbkdf2:sha256:30', 30)\n",
    "\n",
    "print()\n",
    "print(texto_encriptado1)\n",
    "print(texto_encriptado2)\n",
    "print(texto_encriptado3)\n",
    "print(texto_encriptado4)\n",
    "print(texto_encriptado5)\n",
    "print(texto_encriptado6)\n",
    "\n",
    "print(\"Checkear\", check_password_hash(texto_encriptado1, texto))"
   ]
  },
  {
   "cell_type": "code",
   "execution_count": null,
   "metadata": {},
   "outputs": [],
   "source": [
    "from passlib.context import CryptContext\n",
    "#  https://passlib.readthedocs.io/en/stable/narr/context-tutorial.html\n",
    "\n",
    "\n",
    "#  Round: Iteraciones para reducir la posibilidad de cracking\n",
    "contexto = CryptContext(\n",
    "    schemes = [\"pbkdf2_sha256\"],\n",
    "    default = \"pbkdf2_sha256\",\n",
    "    pbkdf2_sha256__default_rounds=30000\n",
    ")\n",
    "\n",
    "texto = 'x?1_P-1M.4!eM'\n",
    "\n",
    "texto_encriptado = contexto.hash(texto)\n",
    "print(texto_encriptado)\n",
    "print(contexto.verify(texto, texto_encriptado))"
   ]
  },
  {
   "cell_type": "code",
   "execution_count": null,
   "metadata": {},
   "outputs": [],
   "source": [
    "from cryptography.fernet import Fernet\n",
    "#  https://cryptography.io/en/latest/fernet/\n",
    "\n",
    "\n",
    "\n",
    "texto = 'x?1_P-1M.4!eM'\n",
    "\n",
    "#  Genera una clave en formato de secuencia de bytes\n",
    "key = Fernet.generate_key()\n",
    "objeto_cifrado = Fernet(key)\n",
    "texto_encriptado = objeto_cifrado.encrypt(str.encode(texto))\n",
    "\n",
    "print(texto_encriptado)\n",
    "\n",
    "texto_desencriptado_bytes = objeto_cifrado.decrypt(texto_encriptado)\n",
    "print(texto_desencriptado_bytes)\n",
    "\n",
    "texto_desencriptado = texto_desencriptado_bytes.decode()\n",
    "print(texto_desencriptado)"
   ]
  }
 ],
 "metadata": {
  "language_info": {
   "name": "python"
  },
  "orig_nbformat": 4
 },
 "nbformat": 4,
 "nbformat_minor": 2
}
