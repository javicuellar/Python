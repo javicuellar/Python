{
  "cells": [
    {
      "attachments": {},
      "cell_type": "markdown",
      "metadata": {
        "colab_type": "text",
        "id": "view-in-github"
      },
      "source": [
        "<a href=\"https://colab.research.google.com/github/javicuellar/Guia_Python/blob/master/M%C3%B3dulos/Librer%C3%ADa%20openpyxl%20(Excel)%20y%20pandas.ipynb\" target=\"_parent\"><img src=\"https://colab.research.google.com/assets/colab-badge.svg\" alt=\"Open In Colab\"/></a>"
      ]
    },
    {
      "attachments": {},
      "cell_type": "markdown",
      "metadata": {
        "id": "08BxpOrr3zKf"
      },
      "source": [
        "# Libraría openpyxl (Excel) con pandas - Manejo de pestañas de Excel\n",
        "\n",
        "Repositorio Github.-  **Guia_Python**\n",
        "\n",
        "Carpeta.- **Módulos/Librería openpyxl (Excel) y pandas.ipynb**\n",
        "_____________________________________________\n",
        "\n",
        "**INDICE**\n",
        "\n",
        "- Importar librerías **pandas** y **load_workbook de openpyxl**\n",
        "- Leer las pestañas del libro Excel -> **load_workbook(fichero)**\n",
        "- Escribir dataframes en distintas hojas (sobreescribir) -> **writer = pd.ExcelWriter(fichero, engine = 'openpyxl', mode='a', if_sheet_exists ='replace')**\n",
        "- Definición de Libro y hojas con writer -> **writer.book = libro** **writer.sheets = {pestaña.title: pestaña for pestaña in libro.worksheets}**\n",
        "- Grabar dataframe en pestaña -> **df.to_excel(writer, sheet_name ='Hoja1', index=False)**\n",
        "- Una vez actualizado, hay que grabarlo y cerrar el fichero -> **writer.save()** **writer.close()**"
      ]
    },
    {
      "attachments": {},
      "cell_type": "markdown",
      "metadata": {
        "id": "uMyglPuZKZUr"
      },
      "source": [
        "### **Importar librería pandas y load_workbook de openpyxl**"
      ]
    },
    {
      "cell_type": "code",
      "execution_count": 1,
      "metadata": {
        "id": "uDYpur4jKZUs"
      },
      "outputs": [],
      "source": [
        "import pandas as pd\n",
        "from openpyxl import load_workbook"
      ]
    },
    {
      "attachments": {},
      "cell_type": "markdown",
      "metadata": {
        "id": "-OK7OHgTKZUs"
      },
      "source": [
        "### Leer las pestañas del libro Excel"
      ]
    },
    {
      "cell_type": "code",
      "execution_count": null,
      "metadata": {
        "id": "6FXy2Do3KZUs",
        "outputId": "436ed11a-03ba-453f-93dd-94a8395d6314"
      },
      "outputs": [
        {
          "name": "stdout",
          "output_type": "stream",
          "text": [
            "<Worksheet \"Hoja1\">\n",
            "<Worksheet \"Segunda\">\n",
            "<Worksheet \"Hoja3\">\n",
            "<Worksheet \"Cuarta\">\n"
          ]
        }
      ],
      "source": [
        "#  Leer las pestañas del libro excel\n",
        "fichero = '.\\\\Ficheros\\\\Libro Excel.xlsx'\n",
        "libro = load_workbook(fichero)\n",
        "\n",
        "for pestaña in libro.worksheets:\n",
        "    print(pestaña)"
      ]
    },
    {
      "attachments": {},
      "cell_type": "markdown",
      "metadata": {
        "id": "bJLGa5KbHU28"
      },
      "source": [
        "### Uso de pd.ExcelWriter() para escribir dataframes en distintas hojas\n",
        "\n",
        "Parámetros:\n",
        "\n",
        "- **path**: Ruta del archivo\n",
        "- **engine**: El motor utilizado para la escritura (en este caso **openpyxl**)\n",
        "- **if_sheet_exists**: que hacer (función) si existe, sobrescribir página = **replace**\n",
        "- **mode**: Puede ser 'w' (escribir) o 'a' (añadir). Con if_sheet_exists debe ser 'a'\n",
        "\n",
        "Todos estos valores los guardamos en una variable, writer."
      ]
    },
    {
      "cell_type": "code",
      "execution_count": null,
      "metadata": {
        "id": "ocY3WIDOHU28"
      },
      "outputs": [],
      "source": [
        "writer = pd.ExcelWriter(fichero, engine = 'openpyxl', mode='a', if_sheet_exists ='replace')\n",
        "\n",
        "#  Definimos valores del libro y hojas\n",
        "writer.book = libro\n",
        "writer.sheets = {pestaña.title: pestaña for pestaña in libro.worksheets}"
      ]
    },
    {
      "cell_type": "code",
      "execution_count": null,
      "metadata": {
        "id": "aeA_tqoTHU28"
      },
      "outputs": [],
      "source": [
        "#  Creamos un dataframe de prueba\n",
        "dataprueba = {'col1': [1, 2], 'col2': [3, 4]}\n",
        "df = pd.DataFrame(data=dataprueba)"
      ]
    },
    {
      "attachments": {},
      "cell_type": "markdown",
      "metadata": {
        "id": "ThE0pylXHU28"
      },
      "source": [
        "### Grabar dataframe en pestaña elegida sin sobre escribir los datos\n",
        "\n",
        "Se queda la hoja excel \"dañada\" y hay que repararla -> **usar openpyxl directamente**"
      ]
    },
    {
      "cell_type": "code",
      "execution_count": null,
      "metadata": {
        "id": "ZJSMeqiRHU29"
      },
      "outputs": [],
      "source": [
        "#  Grabamos usando to_excel de dataframe, con \"writer\"\n",
        "df.to_excel(writer, sheet_name ='Hoja1', index=False)\n",
        "\n",
        "#  Es necesario salvarlo y cerrar el fichero\n",
        "writer.save()\n",
        "writer.close()"
      ]
    },
    {
      "attachments": {},
      "cell_type": "markdown",
      "metadata": {},
      "source": [
        "### Solución simple (prueba)"
      ]
    },
    {
      "cell_type": "code",
      "execution_count": 14,
      "metadata": {},
      "outputs": [
        {
          "data": {
            "text/plain": [
              "Index(['imdb_title_id', 'title', 'original_title', 'year', 'date_published',\n",
              "       'genre', 'duration', 'country', 'language', 'director', 'writer',\n",
              "       'production_company', 'actors', 'description', 'avg_vote', 'votes',\n",
              "       'budget', 'usa_gross_income', 'worlwide_gross_income', 'metascore',\n",
              "       'reviews_from_users', 'reviews_from_critics', 'Unnamed: 22'],\n",
              "      dtype='object')"
            ]
          },
          "execution_count": 14,
          "metadata": {},
          "output_type": "execute_result"
        }
      ],
      "source": [
        "import pandas as pd\n",
        "\n",
        "url = 'https://raw.githubusercontent.com/LilianaC/Pandas/master/IMDBMoviesSelec%20-%20Sheet1.csv'\n",
        "df = pd.read_csv(url)\n",
        "\n",
        "df.columns"
      ]
    },
    {
      "cell_type": "code",
      "execution_count": 15,
      "metadata": {},
      "outputs": [],
      "source": [
        "df1 = df[['production_company', 'actors', 'description', 'avg_vote']]\n",
        "df2 = df[['imdb_title_id', 'title', 'original_title']]\n",
        "df3 = df[['year', 'date_published', 'genre', 'duration']]"
      ]
    },
    {
      "cell_type": "code",
      "execution_count": 8,
      "metadata": {},
      "outputs": [],
      "source": [
        "with pd.ExcelWriter('salida.xlsx') as writer:\n",
        "    df1.to_excel(writer, sheet_name='df1')\n",
        "    df2.to_excel(writer, sheet_name='df2')\n",
        "    df3.to_excel(writer, sheet_name='df3')"
      ]
    },
    {
      "attachments": {},
      "cell_type": "markdown",
      "metadata": {},
      "source": [
        "### Agregar hoja a excel existente"
      ]
    },
    {
      "cell_type": "code",
      "execution_count": 9,
      "metadata": {},
      "outputs": [],
      "source": [
        "# Agregar hoja a excel existente\n",
        "with pd.ExcelWriter('salida.xlsx', mode='a') as writer:\n",
        "    df.to_excel(writer, sheet_name='dfcompleto')"
      ]
    },
    {
      "attachments": {},
      "cell_type": "markdown",
      "metadata": {},
      "source": [
        "### Sobrescribir hoja en excel ya existente"
      ]
    },
    {
      "cell_type": "code",
      "execution_count": 17,
      "metadata": {},
      "outputs": [],
      "source": [
        "# Agregar hoja a excel existente\n",
        "with pd.ExcelWriter('salida.xlsx', mode='a', if_sheet_exists='replace') as writer:\n",
        "    df1.to_excel(writer, sheet_name='df1')\n",
        "    df2.to_excel(writer, sheet_name='df2')\n",
        "    df3.to_excel(writer, sheet_name='df3')\n",
        "    df.to_excel(writer, sheet_name='dfcompleto')"
      ]
    },
    {
      "cell_type": "code",
      "execution_count": 16,
      "metadata": {},
      "outputs": [],
      "source": [
        "#  Prueba a modificar los datos dejando las primeras filas\n",
        "df1 = df1.head(10)\n",
        "df2 = df1.head(11)\n",
        "df3 = df1.head(12)\n",
        "df = df.head(5)"
      ]
    }
  ],
  "metadata": {
    "colab": {
      "include_colab_link": true,
      "provenance": []
    },
    "kernelspec": {
      "display_name": "Python 3.8.8 ('base')",
      "language": "python",
      "name": "python3"
    },
    "language_info": {
      "codemirror_mode": {
        "name": "ipython",
        "version": 3
      },
      "file_extension": ".py",
      "mimetype": "text/x-python",
      "name": "python",
      "nbconvert_exporter": "python",
      "pygments_lexer": "ipython3",
      "version": "3.11.3"
    },
    "orig_nbformat": 4,
    "vscode": {
      "interpreter": {
        "hash": "6f5583cf1d9466b5c27e75c89cc6b383bed5736d6b16c51c8074d8690011a952"
      }
    }
  },
  "nbformat": 4,
  "nbformat_minor": 0
}
