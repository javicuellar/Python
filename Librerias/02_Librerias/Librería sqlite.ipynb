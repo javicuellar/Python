{
 "cells": [
  {
   "attachments": {},
   "cell_type": "markdown",
   "metadata": {},
   "source": [
    "# Librería SQLite - Interfase para SQLite BD\n",
    "\n",
    "Repositorio Github.-  **Guia_Python**\n",
    "\n",
    "Carpeta.- **Módulos/Libreria sqlite.ipynb**\n",
    "\n",
    "_____________________________________________\n",
    "\n",
    "Funciones:\n",
    "\n",
    "- Importar librería **sqlite3**\n",
    "- Conexión Bd -> **bd = sqlite3.connect(fichero)**\n",
    "- Crear objeto cursor -> **cursor = bd.cursor()**\n",
    "- Crear tabla con sequence autoincremental -> **bd.execute(\"CREATE TABLE articulos (codigo integer primary key autoincrement, ...)\")**\n",
    "- Insertar fila en tabla -> **bd.execute(\"INSERT INTO articulos(c1, c2) VALUES (?,?)\", (v1, v2))**\n",
    "- Insertar lista de filas en tabla -> **bd.executemany(\"INSERT INTO articulos (c1, c2) VALUES (?,?)\", lista_tuplas)\n",
    "- Commit, actualizar cambios en fichero -> **bd.commit()**\n",
    "- Consultar registros 1 salida -> **bd.execute(\"SELECT c1, c2 FROM articulos WHERE codigo=?\", (v1, )).fetchone()**\n",
    "- Consulta varios registros (iterable) -> **bd.execute('SELECT * FROM unidades;')**\n",
    "- Consulta varios registros (iterable) 2 -> **bd.execute('SELECT * FROM unidades;').fetchall()**\n",
    "- IMPORTANTE - Cerrar BD al finalizar -> **bd.close()**\n",
    "\n",
    "- Recuperar las tablas existentes en la BD SQLite -> **bd.execute('SELECT * FROM sqlite_master where type=?', ('table', ))**\n",
    "\n",
    "DATAFRAME\n",
    "\n",
    "  - Leer registros de la tabla y cargar en dataframe -> **pd.read_sql_query('SELECT * FROM unidades', bd)**\n",
    "  - Grabar dataframe en tabla -> **dataframe.to_sql(\"tabla\", bd, if_exists=\"replace\")**"
   ]
  },
  {
   "cell_type": "code",
   "execution_count": 18,
   "metadata": {},
   "outputs": [],
   "source": [
    "import sqlite3"
   ]
  },
  {
   "attachments": {},
   "cell_type": "markdown",
   "metadata": {},
   "source": [
    "### Funcionamiento básico -> Conexión BD y crear objeto cursor"
   ]
  },
  {
   "cell_type": "code",
   "execution_count": 33,
   "metadata": {},
   "outputs": [],
   "source": [
    "# Crea un objeto de conexión a la base de datos SQLite\n",
    "fichero = \"D:\\Python\\Espacio\\Fuentes\\Espacio 1.0 Tablas\\espacio.db\"\n",
    "bd = sqlite3.connect(fichero, detect_types=0)       # detecta los tipos python por defecto\n",
    "\n",
    "# Con la conexión, crea un objeto cursor\n",
    "cursor = bd.cursor()"
   ]
  },
  {
   "attachments": {},
   "cell_type": "markdown",
   "metadata": {},
   "source": [
    "### Crear tabla con clave autoincremental"
   ]
  },
  {
   "cell_type": "code",
   "execution_count": 24,
   "metadata": {},
   "outputs": [
    {
     "name": "stdout",
     "output_type": "stream",
     "text": [
      "La tabla articulos ya existe\n"
     ]
    }
   ],
   "source": [
    "try:\n",
    "    bd.execute(\"\"\"create table articulos (\n",
    "                              codigo integer primary key autoincrement,\n",
    "                              descripcion text,\n",
    "                              precio real\n",
    "                        )\"\"\")\n",
    "    print(\"se creo la tabla articulos\")                        \n",
    "except sqlite3.OperationalError:\n",
    "    print(\"La tabla articulos ya existe\")"
   ]
  },
  {
   "attachments": {},
   "cell_type": "markdown",
   "metadata": {},
   "source": [
    "### Insertar filas en una tabla"
   ]
  },
  {
   "cell_type": "code",
   "execution_count": 30,
   "metadata": {},
   "outputs": [],
   "source": [
    "bd.execute(\"insert into articulos(descripcion,precio) values (?,?)\", (\"naranjas\", 23.50))\n",
    "bd.execute(\"insert into articulos(descripcion,precio) values (?,?)\", (\"peras\", 34))\n",
    "bd.execute(\"insert into articulos(descripcion,precio) values (?,?)\", (\"bananas\", 25))\n",
    "bd.commit()"
   ]
  },
  {
   "attachments": {},
   "cell_type": "markdown",
   "metadata": {},
   "source": [
    "### Insertar varias filas de una lista en una tabla"
   ]
  },
  {
   "cell_type": "code",
   "execution_count": 32,
   "metadata": {},
   "outputs": [],
   "source": [
    "datos = [(\"mandarinas\", 7.9),\n",
    "        (\"manzanas\", 6.5),\n",
    "        (\"platanos\", 8.0)      ]\n",
    "\n",
    "bd.executemany(\"INSERT INTO articulos (descripcion, precio) VALUES (?,?)\", datos)\n",
    "bd.commit()"
   ]
  },
  {
   "attachments": {},
   "cell_type": "markdown",
   "metadata": {},
   "source": [
    "### Ejecutar sentencias SQL (consultas)\n",
    "\n",
    "- Leer registros recuperados.- 1) iterando cursor o 2) usando cursor.fetchall()\n",
    "- Leer un único registro -> cursor.fetchone()"
   ]
  },
  {
   "cell_type": "code",
   "execution_count": 27,
   "metadata": {},
   "outputs": [
    {
     "name": "stdout",
     "output_type": "stream",
     "text": [
      "('peras', 34.0)\n"
     ]
    }
   ],
   "source": [
    "#  Lectura de un único registro con código 2\n",
    "codigo = 2\n",
    "cursor = bd.execute(\"select descripcion,precio from articulos where codigo=?\", (codigo, ))\n",
    "\n",
    "fila = cursor.fetchone()\n",
    "\n",
    "if fila!=None:\n",
    "    print(fila)\n",
    "else:\n",
    "    print(\"No existe un artículo con dicho código.\")"
   ]
  },
  {
   "cell_type": "code",
   "execution_count": 38,
   "metadata": {},
   "outputs": [
    {
     "name": "stdout",
     "output_type": "stream",
     "text": [
      "('4892-21E4', 'CLOUD CLARA', '2017-08-08 13:20:24', 3002, 221, 5811170010, 804375666688, '2017-08-26 20:07:14')\n",
      "('AFA9-B42E', 'Cloud Multimedia', '2017-08-26 20:20:40', 37, 4, 42817224474, 804107075584, '2017-08-26 20:33:53')\n",
      "('D023-D4A5', 'CLOUD JAVI', '2017-08-21 11:37:47', 100, 17, 209713002, 804105539584, '2017-08-26 20:35:33')\n",
      "('8889-6A42', 'Copia seguridad', '2015-10-16 18:55:12', 2903, 185, 66889898331, 804097355776, '2017-08-26 20:45:37')\n",
      "('E308-5792', 'Descargas', '', 0, 0, 0, 804077486080, '2017-08-26 21:10:28')\n",
      "('37AF-A9CA', 'Multimedia', '2016-03-08 20:04:13', 284, 25, 285190378274, 804076920832, '2017-08-26 21:10:58')\n",
      "('EDDC-A872', 'JAVI', '', 80947, 10693, 327462662318, 0, '2017-08-26 21:19:38')\n",
      "> cursor.fetchall\n",
      "('4892-21E4', 'CLOUD CLARA', '2017-08-08 13:20:24', 3002, 221, 5811170010, 804375666688, '2017-08-26 20:07:14')\n",
      "('AFA9-B42E', 'Cloud Multimedia', '2017-08-26 20:20:40', 37, 4, 42817224474, 804107075584, '2017-08-26 20:33:53')\n",
      "('D023-D4A5', 'CLOUD JAVI', '2017-08-21 11:37:47', 100, 17, 209713002, 804105539584, '2017-08-26 20:35:33')\n",
      "('8889-6A42', 'Copia seguridad', '2015-10-16 18:55:12', 2903, 185, 66889898331, 804097355776, '2017-08-26 20:45:37')\n",
      "('E308-5792', 'Descargas', '', 0, 0, 0, 804077486080, '2017-08-26 21:10:28')\n",
      "('37AF-A9CA', 'Multimedia', '2016-03-08 20:04:13', 284, 25, 285190378274, 804076920832, '2017-08-26 21:10:58')\n",
      "('EDDC-A872', 'JAVI', '', 80947, 10693, 327462662318, 0, '2017-08-26 21:19:38')\n"
     ]
    }
   ],
   "source": [
    "# El resultado de \"cursor.execute\" puede ser iterado por fila\n",
    "for fila in bd.execute('SELECT * FROM unidades;'):\n",
    "    print(fila)\n",
    "\n",
    "# Otra forma de leer el resultado\n",
    "print(\"> cursor.fetchall\")\n",
    "for fila in bd.execute('SELECT * FROM unidades;').fetchall():\n",
    "    print(fila)"
   ]
  },
  {
   "attachments": {},
   "cell_type": "markdown",
   "metadata": {},
   "source": [
    "### Lectura de registros a dataframe"
   ]
  },
  {
   "cell_type": "code",
   "execution_count": 15,
   "metadata": {},
   "outputs": [
    {
     "name": "stdout",
     "output_type": "stream",
     "text": [
      "    numserie           volumen             fechamod  numfiles  numdir  \\\n",
      "0  4892-21E4       CLOUD CLARA  2017-08-08 13:20:24      3002     221   \n",
      "1  AFA9-B42E  Cloud Multimedia  2017-08-26 20:20:40        37       4   \n",
      "2  D023-D4A5        CLOUD JAVI  2017-08-21 11:37:47       100      17   \n",
      "3  8889-6A42   Copia seguridad  2015-10-16 18:55:12      2903     185   \n",
      "4  E308-5792         Descargas                              0       0   \n",
      "\n",
      "        tamano         libre            fechaudit  \n",
      "0   5811170010  804375666688  2017-08-26 20:07:14  \n",
      "1  42817224474  804107075584  2017-08-26 20:33:53  \n",
      "2    209713002  804105539584  2017-08-26 20:35:33  \n",
      "3  66889898331  804097355776  2017-08-26 20:45:37  \n",
      "4            0  804077486080  2017-08-26 21:10:28  \n"
     ]
    }
   ],
   "source": [
    "import pandas as pd\n",
    "\n",
    "# Usa read_sql_query de pandas para extraer la consulta a DataFrame\n",
    "df = pd.read_sql_query('SELECT * FROM unidades', bd)\n",
    "\n",
    "print(df.head())"
   ]
  },
  {
   "attachments": {},
   "cell_type": "markdown",
   "metadata": {},
   "source": [
    "### Grabar registros de Dataframe en SQLite (nueva tabla)"
   ]
  },
  {
   "cell_type": "code",
   "execution_count": 17,
   "metadata": {},
   "outputs": [],
   "source": [
    "# Selecciona sólo datos que volumen contenga CLOUD\n",
    "volumenCLOUD = df[df.volumen.str.contains('CLOUD')]\n",
    "# planets[planets.method.str.contains('pulsa')]\n",
    "\n",
    "# Escribe los datos del nuevo DataFrame en una nueva tabla en SQLite\n",
    "volumenCLOUD.to_sql(\"unidadesCloud\", bd, if_exists=\"replace\")"
   ]
  },
  {
   "attachments": {},
   "cell_type": "markdown",
   "metadata": {},
   "source": [
    "### Consultar tablas de la BD SQLite"
   ]
  },
  {
   "cell_type": "code",
   "execution_count": 39,
   "metadata": {},
   "outputs": [
    {
     "name": "stdout",
     "output_type": "stream",
     "text": [
      "('table', 'archivos', 'archivos', 2, 'CREATE TABLE archivos\\n            (numserie int, path text, nombre text, extension text, tipo text, fechamod text,tamano int, hash int, fechaudit text)')\n",
      "('table', 'directorios', 'directorios', 3, 'CREATE TABLE directorios\\n            (numserie int, path text, fechamod text, numfiles int, numdir int, tamano int, fechaudit text)')\n",
      "('table', 'unidades', 'unidades', 4, 'CREATE TABLE unidades\\n            (numserie text, volumen text, fechamod text, numfiles int, numdir int, tamano int, libre int, fechaudit text)')\n",
      "('table', 'unidadesCloud', 'unidadesCloud', 1970, 'CREATE TABLE \"unidadesCloud\" (\\n\"index\" INTEGER,\\n  \"numserie\" TEXT,\\n  \"volumen\" TEXT,\\n  \"fechamod\" TEXT,\\n  \"numfiles\" INTEGER,\\n  \"numdir\" INTEGER,\\n  \"tamano\" INTEGER,\\n  \"libre\" INTEGER,\\n  \"fechaudit\" TEXT\\n)')\n",
      "('table', 'articulos', 'articulos', 1972, 'CREATE TABLE articulos (\\n                              codigo integer primary key autoincrement,\\n                              descripcion text,\\n                              precio real\\n                        )')\n",
      "('table', 'sqlite_sequence', 'sqlite_sequence', 1973, 'CREATE TABLE sqlite_sequence(name,seq)')\n"
     ]
    }
   ],
   "source": [
    "# SELECT * FROM sqlite_master WHERE type = \"table\";\n",
    "#  Consultar las tablas existentes en la BD\n",
    "for tabla in bd.execute('SELECT * FROM sqlite_master where type=?', ('table', )):\n",
    "    print(tabla)"
   ]
  },
  {
   "attachments": {},
   "cell_type": "markdown",
   "metadata": {},
   "source": [
    "### IMPORTANTE - Cerrar conexión con BD"
   ]
  },
  {
   "cell_type": "code",
   "execution_count": null,
   "metadata": {},
   "outputs": [],
   "source": [
    "# No te olvides de cerrar la conexión\n",
    "bd.close()"
   ]
  }
 ],
 "metadata": {
  "kernelspec": {
   "display_name": "base",
   "language": "python",
   "name": "python3"
  },
  "language_info": {
   "codemirror_mode": {
    "name": "ipython",
    "version": 3
   },
   "file_extension": ".py",
   "mimetype": "text/x-python",
   "name": "python",
   "nbconvert_exporter": "python",
   "pygments_lexer": "ipython3",
   "version": "3.8.8"
  },
  "orig_nbformat": 4
 },
 "nbformat": 4,
 "nbformat_minor": 2
}
