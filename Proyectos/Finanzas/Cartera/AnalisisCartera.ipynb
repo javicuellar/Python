{
 "cells": [
  {
   "attachments": {},
   "cell_type": "markdown",
   "metadata": {},
   "source": [
    "# Proyecto Cartera - Análisis Cartera\n",
    "\n",
    "- Leer posiciones de activos de hoja google \"Finanzas 2023 (Mvtos. y Operaciones)\".\n",
    "- A partir de las posiciones, Leer valoraciones de la web -> grabar hoja google \"Valoraciones\"."
   ]
  },
  {
   "attachments": {},
   "cell_type": "markdown",
   "metadata": {},
   "source": [
    "### Leer posiciones de activos de \"Finanzas 2023 (Mvtos. y Operaciones)\"\n",
    "\n",
    "**Para poder ver la hoja**  tiene que estar compartida con:\n",
    "\n",
    "appservicio@python-tutorial3.iam.gserviceaccount.com"
   ]
  },
  {
   "cell_type": "code",
   "execution_count": 2,
   "metadata": {},
   "outputs": [],
   "source": [
    "import gspread\n",
    "from oauth2client.service_account import ServiceAccountCredentials\n",
    "\n",
    "#  Ignora los warnings que muestra los modelos\n",
    "import warnings\n",
    "warnings.filterwarnings('ignore')\n",
    "\n",
    "#   Definir el límite de acceso, el scope = alcance, acceso a hojas de cálculo y drive\n",
    "alcance =  ['https://www.googleapis.com/auth/spreadsheets',\n",
    "            'https://www.googleapis.com/auth/drive']\n",
    "\n",
    "Credenciales = ServiceAccountCredentials.from_json_keyfile_name('Credenciales.json', alcance)\n",
    "\n",
    "cliente = gspread.authorize(Credenciales)"
   ]
  },
  {
   "cell_type": "code",
   "execution_count": 46,
   "metadata": {},
   "outputs": [
    {
     "name": "stdout",
     "output_type": "stream",
     "text": [
      "['Activo', 'Valor', 'Valor G.', 'ISIN', 'MorningStar', 'Producto', 'Tipo', 'Categoría', 'Moneda']\n"
     ]
    }
   ],
   "source": [
    "#  Lectura de hoja google \"Finanzas 2023 (Mvtos. y Operaciones)\"\n",
    "hoja = cliente.open(\"Finanzas 2023 (Mvtos. y Operaciones)\")\n",
    "valoracion = hoja.worksheet('Valoración')\n",
    "lista = valoracion.get_all_values()                # vuelca en Lista\n",
    "\n",
    "import pandas as pd\n",
    "\n",
    "#  Defino función para transformar los números de la hoja con puntos y coma y símbolo euro\n",
    "def ExtraerNum(texto):\n",
    "    if texto in ['', '#N/A']:\n",
    "        valor = 0\n",
    "    else:\n",
    "        caracterEliminar = '. €+EURSD'\n",
    "        for x in range(0, len(caracterEliminar)):\n",
    "            texto = texto.replace(caracterEliminar[x], '')\n",
    "    \n",
    "        valor = float(texto.replace(\",\", \".\"))\n",
    "    return valor\n",
    "\n",
    "\n",
    "#  Proceso la lista de activos analizando los datos y transformando campos numéricos\n",
    "#      Grabamos el resultado en un DataFrame\n",
    "cont = 0\n",
    "datos = list()\n",
    "for linea in lista:\n",
    "    try:\n",
    "        cont += 1\n",
    "        if cont == 1:\n",
    "            indice = linea[0:9]\n",
    "            print(indice)\n",
    "        if cont > 1 and linea[1] != '':\n",
    "            valor = ExtraerNum(linea[1])\n",
    "            valorG = ExtraerNum(linea[2])\n",
    "            datos.append([linea[0]] + [valor, valorG] + linea[3:9])\n",
    "    except ValueError:\n",
    "        print(\"Error línea: \", cont, \" línea[0:3]-> \", linea[0:3])\n",
    "\n",
    "\n",
    "#  Grabo la información extraída: índice y datos en DataFrame\n",
    "df = pd.DataFrame(datos, columns=indice)"
   ]
  },
  {
   "cell_type": "code",
   "execution_count": null,
   "metadata": {},
   "outputs": [],
   "source": []
  }
 ],
 "metadata": {
  "kernelspec": {
   "display_name": "Python 3.8.8 ('base')",
   "language": "python",
   "name": "python3"
  },
  "language_info": {
   "codemirror_mode": {
    "name": "ipython",
    "version": 3
   },
   "file_extension": ".py",
   "mimetype": "text/x-python",
   "name": "python",
   "nbconvert_exporter": "python",
   "pygments_lexer": "ipython3",
   "version": "3.11.3"
  },
  "orig_nbformat": 4,
  "vscode": {
   "interpreter": {
    "hash": "6f5583cf1d9466b5c27e75c89cc6b383bed5736d6b16c51c8074d8690011a952"
   }
  }
 },
 "nbformat": 4,
 "nbformat_minor": 2
}
