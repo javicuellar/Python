{
  "cells": [
    {
      "cell_type": "markdown",
      "metadata": {
        "colab_type": "text",
        "id": "view-in-github"
      },
      "source": [
        "<a href=\"https://colab.research.google.com/github/javicuellar/Python/blob/master/scraping_from_investpy.ipynb\" target=\"_parent\"><img src=\"https://colab.research.google.com/assets/colab-badge.svg\" alt=\"Open In Colab\"/></a>"
      ]
    },
    {
      "cell_type": "markdown",
      "metadata": {
        "id": "gdFjf_f_5iwQ"
      },
      "source": [
        "Primero necesitamos instalar el paquete investpy e importar las librerías necesarias"
      ]
    },
    {
      "cell_type": "code",
      "execution_count": null,
      "metadata": {
        "colab": {
          "base_uri": "https://localhost:8080/"
        },
        "id": "-KhnWvk2huFB",
        "outputId": "f7df72e5-5be3-4463-d1f5-e674ad2bb6e7"
      },
      "outputs": [],
      "source": [
        "pip install investpy"
      ]
    },
    {
      "cell_type": "code",
      "execution_count": null,
      "metadata": {
        "id": "VDja-A40nn-9"
      },
      "outputs": [],
      "source": [
        "import investpy\n",
        "import pandas as pd\n",
        "from tqdm import tqdm"
      ]
    },
    {
      "cell_type": "markdown",
      "metadata": {
        "id": "-1eu1Wk96Nao"
      },
      "source": [
        "La función “get_hist_data” nos devuelve un diccionario cuyas claves son los símbolos de los productos de una tipología y un país definidos por el usuario y los valores son los dataframes (tablas de datos) asociadas a cada símbolo donde las columnas será el precio de apertura, cierre, máximo,... (a elección del usuario) y cada fila se corresponde con el registro del precio para un día determinado.\n",
        "\n",
        "Para definir la función \"get_hist_data\" hacemos uso de una función auxiliar \"get_symbols_list\", que dado un país y una tipología de producto (fondo, acción, etf) nos devuelve una lista de todos los productos de ese tipo para ese país."
      ]
    },
    {
      "cell_type": "code",
      "execution_count": null,
      "metadata": {
        "id": "Irjz3cCCnvvc"
      },
      "outputs": [],
      "source": [
        "def get_hist_data(from_date, to_date, product='stocks', country='spain', ls_cols=['Open', 'High', 'Low', 'Close']):\n",
        "  \"\"\"\n",
        "  It retrieves daily historical data for a product, for a specified country in a specified date range.\n",
        "\n",
        "  Arguments:\n",
        "    from_date (str format: 'dd/mm/yyyy'): starting date for historical data\n",
        "    to_date (str format: 'dd/mm/yyyy'): end date for historical data\n",
        "    product (str): name of the type of poduct we want to retrieve data from, it can be 'stocks', 'funds' or 'etfs'\n",
        "    country (str): country from which we want to retrieve data from\n",
        "    ls_cols (list of str): columns we want to include\n",
        "\n",
        "  Returns:\n",
        "    d_res (dict): dictionary where keys are product symbols and values a dataframe with daily historical data\n",
        "  \"\"\"\n",
        "  # Output\n",
        "  d_res = dict()\n",
        "  # STEP 1: Get all symbols for a type of product from a country\n",
        "  ls_symbols = get_symbols_list(product,country)\n",
        "  # STEP 2: Retrieve and store all historical data\n",
        "  for symbol in tqdm(ls_symbols):\n",
        "    try:\n",
        "      # STEP 3: Try to get historical data for that symbol\n",
        "      if product == 'stocks':\n",
        "        df_hist = investpy.get_stock_historical_data(symbol, country=country, from_date=from_date, to_date=to_date)[ls_cols]\n",
        "      elif product == 'funds':\n",
        "        df_hist = investpy.get_fund_historical_data(symbol, country=country, from_date=from_date, to_date=to_date)[ls_cols]\n",
        "      elif product == 'etfs':\n",
        "        df_hist = investpy.get_etf_historical_data(symbol, country=country, from_date=from_date, to_date=to_date)[ls_cols]\n",
        "    except Exception:\n",
        "      pass\n",
        "    else:\n",
        "      # STEP 4: If it succeeded then check there are no missing values and assign df_hist to its corresponding symbol\n",
        "      if df_hist.isnull().values.any() == False:\n",
        "        d_res[symbol] = df_hist\n",
        "  return d_res\n",
        "\n",
        "def get_symbols_list(product, country):\n",
        "  \"\"\"\n",
        "  It returns symbols that are needed to find historical data for\n",
        "\n",
        "  Arguments:\n",
        "    product (str): name of the type of poduct, it can be 'stocks', 'funds' or 'etfs'\n",
        "    country (str): country from which we want to retrieve data from\n",
        "\n",
        "  Returns:\n",
        "    list of symbols (str) for a type of product from a specified country\n",
        "  \"\"\"\n",
        "  if product == 'stocks':\n",
        "    return investpy.get_stocks_list(country=country)\n",
        "  elif product == 'funds':\n",
        "    return investpy.get_funds_list(country=country)\n",
        "  elif product == 'etfs':\n",
        "    return investpy.get_etfs_list(country=country)"
      ]
    },
    {
      "cell_type": "code",
      "execution_count": null,
      "metadata": {
        "colab": {
          "base_uri": "https://localhost:8080/"
        },
        "id": "AYDsYtjrGyu5",
        "outputId": "c2352e08-a1db-48db-e4eb-aaeb24f11db5"
      },
      "outputs": [],
      "source": [
        "x=investpy.get_stocks_list(country='germany')\n",
        "x"
      ]
    },
    {
      "cell_type": "code",
      "execution_count": null,
      "metadata": {
        "colab": {
          "base_uri": "https://localhost:8080/",
          "height": 455
        },
        "id": "-kq8omMwK5eS",
        "outputId": "b92f7f07-d697-4f6c-f425-371576aa64ab"
      },
      "outputs": [],
      "source": [
        "investpy.get_stock_historical_data('ALVG', country='germany', from_date='01/01/2020', to_date='01/01/2021')"
      ]
    },
    {
      "cell_type": "code",
      "execution_count": null,
      "metadata": {
        "colab": {
          "base_uri": "https://localhost:8080/"
        },
        "id": "ROPfiOfkHFOi",
        "outputId": "2744bcce-fb28-4408-f328-56cbf4875087"
      },
      "outputs": [],
      "source": [
        "x"
      ]
    },
    {
      "cell_type": "code",
      "execution_count": null,
      "metadata": {
        "colab": {
          "base_uri": "https://localhost:8080/",
          "height": 287
        },
        "id": "sMesp2KUGO_6",
        "outputId": "c459df5e-7fb4-41e4-99a2-dc2b3e09715b"
      },
      "outputs": [],
      "source": [
        "investpy.get_etf_historical_data('ETFS Silver', country='spain', from_date='01/01/2022', to_date='15/07/2022')"
      ]
    },
    {
      "cell_type": "markdown",
      "metadata": {
        "id": "kEcrZkcJ9RTm"
      },
      "source": [
        "Si quisiéramos obtener el histórico de acciones españolas desde el 1 de enero de 2020 al 1 de febrero de 2021 llamamos a la función \"get_hist_data\", tal y como se observa a continuación."
      ]
    },
    {
      "cell_type": "code",
      "execution_count": null,
      "metadata": {
        "colab": {
          "base_uri": "https://localhost:8080/",
          "height": 834
        },
        "id": "zexOtoILXqvz",
        "outputId": "cc974c0a-bd5e-4bfd-b533-fe01d41e85c3"
      },
      "outputs": [],
      "source": [
        "d_stocks = get_hist_data('01/01/2020', '01/02/2021', product='etfs', country='germany', ls_cols=['Open', 'High', 'Low', 'Close'])"
      ]
    },
    {
      "cell_type": "markdown",
      "metadata": {
        "id": "IVwdjItS-cfk"
      },
      "source": [
        "La estructura de diccionario es útil ya que permite manipular los datos accediendo a la clave y comenzar a tratar los datos para la predicción.\n",
        "\n",
        "Aquí vemos el histórico asociado a la clave BBVA, es decir, para la acción BBVA comercializada en España vemos los precios históricos diarios de apertura, cierre, máximo y mínimo."
      ]
    },
    {
      "cell_type": "code",
      "execution_count": null,
      "metadata": {
        "colab": {
          "base_uri": "https://localhost:8080/",
          "height": 450
        },
        "id": "UevO3BW--ds8",
        "outputId": "567ec828-7e2f-42b1-f18f-fce0bc6ed756"
      },
      "outputs": [],
      "source": [
        "d_stocks['BBVA']"
      ]
    },
    {
      "cell_type": "markdown",
      "metadata": {
        "id": "27HH2vycClf-"
      },
      "source": [
        "La función “get_hist_df_data” nos permitirá poner todos los datos en un mismo dataframe no sólo diarios sino también por media semanal o mensual (a elección del usuario), posteriormente este dataframe puede ser exportado a csv para poder ser importado en excel."
      ]
    },
    {
      "cell_type": "code",
      "execution_count": null,
      "metadata": {
        "id": "lMJW1z1Q8_B0"
      },
      "outputs": [],
      "source": [
        "def get_hist_df_data(d_hist,resample=None):\n",
        "  \"\"\"\n",
        "  It transforms a dictionary containing historical data for different items into a single dataframe indexed by time\n",
        "\n",
        "  Arguments:\n",
        "    d_hist (dict): dictionary where keys are product symbols and values a dataframe with daily historical data\n",
        "    resample (str): 'W' if we want our historical data to be resampled by weekly mean, 'M' for monthly mean, if None it keeps being daily\n",
        "\n",
        "  Returns:\n",
        "    dataframe: containing all historical prices for all products\n",
        "  \"\"\"\n",
        "  ls_df = []\n",
        "  # For every symbol\n",
        "  for symbol, df in d_hist.items():\n",
        "    # Cast its index inta a datetime index\n",
        "    df.index=pd.to_datetime(df.index)\n",
        "    # If specified daily data will be converted into weekly or monthly\n",
        "    if resample!=None:\n",
        "      df=df.resample(resample).mean()\n",
        "    # Symbol is included as an extra column\n",
        "    df['Symbol'] = symbol\n",
        "    # Transformed dataframe is added to df list\n",
        "    ls_df.append(df)\n",
        "  return pd.concat(ls_df)"
      ]
    },
    {
      "cell_type": "markdown",
      "metadata": {
        "id": "A62RphQ4C39Y"
      },
      "source": [
        "Siguiendo el ejemplo de las acciones de España, usamos el diccionario \"d_stocks\" como argumento de la función \"get_hist_df_data\", y si queremos los datos agregados por su media semanal lo indicamos con 'W'."
      ]
    },
    {
      "cell_type": "code",
      "execution_count": null,
      "metadata": {
        "id": "vFl9Q7e5huFU"
      },
      "outputs": [],
      "source": [
        "df_stocks_w = get_hist_df_data(d_stocks,'W')"
      ]
    },
    {
      "cell_type": "markdown",
      "metadata": {
        "id": "PQWbWt35D7Dq"
      },
      "source": [
        "A continuación podemos observar los primeros registros de los precios históricos de todas las acciones de España agregados semanalmente."
      ]
    },
    {
      "cell_type": "code",
      "execution_count": null,
      "metadata": {
        "colab": {
          "base_uri": "https://localhost:8080/",
          "height": 235
        },
        "id": "a50w-tNhFLp_",
        "outputId": "33115716-8713-49ea-e04f-a6785de1a6dd"
      },
      "outputs": [],
      "source": [
        "df_stocks_w.head()"
      ]
    },
    {
      "cell_type": "markdown",
      "metadata": {
        "id": "eBeEWhTtGXTR"
      },
      "source": [
        "Para exportar los datos históricos a csv simplemente tenemos que:"
      ]
    },
    {
      "cell_type": "code",
      "execution_count": null,
      "metadata": {
        "id": "FXeOeAI3Ox8L"
      },
      "outputs": [],
      "source": [
        "# Exportar a csv\n",
        "df_stocks_w.to_csv('stocks_spain_weekly.csv',sep=';')"
      ]
    },
    {
      "cell_type": "markdown",
      "metadata": {
        "id": "YELuZ4h2dR3T"
      },
      "source": [
        "El siguiente apartado es para la visualización del número de productos en cada país"
      ]
    },
    {
      "cell_type": "code",
      "execution_count": null,
      "metadata": {
        "id": "K6ryg8YeJpeT"
      },
      "outputs": [],
      "source": [
        "from collections import Counter\n",
        "import matplotlib.pyplot as plt\n",
        "import seaborn as sns\n",
        "\n",
        "# Se obtienen el número de productos de cada tipo por país\n",
        "paises_fondos = dict(Counter(investpy.get_funds()['country']))\n",
        "paises_acciones = dict(Counter(investpy.get_stocks()['country']))\n",
        "paises_etfs = dict(Counter(investpy.get_etfs()['country']))\n",
        "\n",
        "# Definimos una función que nos permita visualizar\n",
        "def get_bars(dicc,min_prod):\n",
        "  \"\"\"\n",
        "  Recibe:\n",
        "    -dicc: Un diccionario donde la clave es el país y el valor el número de productos.\n",
        "    -min_prod: El número mínimo de productos que un país debe tener para que sea mostrado\n",
        "  \"\"\"\n",
        "  # Filtramos los países\n",
        "  d_filtered = {x: count for x, count in dicc.items() if count >= min_prod}\n",
        "  # Mostramos el grśfico de barras\n",
        "  plt.figure(figsize=(15,8))\n",
        "  plt.title(f'Países con más de {min_prod} productos')\n",
        "  sns.barplot(x=list(d_filtered.keys()), y=list(d_filtered.values()))"
      ]
    },
    {
      "cell_type": "code",
      "execution_count": null,
      "metadata": {
        "colab": {
          "base_uri": "https://localhost:8080/",
          "height": 499
        },
        "id": "7rH6vq8CXatJ",
        "outputId": "4d012120-2d8e-444a-8c93-b28c70f78238"
      },
      "outputs": [],
      "source": [
        "# Si quisiésemos ver cuales son los países que tienen más de 2.000 acciones tendriamos que:\n",
        "get_bars(paises_acciones,2000)"
      ]
    }
  ],
  "metadata": {
    "colab": {
      "collapsed_sections": [],
      "include_colab_link": true,
      "provenance": []
    },
    "kernelspec": {
      "display_name": "Python 3.8.8 ('base')",
      "language": "python",
      "name": "python3"
    },
    "language_info": {
      "codemirror_mode": {
        "name": "ipython",
        "version": 3
      },
      "file_extension": ".py",
      "mimetype": "text/x-python",
      "name": "python",
      "nbconvert_exporter": "python",
      "pygments_lexer": "ipython3",
      "version": "3.8.8"
    },
    "vscode": {
      "interpreter": {
        "hash": "6f5583cf1d9466b5c27e75c89cc6b383bed5736d6b16c51c8074d8690011a952"
      }
    }
  },
  "nbformat": 4,
  "nbformat_minor": 0
}
