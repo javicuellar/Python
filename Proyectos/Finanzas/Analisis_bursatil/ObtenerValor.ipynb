{
 "cells": [
  {
   "attachments": {},
   "cell_type": "markdown",
   "metadata": {},
   "source": [
    "# Obtener valores de acciones, ETFs, fondos y planes de pensiones"
   ]
  },
  {
   "attachments": {},
   "cell_type": "markdown",
   "metadata": {},
   "source": [
    "### yfinance"
   ]
  },
  {
   "cell_type": "code",
   "execution_count": 1,
   "metadata": {},
   "outputs": [
    {
     "name": "stdout",
     "output_type": "stream",
     "text": [
      "[*********************100%***********************]  1 of 1 completed\n"
     ]
    },
    {
     "data": {
      "text/html": [
       "<div>\n",
       "<style scoped>\n",
       "    .dataframe tbody tr th:only-of-type {\n",
       "        vertical-align: middle;\n",
       "    }\n",
       "\n",
       "    .dataframe tbody tr th {\n",
       "        vertical-align: top;\n",
       "    }\n",
       "\n",
       "    .dataframe thead th {\n",
       "        text-align: right;\n",
       "    }\n",
       "</style>\n",
       "<table border=\"1\" class=\"dataframe\">\n",
       "  <thead>\n",
       "    <tr style=\"text-align: right;\">\n",
       "      <th></th>\n",
       "      <th>Open</th>\n",
       "      <th>High</th>\n",
       "      <th>Low</th>\n",
       "      <th>Close</th>\n",
       "      <th>Adj Close</th>\n",
       "      <th>Volume</th>\n",
       "    </tr>\n",
       "    <tr>\n",
       "      <th>Date</th>\n",
       "      <th></th>\n",
       "      <th></th>\n",
       "      <th></th>\n",
       "      <th></th>\n",
       "      <th></th>\n",
       "      <th></th>\n",
       "    </tr>\n",
       "  </thead>\n",
       "  <tbody>\n",
       "    <tr>\n",
       "      <th>2023-06-12</th>\n",
       "      <td>6.554</td>\n",
       "      <td>6.606</td>\n",
       "      <td>6.498</td>\n",
       "      <td>6.554</td>\n",
       "      <td>6.554</td>\n",
       "      <td>7502358</td>\n",
       "    </tr>\n",
       "    <tr>\n",
       "      <th>2023-06-13</th>\n",
       "      <td>0.000</td>\n",
       "      <td>0.000</td>\n",
       "      <td>0.000</td>\n",
       "      <td>6.532</td>\n",
       "      <td>6.532</td>\n",
       "      <td>45254</td>\n",
       "    </tr>\n",
       "  </tbody>\n",
       "</table>\n",
       "</div>"
      ],
      "text/plain": [
       "             Open   High    Low  Close  Adj Close   Volume\n",
       "Date                                                      \n",
       "2023-06-12  6.554  6.606  6.498  6.554      6.554  7502358\n",
       "2023-06-13  0.000  0.000  0.000  6.532      6.532    45254"
      ]
     },
     "execution_count": 1,
     "metadata": {},
     "output_type": "execute_result"
    }
   ],
   "source": [
    "import yfinance as yf\n",
    "\n",
    "data = yf.download(\"bbva.mc\", start=\"2023-06-12\")\n",
    "data"
   ]
  },
  {
   "cell_type": "code",
   "execution_count": 2,
   "metadata": {},
   "outputs": [
    {
     "name": "stdout",
     "output_type": "stream",
     "text": [
      "[*********************100%***********************]  3 of 3 completed\n"
     ]
    },
    {
     "data": {
      "text/html": [
       "<div>\n",
       "<style scoped>\n",
       "    .dataframe tbody tr th:only-of-type {\n",
       "        vertical-align: middle;\n",
       "    }\n",
       "\n",
       "    .dataframe tbody tr th {\n",
       "        vertical-align: top;\n",
       "    }\n",
       "\n",
       "    .dataframe thead tr th {\n",
       "        text-align: left;\n",
       "    }\n",
       "\n",
       "    .dataframe thead tr:last-of-type th {\n",
       "        text-align: right;\n",
       "    }\n",
       "</style>\n",
       "<table border=\"1\" class=\"dataframe\">\n",
       "  <thead>\n",
       "    <tr>\n",
       "      <th></th>\n",
       "      <th colspan=\"3\" halign=\"left\">Adj Close</th>\n",
       "      <th colspan=\"3\" halign=\"left\">Close</th>\n",
       "      <th colspan=\"3\" halign=\"left\">High</th>\n",
       "      <th colspan=\"3\" halign=\"left\">Low</th>\n",
       "      <th colspan=\"3\" halign=\"left\">Open</th>\n",
       "      <th colspan=\"3\" halign=\"left\">Volume</th>\n",
       "    </tr>\n",
       "    <tr>\n",
       "      <th></th>\n",
       "      <th>6AQQ.DE</th>\n",
       "      <th>IUSE.MI</th>\n",
       "      <th>VUSA.AS</th>\n",
       "      <th>6AQQ.DE</th>\n",
       "      <th>IUSE.MI</th>\n",
       "      <th>VUSA.AS</th>\n",
       "      <th>6AQQ.DE</th>\n",
       "      <th>IUSE.MI</th>\n",
       "      <th>VUSA.AS</th>\n",
       "      <th>6AQQ.DE</th>\n",
       "      <th>IUSE.MI</th>\n",
       "      <th>VUSA.AS</th>\n",
       "      <th>6AQQ.DE</th>\n",
       "      <th>IUSE.MI</th>\n",
       "      <th>VUSA.AS</th>\n",
       "      <th>6AQQ.DE</th>\n",
       "      <th>IUSE.MI</th>\n",
       "      <th>VUSA.AS</th>\n",
       "    </tr>\n",
       "    <tr>\n",
       "      <th>Date</th>\n",
       "      <th></th>\n",
       "      <th></th>\n",
       "      <th></th>\n",
       "      <th></th>\n",
       "      <th></th>\n",
       "      <th></th>\n",
       "      <th></th>\n",
       "      <th></th>\n",
       "      <th></th>\n",
       "      <th></th>\n",
       "      <th></th>\n",
       "      <th></th>\n",
       "      <th></th>\n",
       "      <th></th>\n",
       "      <th></th>\n",
       "      <th></th>\n",
       "      <th></th>\n",
       "      <th></th>\n",
       "    </tr>\n",
       "  </thead>\n",
       "  <tbody>\n",
       "    <tr>\n",
       "      <th>2023-06-13</th>\n",
       "      <td>155.820007</td>\n",
       "      <td>92.849998</td>\n",
       "      <td>76.870003</td>\n",
       "      <td>155.820007</td>\n",
       "      <td>92.849998</td>\n",
       "      <td>76.870003</td>\n",
       "      <td>156.119995</td>\n",
       "      <td>92.980003</td>\n",
       "      <td>76.910004</td>\n",
       "      <td>154.740005</td>\n",
       "      <td>92.290001</td>\n",
       "      <td>76.309998</td>\n",
       "      <td>155.520004</td>\n",
       "      <td>92.480003</td>\n",
       "      <td>76.542999</td>\n",
       "      <td>36268</td>\n",
       "      <td>28143</td>\n",
       "      <td>37476</td>\n",
       "    </tr>\n",
       "  </tbody>\n",
       "</table>\n",
       "</div>"
      ],
      "text/plain": [
       "             Adj Close                             Close              \n",
       "               6AQQ.DE    IUSE.MI    VUSA.AS     6AQQ.DE    IUSE.MI   \n",
       "Date                                                                  \n",
       "2023-06-13  155.820007  92.849998  76.870003  155.820007  92.849998  \\\n",
       "\n",
       "                             High                               Low   \n",
       "              VUSA.AS     6AQQ.DE    IUSE.MI    VUSA.AS     6AQQ.DE   \n",
       "Date                                                                  \n",
       "2023-06-13  76.870003  156.119995  92.980003  76.910004  154.740005  \\\n",
       "\n",
       "                                        Open                        Volume   \n",
       "              IUSE.MI    VUSA.AS     6AQQ.DE    IUSE.MI    VUSA.AS 6AQQ.DE   \n",
       "Date                                                                         \n",
       "2023-06-13  92.290001  76.309998  155.520004  92.480003  76.542999   36268  \\\n",
       "\n",
       "                            \n",
       "           IUSE.MI VUSA.AS  \n",
       "Date                        \n",
       "2023-06-13   28143   37476  "
      ]
     },
     "execution_count": 2,
     "metadata": {},
     "output_type": "execute_result"
    }
   ],
   "source": [
    "#  ETFs\n",
    "data = yf.download(\"vusa.as, iuse.mi, 6aqq.de\", start=\"2023-06-13\")\n",
    "data"
   ]
  },
  {
   "attachments": {},
   "cell_type": "markdown",
   "metadata": {},
   "source": [
    "### investpy"
   ]
  },
  {
   "cell_type": "code",
   "execution_count": 2,
   "metadata": {},
   "outputs": [],
   "source": [
    "import investpy as inv"
   ]
  },
  {
   "cell_type": "code",
   "execution_count": 3,
   "metadata": {},
   "outputs": [
    {
     "ename": "ModuleNotFoundError",
     "evalue": "No module named 'pandas_datareader'",
     "output_type": "error",
     "traceback": [
      "\u001b[1;31m---------------------------------------------------------------------------\u001b[0m",
      "\u001b[1;31mModuleNotFoundError\u001b[0m                       Traceback (most recent call last)",
      "Cell \u001b[1;32mIn[3], line 1\u001b[0m\n\u001b[1;32m----> 1\u001b[0m \u001b[39mimport\u001b[39;00m \u001b[39mpandas_datareader\u001b[39;00m\u001b[39m.\u001b[39;00m\u001b[39mdata\u001b[39;00m \u001b[39mas\u001b[39;00m \u001b[39mweb\u001b[39;00m\n\u001b[0;32m      2\u001b[0m \u001b[39mimport\u001b[39;00m \u001b[39mpandas\u001b[39;00m \u001b[39mas\u001b[39;00m \u001b[39mpd\u001b[39;00m\n\u001b[0;32m      3\u001b[0m \u001b[39mimport\u001b[39;00m \u001b[39mdatetime\u001b[39;00m \u001b[39mas\u001b[39;00m \u001b[39mdt\u001b[39;00m\n",
      "\u001b[1;31mModuleNotFoundError\u001b[0m: No module named 'pandas_datareader'"
     ]
    }
   ],
   "source": [
    "import pandas_datareader.data as web\n",
    "import pandas as pd\n",
    "import datetime as dt\n",
    "\n",
    "# yahoo - retrieve daily stock prices (high, open, close, volu,e and adjusted close)\n",
    "# yahoo-actions - retrieve historical corporate actions (dividends and stock splits)\n",
    "# yahoo-dividends - retrieve historical dividends\n",
    "df = web.DataReader('GOOG', 'yahoo', start='2019-09-10', end='2019-10-09')\n",
    "print(\"Precios Google\\n\", df.head())\n",
    "\n",
    "\n",
    "inicio = dt.datetime(2010, 1, 29)\n",
    "fin = dt.datetime.today()\n",
    "actions = web.DataReader('GOOG', 'yahoo-actions', inicio, fin)\n",
    "print(\"\\nSsplits: \\n\", actions.head())\n",
    "\n",
    "\n",
    "dividendos = web.DataReader('IBM', 'yahoo-dividends', inicio, fin)\n",
    "print(\"\\nDividendos: \\n\", dividendos.head())"
   ]
  }
 ],
 "metadata": {
  "kernelspec": {
   "display_name": "Python 3",
   "language": "python",
   "name": "python3"
  },
  "language_info": {
   "codemirror_mode": {
    "name": "ipython",
    "version": 3
   },
   "file_extension": ".py",
   "mimetype": "text/x-python",
   "name": "python",
   "nbconvert_exporter": "python",
   "pygments_lexer": "ipython3",
   "version": "3.11.3"
  },
  "orig_nbformat": 4
 },
 "nbformat": 4,
 "nbformat_minor": 2
}
