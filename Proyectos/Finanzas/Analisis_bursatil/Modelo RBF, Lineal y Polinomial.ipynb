{
 "cells": [
  {
   "cell_type": "markdown",
   "metadata": {},
   "source": [
    "***Linear Model - RBF Model - Polynomial Model***"
   ]
  },
  {
   "cell_type": "code",
   "execution_count": 66,
   "metadata": {},
   "outputs": [
    {
     "data": {
      "text/html": [
       "<div>\n",
       "<style scoped>\n",
       "    .dataframe tbody tr th:only-of-type {\n",
       "        vertical-align: middle;\n",
       "    }\n",
       "\n",
       "    .dataframe tbody tr th {\n",
       "        vertical-align: top;\n",
       "    }\n",
       "\n",
       "    .dataframe thead th {\n",
       "        text-align: right;\n",
       "    }\n",
       "</style>\n",
       "<table border=\"1\" class=\"dataframe\">\n",
       "  <thead>\n",
       "    <tr style=\"text-align: right;\">\n",
       "      <th></th>\n",
       "      <th>High</th>\n",
       "      <th>Low</th>\n",
       "      <th>Open</th>\n",
       "      <th>Close</th>\n",
       "      <th>Volume</th>\n",
       "      <th>Adj Close</th>\n",
       "      <th>Date</th>\n",
       "    </tr>\n",
       "    <tr>\n",
       "      <th>Date</th>\n",
       "      <th></th>\n",
       "      <th></th>\n",
       "      <th></th>\n",
       "      <th></th>\n",
       "      <th></th>\n",
       "      <th></th>\n",
       "      <th></th>\n",
       "    </tr>\n",
       "  </thead>\n",
       "  <tbody>\n",
       "    <tr>\n",
       "      <th>2022-09-01</th>\n",
       "      <td>13.005</td>\n",
       "      <td>12.785</td>\n",
       "      <td>12.865</td>\n",
       "      <td>12.885</td>\n",
       "      <td>3803212</td>\n",
       "      <td>12.885</td>\n",
       "      <td>2022-09-01</td>\n",
       "    </tr>\n",
       "    <tr>\n",
       "      <th>2022-09-02</th>\n",
       "      <td>13.440</td>\n",
       "      <td>12.900</td>\n",
       "      <td>12.995</td>\n",
       "      <td>13.380</td>\n",
       "      <td>4960994</td>\n",
       "      <td>13.380</td>\n",
       "      <td>2022-09-02</td>\n",
       "    </tr>\n",
       "    <tr>\n",
       "      <th>2022-09-05</th>\n",
       "      <td>13.765</td>\n",
       "      <td>13.340</td>\n",
       "      <td>13.340</td>\n",
       "      <td>13.685</td>\n",
       "      <td>4975330</td>\n",
       "      <td>13.685</td>\n",
       "      <td>2022-09-05</td>\n",
       "    </tr>\n",
       "    <tr>\n",
       "      <th>2022-09-06</th>\n",
       "      <td>13.840</td>\n",
       "      <td>13.440</td>\n",
       "      <td>13.830</td>\n",
       "      <td>13.475</td>\n",
       "      <td>4309713</td>\n",
       "      <td>13.475</td>\n",
       "      <td>2022-09-06</td>\n",
       "    </tr>\n",
       "    <tr>\n",
       "      <th>2022-09-07</th>\n",
       "      <td>13.665</td>\n",
       "      <td>12.930</td>\n",
       "      <td>13.550</td>\n",
       "      <td>12.930</td>\n",
       "      <td>7808306</td>\n",
       "      <td>12.930</td>\n",
       "      <td>2022-09-07</td>\n",
       "    </tr>\n",
       "  </tbody>\n",
       "</table>\n",
       "</div>"
      ],
      "text/plain": [
       "              High     Low    Open   Close   Volume  Adj Close       Date\n",
       "Date                                                                     \n",
       "2022-09-01  13.005  12.785  12.865  12.885  3803212     12.885 2022-09-01\n",
       "2022-09-02  13.440  12.900  12.995  13.380  4960994     13.380 2022-09-02\n",
       "2022-09-05  13.765  13.340  13.340  13.685  4975330     13.685 2022-09-05\n",
       "2022-09-06  13.840  13.440  13.830  13.475  4309713     13.475 2022-09-06\n",
       "2022-09-07  13.665  12.930  13.550  12.930  7808306     12.930 2022-09-07"
      ]
     },
     "execution_count": 66,
     "metadata": {},
     "output_type": "execute_result"
    }
   ],
   "source": [
    "import numpy as np\n",
    "from sklearn.svm import SVR \n",
    "import matplotlib.pyplot as plt \n",
    "import pandas as pd \n",
    "from pandas_datareader.data import DataReader\n",
    "%matplotlib inline\n",
    "\n",
    "# ACCION = 'BBVA.MC'\n",
    "# ACCION = '^GSPC'\n",
    "ACCION = 'REP.MC'\n",
    "FECHA_INICIO = '2022-09-01'\n",
    "FECHA_FINAL  = '2022-09-30'\n",
    "\n",
    "#  Cargamos el dataset usando la librería DataReader, fuente \"yahoo\".\n",
    "dataframe = DataReader(ACCION, data_source='yahoo', start=FECHA_INICIO, end=FECHA_FINAL)\n",
    "#  Añadimos las fechas al dataframe (esta en el indice, lo dejamos también)\n",
    "dataframe[\"Date\"] = dataframe.index\n",
    "dataframe.head()"
   ]
  },
  {
   "cell_type": "markdown",
   "metadata": {},
   "source": [
    "  Formateamos los datos.-  cambio de orden, no veo cambios significativos salvo la fecha que la convierte a cadena de caracteres (str)."
   ]
  },
  {
   "cell_type": "code",
   "execution_count": 67,
   "metadata": {},
   "outputs": [
    {
     "data": {
      "text/html": [
       "<div>\n",
       "<style scoped>\n",
       "    .dataframe tbody tr th:only-of-type {\n",
       "        vertical-align: middle;\n",
       "    }\n",
       "\n",
       "    .dataframe tbody tr th {\n",
       "        vertical-align: top;\n",
       "    }\n",
       "\n",
       "    .dataframe thead th {\n",
       "        text-align: right;\n",
       "    }\n",
       "</style>\n",
       "<table border=\"1\" class=\"dataframe\">\n",
       "  <thead>\n",
       "    <tr style=\"text-align: right;\">\n",
       "      <th></th>\n",
       "      <th>open</th>\n",
       "      <th>volume</th>\n",
       "      <th>high</th>\n",
       "      <th>low</th>\n",
       "      <th>close</th>\n",
       "      <th>date</th>\n",
       "      <th>adjclose</th>\n",
       "    </tr>\n",
       "    <tr>\n",
       "      <th>Date</th>\n",
       "      <th></th>\n",
       "      <th></th>\n",
       "      <th></th>\n",
       "      <th></th>\n",
       "      <th></th>\n",
       "      <th></th>\n",
       "      <th></th>\n",
       "    </tr>\n",
       "  </thead>\n",
       "  <tbody>\n",
       "    <tr>\n",
       "      <th>2022-09-22</th>\n",
       "      <td>11.805</td>\n",
       "      <td>4370197</td>\n",
       "      <td>12.155</td>\n",
       "      <td>11.765</td>\n",
       "      <td>12.00</td>\n",
       "      <td>2022-09-22</td>\n",
       "      <td>12.00</td>\n",
       "    </tr>\n",
       "    <tr>\n",
       "      <th>2022-09-23</th>\n",
       "      <td>11.875</td>\n",
       "      <td>7004593</td>\n",
       "      <td>11.920</td>\n",
       "      <td>11.185</td>\n",
       "      <td>11.36</td>\n",
       "      <td>2022-09-23</td>\n",
       "      <td>11.36</td>\n",
       "    </tr>\n",
       "    <tr>\n",
       "      <th>2022-09-26</th>\n",
       "      <td>11.085</td>\n",
       "      <td>5753260</td>\n",
       "      <td>11.470</td>\n",
       "      <td>11.050</td>\n",
       "      <td>11.33</td>\n",
       "      <td>2022-09-26</td>\n",
       "      <td>11.33</td>\n",
       "    </tr>\n",
       "    <tr>\n",
       "      <th>2022-09-27</th>\n",
       "      <td>11.330</td>\n",
       "      <td>5206047</td>\n",
       "      <td>11.705</td>\n",
       "      <td>11.320</td>\n",
       "      <td>11.60</td>\n",
       "      <td>2022-09-27</td>\n",
       "      <td>11.60</td>\n",
       "    </tr>\n",
       "    <tr>\n",
       "      <th>2022-09-28</th>\n",
       "      <td>11.465</td>\n",
       "      <td>5625187</td>\n",
       "      <td>11.905</td>\n",
       "      <td>11.330</td>\n",
       "      <td>11.80</td>\n",
       "      <td>2022-09-28</td>\n",
       "      <td>11.80</td>\n",
       "    </tr>\n",
       "  </tbody>\n",
       "</table>\n",
       "</div>"
      ],
      "text/plain": [
       "              open   volume    high     low  close        date  adjclose\n",
       "Date                                                                    \n",
       "2022-09-22  11.805  4370197  12.155  11.765  12.00  2022-09-22     12.00\n",
       "2022-09-23  11.875  7004593  11.920  11.185  11.36  2022-09-23     11.36\n",
       "2022-09-26  11.085  5753260  11.470  11.050  11.33  2022-09-26     11.33\n",
       "2022-09-27  11.330  5206047  11.705  11.320  11.60  2022-09-27     11.60\n",
       "2022-09-28  11.465  5625187  11.905  11.330  11.80  2022-09-28     11.80"
      ]
     },
     "execution_count": 67,
     "metadata": {},
     "output_type": "execute_result"
    }
   ],
   "source": [
    "df = pd.DataFrame( {\"open\": dataframe['Open'],\n",
    "                    \"volume\": dataframe['Volume'],\n",
    "                    \"high\": dataframe['High'],\n",
    "                    \"low\": dataframe['Low'],\n",
    "                    \"close\": dataframe['Close'],\n",
    "                    \"date\": dataframe['Date'].astype(str),\n",
    "                    \"adjclose\": dataframe['Adj Close'], })\n",
    "df.tail()"
   ]
  },
  {
   "cell_type": "markdown",
   "metadata": {},
   "source": [
    "  Creamos la función get_data que del dataframe de entrada nos devuelve dos listas:\n",
    "    - el dataframe de fechas que hemos recogido solo el día, a numérico\n",
    "    - y el dataframe de los precios de cierre"
   ]
  },
  {
   "cell_type": "code",
   "execution_count": 21,
   "metadata": {},
   "outputs": [],
   "source": [
    "def get_data(df):  \n",
    "    data = df.copy()\n",
    "    data['date'] = data['date'].str.split('-').str[2]\n",
    "    data['date'] = pd.to_numeric(data['date'])\n",
    "    return [ data['date'].tolist(), data['close'].tolist() ]   # Convertimos la serie a una lista"
   ]
  },
  {
   "cell_type": "code",
   "execution_count": 68,
   "metadata": {},
   "outputs": [
    {
     "name": "stdout",
     "output_type": "stream",
     "text": [
      "Fechas\n",
      " [1, 2, 5, 6, 7, 8, 9, 12, 13, 14, 15, 16, 19, 20, 21, 22, 23, 26, 27, 28] \n",
      "Precios\n",
      " [12.885000228881836, 13.380000114440918, 13.6850004196167, 13.475000381469727, 12.930000305175781, 12.824999809265137, 13.109999656677246, 13.149999618530273, 12.899999618530273, 12.850000381469727, 12.329999923706055, 11.960000038146973, 12.085000038146973, 11.949999809265137, 11.880000114440918, 12.0, 11.359999656677246, 11.329999923706055, 11.600000381469727, 11.800000190734863]\n",
      "Tamaño:  20\n"
     ]
    }
   ],
   "source": [
    "dates, prices = get_data(df)\n",
    "print(\"Fechas\\n\", dates, \"\\nPrecios\\n\", prices)\n",
    "print(\"Tamaño: \", len(dates))"
   ]
  },
  {
   "cell_type": "code",
   "execution_count": 74,
   "metadata": {},
   "outputs": [],
   "source": [
    "def predict_prices(dates, prices, x, dibujar=False):\n",
    "    dates = np.reshape(dates,(len(dates), 1))   # Convertimos una fila en una collumna (1 dimensión)\n",
    "    x = np.reshape(x,(len(x), 1))\n",
    "    \n",
    "    svr_lin  = SVR(kernel='linear', C=1e3)\n",
    "    svr_poly = SVR(kernel='poly', C=1e3, degree=2)\n",
    "    svr_rbf = SVR(kernel='rbf', C=1e3, gamma=0.1)\n",
    "    \n",
    "    # Llenamos con los datos los modelos de regresión\n",
    "    svr_lin .fit(dates, prices)\n",
    "    svr_poly.fit(dates, prices)\n",
    "    svr_rbf.fit(dates, prices)\n",
    "    \n",
    "    if dibujar:\n",
    "        plt.scatter(dates, prices, c='k', label='Data')\n",
    "        plt.plot(dates, svr_lin.predict(dates), c='g', label='Linear model')\n",
    "        plt.plot(dates, svr_rbf.predict(dates), c='r', label='RBF model')    \n",
    "        plt.plot(dates, svr_poly.predict(dates), c='b', label='Polynomial model')\n",
    "    \n",
    "        plt.xlabel('Date')\n",
    "        plt.ylabel('Price')\n",
    "        plt.title(ACCION + ' - Support Vector Regression')\n",
    "        plt.legend()\n",
    "        plt.show()\n",
    "    \n",
    "    return svr_rbf.predict(x), svr_lin.predict(x), svr_poly.predict(x)"
   ]
  },
  {
   "cell_type": "markdown",
   "metadata": {},
   "source": [
    "  Mostramos el gráfico con las predicciones"
   ]
  },
  {
   "cell_type": "code",
   "execution_count": 75,
   "metadata": {},
   "outputs": [
    {
     "data": {
      "image/png": "[encoded data removed]",
      "text/plain": [
       "<Figure size 432x288 with 1 Axes>"
      ]
     },
     "metadata": {
      "needs_background": "light"
     },
     "output_type": "display_data"
    }
   ],
   "source": [
    "predicted_price = predict_prices(dates, prices, [29], True)"
   ]
  },
  {
   "cell_type": "markdown",
   "metadata": {},
   "source": [
    "Mostramos los valores predichos para el rango de valores"
   ]
  },
  {
   "cell_type": "code",
   "execution_count": 77,
   "metadata": {},
   "outputs": [
    {
     "name": "stdout",
     "output_type": "stream",
     "text": [
      "** Predicción de precios de:  REP.MC   **\n",
      "RBF model:         [11.92730695 11.97985396 11.89940362 11.460069   10.95023452] \n",
      "Linear model:      [12.05440031 11.97520032 11.89600033 11.81680034 11.73760035] \n",
      "Polynomial model:  [12.13304745 12.02037441 11.90220512 11.77853959 11.64937781]\n"
     ]
    }
   ],
   "source": [
    "print(\"** Predicción de precios de: \", ACCION, \"  **\")\n",
    "tamaño = len(dates)\n",
    "rango = [i for i in range(tamaño, tamaño + 5)]\n",
    "precios = predict_prices(dates, prices, rango)\n",
    "print(  \"RBF model:        \", precios[0], \n",
    "        \"\\nLinear model:     \", precios[1],\n",
    "        \"\\nPolynomial model: \", precios[2])"
   ]
  },
  {
   "cell_type": "markdown",
   "metadata": {},
   "source": [
    "  Vamos a calcular el % de subida, del primer dato al 5 => fuerza?"
   ]
  },
  {
   "cell_type": "code",
   "execution_count": 78,
   "metadata": {},
   "outputs": [
    {
     "name": "stdout",
     "output_type": "stream",
     "text": [
      "** Predicción Variación de precio en 5 días:  REP.MC   **\n",
      "Variación: -0.082 %\n",
      "Variación: -0.026 %\n",
      "Variación: -0.04 %\n"
     ]
    }
   ],
   "source": [
    "print(\"** Predicción Variación de precio en 5 días: \", ACCION, \"  **\")\n",
    "for p in precios:\n",
    "    cambio = (p[4] - p[0]) / p[0]\n",
    "    print(f\"Variación: {cambio:.2} %\")"
   ]
  }
 ],
 "metadata": {
  "kernelspec": {
   "display_name": "Python 3.8.8 ('base')",
   "language": "python",
   "name": "python3"
  },
  "language_info": {
   "codemirror_mode": {
    "name": "ipython",
    "version": 3
   },
   "file_extension": ".py",
   "mimetype": "text/x-python",
   "name": "python",
   "nbconvert_exporter": "python",
   "pygments_lexer": "ipython3",
   "version": "3.8.8"
  },
  "orig_nbformat": 4,
  "vscode": {
   "interpreter": {
    "hash": "6f5583cf1d9466b5c27e75c89cc6b383bed5736d6b16c51c8074d8690011a952"
   }
  }
 },
 "nbformat": 4,
 "nbformat_minor": 2
}
