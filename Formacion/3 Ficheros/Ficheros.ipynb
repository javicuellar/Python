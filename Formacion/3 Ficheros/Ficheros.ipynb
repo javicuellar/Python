{
  "cells": [
    {
      "attachments": {},
      "cell_type": "markdown",
      "metadata": {
        "colab_type": "text",
        "id": "view-in-github"
      },
      "source": [
        "<a href=\"https://colab.research.google.com/github/javicuellar/Guia_Python/blob/master/Python_B%C3%A1sico/1.2_Ficheros.ipynb\" target=\"_parent\"><img src=\"https://colab.research.google.com/assets/colab-badge.svg\" alt=\"Open In Colab\"/></a>"
      ]
    },
    {
      "attachments": {},
      "cell_type": "markdown",
      "metadata": {
        "id": "UJPsGcNeip_s"
      },
      "source": [
        "# Ficheros\n",
        "\n",
        "_____________________________________________\n",
        "\n",
        "  - open() Apertura de ficheros\n",
        "\n",
        "Modos de apertura de ficheros\n",
        "\n",
        " * **'r'**.- modo lectura\n",
        " * **'rb'**.- lectura en binario"
      ]
    },
    {
      "cell_type": "code",
      "execution_count": null,
      "metadata": {
        "colab": {
          "base_uri": "https://localhost:8080/"
        },
        "id": "qIA3Y8yaipUW",
        "outputId": "ec181c5e-e600-4fc1-8fe6-a1babef173f0"
      },
      "outputs": [
        {
          "name": "stdout",
          "output_type": "stream",
          "text": [
            " > Imprime la primera línea, hasta el salto de página\n",
            " b'This directory includes a few sample datasets to get you started.\\n'\n"
          ]
        }
      ],
      "source": [
        "# Manejo de ficheros con with, abre el fichero en el modo indicado y se encarga de gestinar su cierre\n",
        "fichero = './sample_data/README.md'\n",
        "with open(fichero, 'rb') as f:\n",
        "    print(\" > Imprime la primera línea, hasta el salto de página\\n\", f.readline())\n"
      ]
    },
    {
      "attachments": {},
      "cell_type": "markdown",
      "metadata": {},
      "source": [
        "### Import Files in Python Using Built-in Python Functions\n",
        "\n",
        "read(): Reads the entire content of the file as a single string.\n",
        "\n",
        "readline(): Reads a single line from the file.\n",
        "\n",
        "readlines(): Reads all lines from the file and returns them as a list of strings."
      ]
    },
    {
      "cell_type": "code",
      "execution_count": null,
      "metadata": {},
      "outputs": [],
      "source": [
        "#  Lectura fichero\n",
        "file = open(\"data.txt\", \"r\")\n",
        "for line in file.readlines():\n",
        "    print(line)\n",
        "file.close()"
      ]
    },
    {
      "cell_type": "code",
      "execution_count": null,
      "metadata": {},
      "outputs": [],
      "source": [
        "#  Escribir en un fichero\n",
        "names = [\"John\", \"Alice\", \"Bob\"]\n",
        "\n",
        "file = open(\"names.txt\", \"w\")\n",
        "for name in names:\n",
        "    file.write(name + \"\\n\")\n",
        "file.close()"
      ]
    },
    {
      "attachments": {},
      "cell_type": "markdown",
      "metadata": {},
      "source": [
        "### Import Files in Python Using the Pandas Library"
      ]
    },
    {
      "cell_type": "code",
      "execution_count": null,
      "metadata": {},
      "outputs": [],
      "source": [
        "#  Lectura fichero CSV con Pandas\n",
        "file_path = \"data/file.csv\"  # Replace with your file path\n",
        "df = pd.read_csv(file_path)"
      ]
    },
    {
      "cell_type": "code",
      "execution_count": null,
      "metadata": {},
      "outputs": [],
      "source": [
        "#  Lectura fichero EXCEL con Pandas\n",
        "file_path = \"data/file.xlsx\"  # Replace with your file path\n",
        "df = pd.read_excel(file_path)"
      ]
    },
    {
      "attachments": {},
      "cell_type": "markdown",
      "metadata": {},
      "source": [
        "### Import Files in Python Using the NumPy Library"
      ]
    },
    {
      "cell_type": "code",
      "execution_count": null,
      "metadata": {},
      "outputs": [],
      "source": [
        "#  Lectura de fichero CSV con separador\n",
        "data = np.loadtxt('path/to/your/file.csv', delimiter=',')"
      ]
    },
    {
      "cell_type": "code",
      "execution_count": null,
      "metadata": {},
      "outputs": [],
      "source": [
        "#  Using genfromtxt(): If our file contains missing or irregular data (for example, a CSV file with missing values), we can use\n",
        "# the genfromtxt() function. It provides more flexibility in handling different data formats. \n",
        "data = np.genfromtxt('path/to/your/file.csv', delimiter=',', missing_values='NA', filling_values=0)"
      ]
    },
    {
      "attachments": {},
      "cell_type": "markdown",
      "metadata": {},
      "source": [
        "### File Paths\n",
        "\n",
        "A file path is a string that represents the location of a file or directory in the file system.\n",
        "\n",
        "An absolute path specifies the complete path starting from the root directory.\n",
        "\n",
        "A relative path specifies the path relative to the current working directory."
      ]
    },
    {
      "attachments": {},
      "cell_type": "markdown",
      "metadata": {},
      "source": [
        "### Directory Navigation:\n",
        "\n",
        "Current working directory: The directory from which Python is currently running.\n",
        "\n",
        "os module: Python's built-in module for interacting with the operating system.\n",
        "\n",
        "os.getcwd(): Returns the current working directory.\n",
        "\n",
        "os.chdir(path): Changes the current working directory to the specified path.\n",
        "\n",
        "os.path module: Provides functions for manipulating file paths.\n",
        "\n",
        "os.path.join(path, *paths): Joins multiple path components intelligently.\n",
        "\n",
        "os.path.abspath(path): Returns the absolute path of a file or directory."
      ]
    }
  ],
  "metadata": {
    "colab": {
      "authorship_tag": "ABX9TyPirJQaknPECedeK1QgexTO",
      "include_colab_link": true,
      "provenance": []
    },
    "kernelspec": {
      "display_name": "Python 3",
      "name": "python3"
    },
    "language_info": {
      "name": "python"
    }
  },
  "nbformat": 4,
  "nbformat_minor": 0
}
