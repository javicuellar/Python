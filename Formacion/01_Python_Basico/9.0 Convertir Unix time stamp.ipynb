{
 "cells": [
  {
   "attachments": {},
   "cell_type": "markdown",
   "metadata": {},
   "source": [
    "# Convertir fechas Unix time stamp (usadas en sqlite)"
   ]
  },
  {
   "attachments": {},
   "cell_type": "markdown",
   "metadata": {},
   "source": [
    "La marca de tiempo de Unix es una forma de rastrear el tiempo como un total acumulado de segundos. Este conteo comienza en la época de Unix el 1 de enero de 1970 en UTC. Por lo tanto, la marca de tiempo de Unix es simplemente el número de segundos entre una fecha particular y la Época de Unix. También se debe señalar (gracias a los comentarios de los visitantes de este sitio) que este punto en el tiempo técnicamente no cambia sin importar en qué parte del mundo se encuentre. Esto es muy útil para los sistemas informáticos para rastrear y clasificar información fechada en aplicaciones dinámicas y distribuidas tanto en línea como del lado del cliente."
   ]
  },
  {
   "cell_type": "code",
   "execution_count": 2,
   "metadata": {},
   "outputs": [],
   "source": [
    "from datetime import datetime, timedelta, timezone"
   ]
  },
  {
   "attachments": {},
   "cell_type": "markdown",
   "metadata": {},
   "source": [
    "### Convertir DateTime a Unix Time Stamp"
   ]
  },
  {
   "cell_type": "code",
   "execution_count": 49,
   "metadata": {},
   "outputs": [
    {
     "name": "stdout",
     "output_type": "stream",
     "text": [
      "Fecha:  2023-04-13 19:56:47.991779   Unix Time Stamp:  1681408607.991779\n"
     ]
    }
   ],
   "source": [
    "dt = datetime.now()\n",
    "print(\"Fecha: \", dt, \"  Unix Time Stamp: \", dt.timestamp())"
   ]
  },
  {
   "attachments": {},
   "cell_type": "markdown",
   "metadata": {},
   "source": [
    "### Convertir Unix Time Stamp a DateTime"
   ]
  },
  {
   "cell_type": "code",
   "execution_count": 51,
   "metadata": {},
   "outputs": [
    {
     "name": "stdout",
     "output_type": "stream",
     "text": [
      "Fecha:        1970-01-01 01:00:00 None\n",
      "Fecha Utc:    1970-01-01 00:00:00+00:00 UTC\n",
      "Fecha +9:     1970-01-01 09:00:00+09:00 UTC+09:00\n"
     ]
    }
   ],
   "source": [
    "dt = datetime.fromtimestamp(0)\n",
    "dt_utc_aware = datetime.fromtimestamp(0, timezone.utc)\n",
    "dt_jst_9 = datetime.fromtimestamp(0, timezone(timedelta(hours=9)))\n",
    "\n",
    "print(\"Fecha:       \", dt, dt.tzinfo)\n",
    "print(\"Fecha Utc:   \", dt_utc_aware, dt_utc_aware.tzinfo)\n",
    "print(\"Fecha +9:    \", dt_jst_9, dt_jst_9.tzinfo)"
   ]
  },
  {
   "attachments": {},
   "cell_type": "markdown",
   "metadata": {},
   "source": [
    "### Convertir fecha Unix Time Stamp de Chrome"
   ]
  },
  {
   "cell_type": "code",
   "execution_count": 52,
   "metadata": {},
   "outputs": [
    {
     "name": "stdout",
     "output_type": "stream",
     "text": [
      "2023-04-13 19:41:48.488765\n"
     ]
    }
   ],
   "source": [
    "timestamp = 13325881308488765\n",
    "\n",
    "value = datetime(1601, 1, 1) + timedelta(hours=2, microseconds=timestamp)\n",
    "print(value)"
   ]
  },
  {
   "cell_type": "code",
   "execution_count": 5,
   "metadata": {},
   "outputs": [
    {
     "name": "stdout",
     "output_type": "stream",
     "text": [
      "2022-11-25 16:43:41.168167\n"
     ]
    }
   ],
   "source": [
    "timestamp = 1669391021.1681669\n",
    "\n",
    "value = datetime.fromtimestamp(timestamp)\n",
    "print(value)"
   ]
  }
 ],
 "metadata": {
  "kernelspec": {
   "display_name": "base",
   "language": "python",
   "name": "python3"
  },
  "language_info": {
   "codemirror_mode": {
    "name": "ipython",
    "version": 3
   },
   "file_extension": ".py",
   "mimetype": "text/x-python",
   "name": "python",
   "nbconvert_exporter": "python",
   "pygments_lexer": "ipython3",
   "version": "3.11.3"
  },
  "orig_nbformat": 4,
  "vscode": {
   "interpreter": {
    "hash": "6f5583cf1d9466b5c27e75c89cc6b383bed5736d6b16c51c8074d8690011a952"
   }
  }
 },
 "nbformat": 4,
 "nbformat_minor": 2
}
