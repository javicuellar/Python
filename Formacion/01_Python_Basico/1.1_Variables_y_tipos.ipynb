{
  "cells": [
    {
      "cell_type": "markdown",
      "metadata": {
        "id": "view-in-github",
        "colab_type": "text"
      },
      "source": [
        "<a href=\"https://colab.research.google.com/github/javicuellar/Guia_Python/blob/master/Python_B%C3%A1sico/1.1_Variables_y_tipos.ipynb\" target=\"_parent\"><img src=\"https://colab.research.google.com/assets/colab-badge.svg\" alt=\"Open In Colab\"/></a>"
      ]
    },
    {
      "cell_type": "markdown",
      "metadata": {
        "id": "omAbWWyvWHdT"
      },
      "source": [
        "# Python Básico\n",
        "\n",
        "Repositorio Github.-  **Guia_Python**\n",
        "\n",
        "Carpeta.- **Python_Básico/1.1_Variables_y_tipos.ipynb**\n",
        "\n",
        "_____________________________________________\n"
      ]
    },
    {
      "cell_type": "markdown",
      "metadata": {
        "id": "Z3rXpEGmWHdW"
      },
      "source": [
        "## 1.1 Variables y tipos"
      ]
    },
    {
      "cell_type": "markdown",
      "metadata": {
        "id": "2iJoOU1QWHdW"
      },
      "source": [
        "**Tipos de variables**.- int, float, string\n",
        "\n",
        "**Conversión de valores**.-  int(“32”) = 32 entero"
      ]
    },
    {
      "cell_type": "code",
      "execution_count": null,
      "metadata": {
        "id": "HQARVcfqWHdW",
        "outputId": "3c0ce514-c4d2-4b15-93f3-e306f202776c"
      },
      "outputs": [
        {
          "name": "stdout",
          "output_type": "stream",
          "text": [
            "variable a, valor:  cadena  del tipo:  <class 'str'>\n",
            "\n",
            "imprimir línea vacía, salto de línea\n",
            "imprimir un tabulado \t y seguir escribiendo\n",
            " otra líneaa \n"
          ]
        }
      ],
      "source": [
        "#  Tipo de una variable\n",
        "a = \"cadena\"\n",
        "print(\"variable a, valor: \", a, \" del tipo: \", type(a))\n",
        "\n",
        "#  Secuencias de scape para imprimir en consola => \\*\n",
        "#   - línea vacía o salto de línea      \\n\n",
        "#   - tabulado                          \\t\n",
        "#   - fin de línea                      \\r\n",
        "print(\"\\nimprimir línea vacía, salto de línea\")\n",
        "print(\"imprimir un tabulado \\t y seguir escribiendo\")\n",
        "print(\"fin de línea \\r otra línea\")"
      ]
    },
    {
      "cell_type": "markdown",
      "metadata": {
        "id": "XA-tQwRKWHdY"
      },
      "source": [
        "### Formatear texto en salida a consola (print)"
      ]
    },
    {
      "cell_type": "code",
      "execution_count": null,
      "metadata": {
        "id": "pNuCPUfnWHdY",
        "outputId": "122482d1-a381-43a1-ac51-ffe06e52403d"
      },
      "outputs": [
        {
          "name": "stdout",
          "output_type": "stream",
          "text": [
            "La longitud de texto es: 5\n",
            "En  3  años yo he visto 0.1 camellos.\n"
          ]
        }
      ],
      "source": [
        "#  cadenas f-string \n",
        "var_longitud = 5\n",
        "print (f\"La longitud de texto es: {var_longitud}\")\n",
        "\n",
        "#  Formatos con % convierte el tipo de dato, se utiliza %d números, %g float, y %s para textos\n",
        "# Se ponen donde va la variable a formatear, poniendo al final % (variables utilizadas)\n",
        "print ('En  %d  años yo he visto %g %s.'    % (3,  0.1,  'camellos'))"
      ]
    },
    {
      "cell_type": "markdown",
      "metadata": {
        "id": "uKP_MT4KWHdY"
      },
      "source": [
        "### Variables String (tipo de datos compuesto)"
      ]
    },
    {
      "cell_type": "code",
      "execution_count": null,
      "metadata": {
        "id": "VG5CCvivWHdY",
        "outputId": "a0a674b9-0ce6-4bb1-c7dd-dd31045a82e9"
      },
      "outputs": [
        {
          "name": "stdout",
          "output_type": "stream",
          "text": [
            "Cuarto carácter de la cadena (se empieza en 0)  s\n",
            "Longitud de la variable string:  23\n",
            "E\n",
            "r\n",
            "a\n",
            "s\n",
            "e\n",
            " \n",
            "u\n",
            "n\n",
            "a\n",
            " \n",
            "v\n",
            "e\n",
            "z\n",
            ",\n",
            " \n",
            "e\n",
            "l\n",
            " \n",
            "m\n",
            "u\n",
            "n\n",
            "d\n",
            "o\n",
            "devuelve de cadena, del carácter tercero al quinto:  ase\n",
            "devuelve de cadena, del primer al quinto carácter:  Erase  o  Erase\n",
            "devuelve de cadena, del sexto carácter en adelante:   una vez, el mundo\n"
          ]
        },
        {
          "ename": "TypeError",
          "evalue": "'str' object does not support item assignment",
          "output_type": "error",
          "traceback": [
            "\u001b[1;31m---------------------------------------------------------------------------\u001b[0m",
            "\u001b[1;31mTypeError\u001b[0m                                 Traceback (most recent call last)",
            "\u001b[1;32md:\\Python\\Guía_Python\\Python_Básico\\1.1_Variables_y_tipos.ipynb Cell 8\u001b[0m in \u001b[0;36m1\n\u001b[0;32m     <a href='vscode-notebook-cell:/d%3A/Python/Gu%C3%ADa_Python/Python_B%C3%A1sico/1.1_Variables_y_tipos.ipynb#X42sZmlsZQ%3D%3D?line=12'>13</a>\u001b[0m \u001b[39mprint\u001b[39m(\u001b[39m\"\u001b[39m\u001b[39mdevuelve de cadena, del sexto carácter en adelante: \u001b[39m\u001b[39m\"\u001b[39m, cadena[ \u001b[39m5\u001b[39m: ])\n\u001b[0;32m     <a href='vscode-notebook-cell:/d%3A/Python/Gu%C3%ADa_Python/Python_B%C3%A1sico/1.1_Variables_y_tipos.ipynb#X42sZmlsZQ%3D%3D?line=14'>15</a>\u001b[0m \u001b[39m#  Las cadenas son inmutables, no se pueden modificar\u001b[39;00m\n\u001b[1;32m---> <a href='vscode-notebook-cell:/d%3A/Python/Gu%C3%ADa_Python/Python_B%C3%A1sico/1.1_Variables_y_tipos.ipynb#X42sZmlsZQ%3D%3D?line=15'>16</a>\u001b[0m cadena[\u001b[39m3\u001b[39;49m] \u001b[39m=\u001b[39m \u001b[39m'\u001b[39m\u001b[39mr\u001b[39m\u001b[39m'\u001b[39m\n",
            "\u001b[1;31mTypeError\u001b[0m: 'str' object does not support item assignment"
          ]
        }
      ],
      "source": [
        "cadena = \"Erase una vez, el mundo\"\n",
        "#  Seleccionar un carácter de la cadena [], índice, comienzan en 0\n",
        "print(\"Cuarto carácter de la cadena (se empieza en 0) \", cadena[3])\n",
        "print(\"Longitud de la variable string: \", len(cadena))\n",
        "\n",
        "#  Recorrer los valores, caracteres, de un string\n",
        "for c  in  cadena:\n",
        "    print(c)\n",
        "\n",
        "#  Rebanado, seleccionar un segmento de un string\n",
        "print(\"devuelve de cadena, del carácter tercero al quinto: \", cadena[2:5])\n",
        "print(\"devuelve de cadena, del primer al quinto carácter: \", cadena[ :5], \" o \", cadena[ 0:5])\n",
        "print(\"devuelve de cadena, del sexto carácter en adelante: \", cadena[ 5: ])\n",
        "\n",
        "#  Las cadenas son inmutables, no se pueden modificar\n",
        "cadena[3] = 'r'     # da error"
      ]
    },
    {
      "cell_type": "code",
      "execution_count": null,
      "metadata": {
        "id": "N2EnmYQgWHdZ",
        "outputId": "6c3285ec-c45a-4b2c-fcda-e927704e021b"
      },
      "outputs": [
        {
          "name": "stdout",
          "output_type": "stream",
          "text": [
            "Encontrar vez en cadena, posición:  -1\n",
            "Encontar la última vez que sale e en la cadena, posición:  5\n",
            "Si no encuentra devuelve -1, ejemplo:  -1\n",
            "Unir elemento iterable:  1-2-4-6\n",
            "Remplazr en una cadena:      texto a limpiar blancos       \n",
            "     texto a limpiar blancos      \n",
            "Cortar espacios a la izquierda:  texto a limpiar blancos      \n",
            "Cortar espacios a la derecha:      texto a limpiar blancos no hay más blancos\n",
            "Cortar espacios a ambos lados:  texto a limpiar blancos sin blancos\n",
            "De  www.ejemplo.com/  pasamos a  ejemplo.com\n",
            "Dividir cadena por espacio:  ['', '', '', '', 'texto', 'a', 'limpiar', 'blancos', '', '', '', '', '', '']\n",
            "Dividir cadena en 3, usando separador espacio:  ['', '', '  texto a limpiar blancos      ']\n"
          ]
        }
      ],
      "source": [
        "#  Encontrar primera vez que encuentra carácter (o caracteres)\n",
        "print(\"Encontrar vez en cadena, posición: \", cadena.find(\"vez\"))\n",
        "#  Encontrar última posición del carácter (o caracteres) en una cadena\n",
        "print(\"Encontar la última vez que sale e en la cadena, posición: \", cadena.rfind('e'))\n",
        "print(\"Si no encuentra devuelve -1, ejemplo: \", cadena.find(\"javi\"))\n",
        "\n",
        "#  Unir todos los elementos de un iterable con un específico string str\n",
        "iterable = ['1', '2', '4', '6']\n",
        "print(\"Unir elemento iterable: \", '-'.join(iterable))\n",
        "\n",
        "#  Reemplazar el substring: viejoString con el nuevoString  que se reemplaza un numerodeveces\n",
        "print(\"Remplazr en una cadena: \", cadena, \"\\n\", cadena.replace(\"mundo\", \"casa\", 1))  \n",
        "\n",
        "#  Eliminación de caracteres:   Si no hay hay parámetros, elimina espacios\n",
        "cadena = \"    texto a limpiar blancos      \"\n",
        "print(\"Cortar espacios a la izquierda: \", cadena.lstrip())\n",
        "print(\"Cortar espacios a la derecha: \", cadena.rstrip(), \"no hay más blancos\")\n",
        "print(\"Cortar espacios a ambos lados: \", cadena.strip(), \"sin blancos\")\n",
        "\n",
        "#  Ejemplo eliminando las www, el punto inicial y la / final\n",
        "url = 'www.ejemplo.com/'\n",
        "print(\"De \", url, \" pasamos a \", url.strip('w./'))\t  # salida-> 'ejemplo.com'\n",
        "\n",
        "#  Dividir cadena por el separador, ejemplo “ “, “.”, “-”\n",
        "print(\"Dividir cadena por espacio: \", cadena.split(' '))\n",
        "#  Dividir cadena por el separador, divide sólo en 3 elementos\n",
        "print(\"Dividir cadena en 3, usando separador espacio: \", cadena.split(' ', 2))"
      ]
    },
    {
      "cell_type": "markdown",
      "metadata": {
        "id": "xXqgNYxSWHda"
      },
      "source": [
        "### Variables.- Diccionarios"
      ]
    },
    {
      "cell_type": "code",
      "execution_count": null,
      "metadata": {
        "id": "_4-Qk7hxWHda",
        "outputId": "a6e4a5d1-d6c0-4274-815e-39a2530063fd"
      },
      "outputs": [
        {
          "name": "stdout",
          "output_type": "stream",
          "text": [
            "Valor antes:  María\n",
            "Valor después:  Eva María\n",
            "Clave >  nombre \t  valor que contiene ->  ['Antonio', 'Eva María']\n",
            "Clave >  apellido \t  valor que contiene ->  ['Pérez', 'López']\n",
            "Clave >  edad \t  valor que contiene ->  [34, 26]\n"
          ]
        }
      ],
      "source": [
        "#  Crear diccionarios\n",
        "dicc  =  dict()\n",
        "dicc  =  {}\n",
        "\n",
        "registro = {\"nombre\":[\"Antonio\", \"María\"], \"apellido\":[\"Pérez\",\"López\"], \"edad\":[34, 26]}\n",
        "\n",
        "#  Acceso y modificación\n",
        "print(\"Valor antes: \", registro[\"nombre\"][1])\n",
        "registro[\"nombre\"][1] = \"Eva María\"\n",
        "print(\"Valor después: \", registro[\"nombre\"][1])\n",
        "\n",
        "#  Acceso iterativo al diccionario por clave\n",
        "for key in registro:\n",
        "    print(\"Clave > \", key, \"\\t  valor que contiene -> \", registro[key])     # uso \\t para tabular"
      ]
    },
    {
      "cell_type": "code",
      "execution_count": null,
      "metadata": {
        "id": "fovtPvO-WHda",
        "outputId": "64e91b18-e3a5-4dfc-f9d1-5b24dd4cf51c"
      },
      "outputs": [
        {
          "name": "stdout",
          "output_type": "stream",
          "text": [
            "{'a': 0, 'b': 1, 'c': 2, 'd': 3}\n",
            "\n",
            "Elementos del diccionario, lista con clave, [elementos] \n",
            " dict_items([('nombre', ['Antonio', 'Eva María']), ('apellido', ['Pérez', 'López']), ('edad', [34, 26])])\n",
            "\n",
            "Lista de claves del diccionario \n",
            " dict_keys(['nombre', 'apellido', 'edad'])\n",
            "\n",
            "Lista de valores del diccionario (lista de listas) \n",
            " dict_values([['Antonio', 'Eva María'], ['Pérez', 'López'], [34, 26]])\n",
            "{}\n"
          ]
        }
      ],
      "source": [
        "#  Método zip -> crea un diccionario con dos elementos iterables   \n",
        "dicc = dict(zip(\"abcd\", [0, 1, 2, 3]))\n",
        "print(dicc)\n",
        "\n",
        "print(\"\\nElementos del diccionario, lista con clave, [elementos] \\n\", registro.items())\n",
        "print(\"\\nLista de claves del diccionario \\n\", registro.keys())\n",
        "print(\"\\nLista de valores del diccionario (lista de listas) \\n\", registro.values())\n",
        "\n",
        "#  Vaciar diccionario\n",
        "registro.clear()\n",
        "print(registro)"
      ]
    },
    {
      "cell_type": "code",
      "execution_count": null,
      "metadata": {
        "id": "fAOrtkJIWHda",
        "outputId": "ad68b21a-cd6b-44f9-eda4-b1f355126ac8"
      },
      "outputs": [
        {
          "name": "stdout",
          "output_type": "stream",
          "text": [
            "{'a': 1, 'b': 1, 'c': 1, 'd': 1}\n",
            "Valor sacado del diccionario:  1   diccionario queda:  {'a': 1, 'b': 1, 'c': 1, 'd': 1}\n",
            "Valor sacado del diccionario:  1   diccionario queda:  {'a': 1, 'b': 1, 'd': 1}\n"
          ]
        }
      ],
      "source": [
        "#  Crea dicionario elementos -> valor (elemento iterable, valor)\n",
        "dic = dict.fromkeys(\"abcd\", 1)\n",
        "print(dic)\n",
        "\n",
        "#  Extrae el valor de la clave c  (no la elimina del dicc.)\n",
        "valor = dic.get(\"c\")\n",
        "print(\"Valor sacado del diccionario: \", valor, \"  diccionario queda: \", dic)\n",
        "#  Saca del diccionario el valor de c (lo elimina)\n",
        "valor = dic.pop(\"c\")\n",
        "print(\"Valor sacado del diccionario: \", valor, \"  diccionario queda: \", dic)"
      ]
    },
    {
      "cell_type": "markdown",
      "metadata": {
        "id": "ULBESN-7WHdb"
      },
      "source": [
        "### Variables.- Conjuntos"
      ]
    },
    {
      "cell_type": "code",
      "execution_count": null,
      "metadata": {
        "id": "SHmPnbV8WHdb",
        "outputId": "2483c93b-f167-4922-f7ed-ebb6c98cf05d"
      },
      "outputs": [
        {
          "name": "stdout",
          "output_type": "stream",
          "text": [
            "conjunto1:  {1, 2, 3}\n",
            "conjunto2:  {3, 4, 5}\n",
            "conjunto1:  {1, 2, 3, 4}\n",
            "Diferencias, está en conjunto1 y no en conjunto2  {1, 2}\n",
            "Unión conjunto1 y conjunto2  {1, 2, 3, 4, 5}\n",
            "Conjunto1 es subconjunto de conjunto2  False\n",
            "Intersección conjunto1 y conjunto2  {3, 4}\n"
          ]
        }
      ],
      "source": [
        "#  Definición, crear conjunto\n",
        "conjunto1 = set ({1, 2, 3})\n",
        "conjunto2 = set ({3, 4, 5})\n",
        "print(\"conjunto1: \", conjunto1)\n",
        "print(\"conjunto2: \", conjunto2)\n",
        "\n",
        "#  Añadir elementos al conjunto\n",
        "conjunto1.add(4)\n",
        "print(\"conjunto1: \", conjunto1)\n",
        "\n",
        "#  Diferencias, está en conjunto1 y no en conjunto2\n",
        "print(\"Diferencias, está en conjunto1 y no en conjunto2 \", conjunto1.difference(conjunto2))\n",
        "\n",
        "#  Unión conjunto1 y conjunto2\n",
        "print(\"Unión conjunto1 y conjunto2 \", conjunto1.union(conjunto2))\n",
        "\n",
        "#  Conjunto1 es subconjunto de conjunto2  \t(booleano)\n",
        "print(\"Conjunto1 es subconjunto de conjunto2 \", conjunto1.issubset(conjunto2))\n",
        "\n",
        "#  Intersección conjunto1 y conjunto2\n",
        "print(\"Intersección conjunto1 y conjunto2 \", conjunto1.intersection(conjunto2))"
      ]
    }
  ],
  "metadata": {
    "kernelspec": {
      "display_name": "base",
      "language": "python",
      "name": "python3"
    },
    "language_info": {
      "codemirror_mode": {
        "name": "ipython",
        "version": 3
      },
      "file_extension": ".py",
      "mimetype": "text/x-python",
      "name": "python",
      "nbconvert_exporter": "python",
      "pygments_lexer": "ipython3",
      "version": "3.8.8"
    },
    "orig_nbformat": 4,
    "colab": {
      "provenance": [],
      "include_colab_link": true
    }
  },
  "nbformat": 4,
  "nbformat_minor": 0
}