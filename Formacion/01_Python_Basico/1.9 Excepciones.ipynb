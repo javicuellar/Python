{
 "cells": [
  {
   "attachments": {},
   "cell_type": "markdown",
   "metadata": {},
   "source": [
    "# 1.9 Ecepciones\n",
    "\n",
    "Repositorio Github.-  **Guia_Python**\n",
    "\n",
    "Carpeta.- **Python_Básico/1.9 Excepciones.ipynb**\n",
    "\n",
    "_____________________________________________\n",
    "\n",
    "  - usar **try:** y **except**\n",
    "  - se pueden usar para diferenciar el error **except TipoError**\n",
    "  - se pueden usar tantos except como sean necesarios, y también genérico para cualquier error\n",
    "  - usar **except Exception as error:** para identificar el error ocurrido (lo devuelve en variable error)\n",
    "  - usar **else** para el tratamiento correcto, sin errores\n",
    "  - usar **finally** para ejecutar instrucciones haya ocurrido un error o no."
   ]
  },
  {
   "cell_type": "code",
   "execution_count": 7,
   "metadata": {},
   "outputs": [
    {
     "name": "stdout",
     "output_type": "stream",
     "text": [
      "Todo correcto\n",
      "Gracias por usar el programa.\n",
      "23 2\n"
     ]
    },
    {
     "ename": "NameError",
     "evalue": "name 'file_input' is not defined",
     "output_type": "error",
     "traceback": [
      "\u001b[1;31m---------------------------------------------------------------------------\u001b[0m",
      "\u001b[1;31mNameError\u001b[0m                                 Traceback (most recent call last)",
      "\u001b[1;32md:\\Python\\Guía_Python\\Python_Básico\\1.9 Excepciones.ipynb Cell 2\u001b[0m in \u001b[0;36m2\n\u001b[0;32m     <a href='vscode-notebook-cell:/d%3A/Python/Gu%C3%ADa_Python/Python_B%C3%A1sico/1.9%20Excepciones.ipynb#W1sZmlsZQ%3D%3D?line=20'>21</a>\u001b[0m \u001b[39m# Cierra el fichero antes de abortar\u001b[39;00m\n\u001b[0;32m     <a href='vscode-notebook-cell:/d%3A/Python/Gu%C3%ADa_Python/Python_B%C3%A1sico/1.9%20Excepciones.ipynb#W1sZmlsZQ%3D%3D?line=21'>22</a>\u001b[0m \u001b[39mprint\u001b[39m(a, b)\n\u001b[1;32m---> <a href='vscode-notebook-cell:/d%3A/Python/Gu%C3%ADa_Python/Python_B%C3%A1sico/1.9%20Excepciones.ipynb#W1sZmlsZQ%3D%3D?line=22'>23</a>\u001b[0m file_input\u001b[39m.\u001b[39mclose()\n",
      "\u001b[1;31mNameError\u001b[0m: name 'file_input' is not defined"
     ]
    }
   ],
   "source": [
    "import sys\n",
    "\n",
    "try:\n",
    "    # a, b = eval(input(\"Dame dos numeros para dividir: \"))\n",
    "    a, b = 23, 2\n",
    "    resultado = a / b\n",
    "    # fichero de texto para guardar los resultados\n",
    "    file_input = open(\".\\\\NOEXISTE\\\\resultados.txt\", \"a\")\n",
    "    file_input.write(\"{} entre {} es {}\".format(a, b, resultado))\n",
    "except ZeroDivisionError:\n",
    "    print(\"Error, division por cero.\")\n",
    "except TypeError:\n",
    "    print(\"Error en el tipo de dato.\")\n",
    "except:\n",
    "    print(\"Error inesperado:\", sys.exc_info()[0])\n",
    "else:\n",
    "    #  tratamiento no hay error\n",
    "    print(\"Todo correcto\")\n",
    "finally:\n",
    "    print(\"Gracias por usar el programa.\")\n",
    "    # Cierra el fichero antes de abortar\n",
    "    print(a, b)\n",
    "    file_input.close()"
   ]
  },
  {
   "cell_type": "code",
   "execution_count": 8,
   "metadata": {},
   "outputs": [
    {
     "name": "stdout",
     "output_type": "stream",
     "text": [
      "<class 'Exception'>\n",
      "('spam', 'eggs')\n",
      "('spam', 'eggs')\n"
     ]
    }
   ],
   "source": [
    "try:\n",
    "    raise Exception('spam', 'eggs')\n",
    "except Exception as error:\n",
    "    print(type(error))    # the exception instance\n",
    "    print(error.args)     # arguments stored in .args\n",
    "    print(error)"
   ]
  },
  {
   "cell_type": "code",
   "execution_count": 3,
   "metadata": {},
   "outputs": [
    {
     "name": "stdout",
     "output_type": "stream",
     "text": [
      "<class 'ZeroDivisionError'>\n",
      "('division by zero',)\n",
      "division by zero\n"
     ]
    }
   ],
   "source": [
    "try:\n",
    "    a = 5 / 0\n",
    "except Exception as inst:\n",
    "    print(type(inst))    # the exception instance\n",
    "    print(inst.args)     # arguments stored in .args\n",
    "    print(inst)          # __str__ allows args to be printed directly,"
   ]
  }
 ],
 "metadata": {
  "kernelspec": {
   "display_name": "base",
   "language": "python",
   "name": "python3"
  },
  "language_info": {
   "codemirror_mode": {
    "name": "ipython",
    "version": 3
   },
   "file_extension": ".py",
   "mimetype": "text/x-python",
   "name": "python",
   "nbconvert_exporter": "python",
   "pygments_lexer": "ipython3",
   "version": "3.8.8"
  },
  "orig_nbformat": 4
 },
 "nbformat": 4,
 "nbformat_minor": 2
}
