{
 "cells": [
  {
   "attachments": {},
   "cell_type": "markdown",
   "metadata": {},
   "source": [
    "# 2.0 Funciones"
   ]
  },
  {
   "attachments": {},
   "cell_type": "markdown",
   "metadata": {},
   "source": [
    "### Funciones en Python\n",
    "\n",
    "Los bloques de códigos tienen un nombre que recepciona argumentos de entrada bajo una secuencia de sentencias. Estas ejecutan operaciones y retornan un valor o ejecutan una tarea.\n",
    "\n",
    "Las funciones en Python son componentes importantes en la programación que cuentan con una estructura que consta de dos principios.\n",
    "\n",
    "👉🏻 Principio de reutilización: Puedes reutilizar una función varias veces y en distintos programas.\n",
    "\n",
    "👉🏻 Principio de modularización: Te permite segmentar programas complejos con módulos más simples para depurar y programar con mayor facilidad.\n",
    "\n",
    "Dentro de las funciones en Python encontrarás integraciones de lenguaje creadas por el usuario para replicarlas en diferentes programas."
   ]
  },
  {
   "attachments": {},
   "cell_type": "markdown",
   "metadata": {},
   "source": [
    "### Argumentos y parámetros - Por Posición\n",
    "\n",
    "En las funciones de Python, cuando se envían argumentos en las funciones se reciben por orden."
   ]
  },
  {
   "cell_type": "code",
   "execution_count": 1,
   "metadata": {},
   "outputs": [
    {
     "data": {
      "text/plain": [
       "20"
      ]
     },
     "execution_count": 1,
     "metadata": {},
     "output_type": "execute_result"
    }
   ],
   "source": [
    "def resta(a, b):\n",
    "    return a - b\n",
    "\n",
    "resta(30, 10)"
   ]
  },
  {
   "attachments": {},
   "cell_type": "markdown",
   "metadata": {},
   "source": [
    "### Argumentos y parámetros - Por Nombre\n",
    "\n",
    "También es posible evitar el orden de los parámetros si es que durante la llamada se especifica el valor de cada uno según su nombre."
   ]
  },
  {
   "cell_type": "code",
   "execution_count": 2,
   "metadata": {},
   "outputs": [
    {
     "data": {
      "text/plain": [
       "-20"
      ]
     },
     "execution_count": 2,
     "metadata": {},
     "output_type": "execute_result"
    }
   ],
   "source": [
    "def resta(a, b):\n",
    "    return a - b\n",
    "\n",
    "resta(b=30, a=10)"
   ]
  },
  {
   "attachments": {},
   "cell_type": "markdown",
   "metadata": {},
   "source": [
    "### Argumentos y parámetros - Llamada sin argumentos\n",
    "\n",
    "Cuando se llama una función con los parámetros respectivos, esta puede no pasar los argumentos de manera correcta y esto provocará una excepción TypeError."
   ]
  },
  {
   "cell_type": "code",
   "execution_count": 3,
   "metadata": {},
   "outputs": [
    {
     "ename": "TypeError",
     "evalue": "resta() missing 2 required positional arguments: 'a' and 'b'",
     "output_type": "error",
     "traceback": [
      "\u001b[1;31m---------------------------------------------------------------------------\u001b[0m",
      "\u001b[1;31mTypeError\u001b[0m                                 Traceback (most recent call last)",
      "Cell \u001b[1;32mIn[3], line 1\u001b[0m\n\u001b[1;32m----> 1\u001b[0m resta()\n",
      "\u001b[1;31mTypeError\u001b[0m: resta() missing 2 required positional arguments: 'a' and 'b'"
     ]
    }
   ],
   "source": [
    "resta()"
   ]
  },
  {
   "attachments": {},
   "cell_type": "markdown",
   "metadata": {},
   "source": [
    "### Argumentos y parámetros - Parámetros por defecto\n",
    "\n",
    "Si quieres solucionar este error, debes asignar valores por defecto nulos a los respectivos parámetros. De esta manera puedes prever y comprobar el funcionamiento sin antes ejecutar el código."
   ]
  },
  {
   "cell_type": "code",
   "execution_count": 6,
   "metadata": {},
   "outputs": [
    {
     "name": "stdout",
     "output_type": "stream",
     "text": [
      "Error debes enviar dos números a la función\n"
     ]
    }
   ],
   "source": [
    "def resta(a=None, b=None):\n",
    "    if a == None or b == None:\n",
    "        print(\"Error debes enviar dos números a la función\")\n",
    "        return\n",
    "    return a - b\n",
    "\n",
    "resta(30, 10)\n",
    "\n",
    "resta()"
   ]
  },
  {
   "attachments": {},
   "cell_type": "markdown",
   "metadata": {},
   "source": [
    "### Argumentos y parámetros - Argumentos indeterminados\n",
    "\n",
    "Dentro de las funciones de Python te brinda la opción de utilizar parámetros indeterminados por posición y nombre. Esto te ayuda en los momentos en donde no has definido la cantidad de elementos que necesitas para tu función.\n",
    "\n",
    "✅ Por posición\n",
    "\n",
    "En esta función debes crear una lista dinámica de argumentos. Esto se representa como un tipo dupla que se define con un asterisco."
   ]
  },
  {
   "cell_type": "code",
   "execution_count": 8,
   "metadata": {},
   "outputs": [
    {
     "name": "stdout",
     "output_type": "stream",
     "text": [
      "5\n",
      "hola\n",
      "[1, 2, 3, 4]\n"
     ]
    }
   ],
   "source": [
    "def indeterminados_posicion(*args):\n",
    "    for arg  in args:\n",
    "        print(arg)\n",
    "\n",
    "indeterminados_posicion(5, \"hola\", [1,2,3,4])"
   ]
  },
  {
   "attachments": {},
   "cell_type": "markdown",
   "metadata": {},
   "source": [
    "### Argumentos y parámetros - Argumentos indeterminados\n",
    "\n",
    "✅ Por posición y nombre\n",
    "\n",
    "En esta función debes crear colecciones dinámicas para ambos tipos de parámetros de manera simultánea. Incluyes los argumentos por valor y luego por clave. No es necesario que coloques args y kwargs, solo en caso de convención."
   ]
  },
  {
   "cell_type": "code",
   "execution_count": 9,
   "metadata": {},
   "outputs": [
    {
     "name": "stdout",
     "output_type": "stream",
     "text": [
      "Sumatorio:  380.56\n",
      "cms  =>  phone\n",
      "edad  =>  38\n"
     ]
    }
   ],
   "source": [
    "def super_funcion(*args, **kwargs):\n",
    "    total = 0\n",
    "    for arg in args:\n",
    "        total += arg\n",
    "    print(\"Sumatorio: \", total)\n",
    "    for arg in kwargs:\n",
    "        print(arg, \" => \", kwargs[arg])\n",
    "\n",
    "super_funcion(50, -1, 1.56, 10, 20, 300, cms=\"phone\", edad=38)"
   ]
  },
  {
   "attachments": {},
   "cell_type": "markdown",
   "metadata": {},
   "source": [
    "### Sentencia pass\n",
    "\n",
    "Las funciones en Python te permiten efectuar una operación nula, es decir que cuando se emplea no sucede nada. Esto te puede ayudar cuando una sentencia se requiere de manera sintáctica y no necesita de un código para efectuarse."
   ]
  },
  {
   "cell_type": "code",
   "execution_count": null,
   "metadata": {},
   "outputs": [],
   "source": [
    "# Una función que no hace nda aún\n",
    "def consultar_nombre(letra_genero): pass\n",
    "\n",
    "# Una clase sin ningún método aún\n",
    "class Persona: pass"
   ]
  },
  {
   "attachments": {},
   "cell_type": "markdown",
   "metadata": {},
   "source": [
    "### Sentencia return - Return múltiple\n",
    "\n",
    "En Python tienes la posibilidad de retornar valores múltiples separados en comas. A su vez, se puede registrar a distintas variables y valores de la tupla inmutable. "
   ]
  },
  {
   "cell_type": "code",
   "execution_count": 10,
   "metadata": {},
   "outputs": [
    {
     "data": {
      "text/plain": [
       "('Phone CMS', 20, [1, 2, 3])"
      ]
     },
     "execution_count": 10,
     "metadata": {},
     "output_type": "execute_result"
    }
   ],
   "source": [
    "def Prueba():\n",
    "    return \"Phone CMS\", 20, [1,2,3]\n",
    "\n",
    "Prueba()"
   ]
  }
 ],
 "metadata": {
  "kernelspec": {
   "display_name": "Python 3",
   "language": "python",
   "name": "python3"
  },
  "language_info": {
   "codemirror_mode": {
    "name": "ipython",
    "version": 3
   },
   "file_extension": ".py",
   "mimetype": "text/x-python",
   "name": "python",
   "nbconvert_exporter": "python",
   "pygments_lexer": "ipython3",
   "version": "3.11.3"
  },
  "orig_nbformat": 4
 },
 "nbformat": 4,
 "nbformat_minor": 2
}
