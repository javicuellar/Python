{
 "cells": [
  {
   "cell_type": "markdown",
   "id": "1f764bc0",
   "metadata": {},
   "source": [
    "### Portal de datos abiertos del Ayuntamiento de Alcorcón.\n",
    "\n",
    "https://datosabiertos.ayto-alcorcon.es\n",
    "\n",
    "\n",
    "Pruebas de recuperación de datos de APIs del Ayto. de Alcorcón."
   ]
  },
  {
   "cell_type": "code",
   "execution_count": 9,
   "id": "0bed201c",
   "metadata": {
    "scrolled": true
   },
   "outputs": [],
   "source": [
    "import requests\n",
    "import json"
   ]
  },
  {
   "cell_type": "markdown",
   "id": "7ae93375",
   "metadata": {},
   "source": [
    "##### Alcorcón - Ciudadanos por país de nacimiento"
   ]
  },
  {
   "cell_type": "code",
   "execution_count": 34,
   "id": "0c061926",
   "metadata": {},
   "outputs": [
    {
     "name": "stdout",
     "output_type": "stream",
     "text": [
      "include_total\n",
      "limit\n",
      "records_format\n",
      "resource_id\n",
      "total_estimation_threshold\n",
      "records\n",
      "fields\n",
      "_links\n",
      "total\n",
      "total_was_estimated\n"
     ]
    }
   ],
   "source": [
    "url = 'https://datosabiertos.ayto-alcorcon.es/api/3/action/datastore_search?resource_id=b54c35a8-932c-48ef-9fff-2a2781ed923a'\n",
    "#  Limitando a 5 registros\n",
    "url2 = 'https://datosabiertos.ayto-alcorcon.es/api/3/action/datastore_search?resource_id=b54c35a8-932c-48ef-9fff-2a2781ed923a&limit=5'\n",
    "\n",
    "\n",
    "try:\n",
    "    response = requests.get(url)\n",
    "except requests.exceptions.RequestException as e:\n",
    "    print(f\"Error: {e},  {response.status_code}\")\n",
    "\n",
    "if response.status_code == 200:\n",
    "    import pandas as pd\n",
    "\n",
    "    # print(\"\\nRespuesta: \", response.text)\n",
    "    respuesta = response.json()\n",
    "\n",
    "    for clave in respuesta['result'].keys():\n",
    "        print(clave)\n",
    "\n",
    "    df = pd.DataFrame(respuesta['result']['records'])\n",
    "    df.to_excel('Ayto_Alcorcon_pais_nacimiento.xlsx', index=False)\n",
    "else:\n",
    "    print(f\"Código respuesta error: {response.status_code}\")"
   ]
  },
  {
   "cell_type": "markdown",
   "id": "a7b1cad9",
   "metadata": {},
   "source": [
    "##### Alcorcón - Ciudadanos por nivel de formación"
   ]
  },
  {
   "cell_type": "code",
   "execution_count": 35,
   "id": "f92275a1",
   "metadata": {},
   "outputs": [
    {
     "name": "stdout",
     "output_type": "stream",
     "text": [
      "Archivo guardado como correctamente.\n"
     ]
    }
   ],
   "source": [
    "#  Descargar archivo xls\n",
    "url = 'https://datosabiertos.ayto-alcorcon.es/dataset/e9d9ecd4-8ec4-47c7-aba6-42177bee3250/resource/a4d90b3b-8884-4d2a-af7c-0632c0f2200a/download/resumen_titulaciones_8626576703003281112.xls'\n",
    "\n",
    "\n",
    "try:\n",
    "    response = requests.get(url)\n",
    "except requests.exceptions.RequestException as e:\n",
    "    print(f\"Error: {e},  {response.status_code}\")\n",
    "\n",
    "\n",
    "if response.status_code == 200:\n",
    "    #  Devuelve archivo xls, guardamos el contenido del archivo\n",
    "    with open('Ayto_Alcorcon_nivel_formacion.xls', 'wb') as f:\n",
    "        f.write(response.content)  \n",
    "    print(\"Archivo guardado como correctamente.\")\n",
    "else:\n",
    "    print(\"Error al recuperar el archivo:\", response.status_code)"
   ]
  }
 ],
 "metadata": {
  "kernelspec": {
   "display_name": "Python 3",
   "language": "python",
   "name": "python3"
  },
  "language_info": {
   "codemirror_mode": {
    "name": "ipython",
    "version": 3
   },
   "file_extension": ".py",
   "mimetype": "text/x-python",
   "name": "python",
   "nbconvert_exporter": "python",
   "pygments_lexer": "ipython3",
   "version": "3.11.3"
  }
 },
 "nbformat": 4,
 "nbformat_minor": 5
}
