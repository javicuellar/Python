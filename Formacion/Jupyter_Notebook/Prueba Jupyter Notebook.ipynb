{
 "cells": [
  {
   "cell_type": "markdown",
   "id": "1f764bc0",
   "metadata": {},
   "source": [
    "# Jupyter Notebook\n",
    "\n",
    "Prueba.- Creacción de una carpeta de cuadernos Jupyter.\n",
    "\n",
    "1) Crear carpeta de trabajo\n",
    "2) Instalar jupyter -> **pip install jupyter**\n",
    "3) Desde carpeta de trabajo, abrir Jupyter Notebook -> **jupyter notebook**"
   ]
  },
  {
   "cell_type": "code",
   "execution_count": 1,
   "id": "0bed201c",
   "metadata": {
    "scrolled": true
   },
   "outputs": [
    {
     "name": "stdout",
     "output_type": "stream",
     "text": [
      "8\n"
     ]
    }
   ],
   "source": [
    "print(3+5)"
   ]
  }
 ],
 "metadata": {
  "kernelspec": {
   "display_name": "Python 3 (ipykernel)",
   "language": "python",
   "name": "python3"
  },
  "language_info": {
   "codemirror_mode": {
    "name": "ipython",
    "version": 3
   },
   "file_extension": ".py",
   "mimetype": "text/x-python",
   "name": "python",
   "nbconvert_exporter": "python",
   "pygments_lexer": "ipython3",
   "version": "3.8.8"
  },
  "vscode": {
   "interpreter": {
    "hash": "6f5583cf1d9466b5c27e75c89cc6b383bed5736d6b16c51c8074d8690011a952"
   }
  }
 },
 "nbformat": 4,
 "nbformat_minor": 5
}
