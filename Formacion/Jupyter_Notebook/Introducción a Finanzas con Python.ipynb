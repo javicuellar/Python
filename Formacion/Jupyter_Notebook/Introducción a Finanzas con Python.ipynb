{
 "cells": [
  {
   "cell_type": "markdown",
   "id": "5ae54859",
   "metadata": {},
   "source": [
    "# Introducción a Finanzas con Python\n",
    "\n",
    "https://relopezbriega.github.io/blog/2015/08/28/introduccion-a-finanzas-con-python/\n",
    "\n",
    "Es necesario instalar las funciones financieras de numpy -> numpy_financial"
   ]
  },
  {
   "cell_type": "code",
   "execution_count": 4,
   "id": "4c46335b",
   "metadata": {},
   "outputs": [
    {
     "name": "stdout",
     "output_type": "stream",
     "text": [
      "Collecting numpy_financial\n",
      "  Downloading numpy_financial-1.0.0-py3-none-any.whl (14 kB)\n",
      "Requirement already satisfied: numpy>=1.15 in c:\\anaconda\\lib\\site-packages (from numpy_financial) (1.22.4)\n",
      "Installing collected packages: numpy-financial\n",
      "Successfully installed numpy-financial-1.0.0\n",
      "Note: you may need to restart the kernel to use updated packages.\n"
     ]
    }
   ],
   "source": [
    "pip install numpy_financial"
   ]
  },
  {
   "cell_type": "markdown",
   "id": "f06a8798",
   "metadata": {},
   "source": [
    "### Conceptos básicos de Finanzas\n",
    "\n",
    "Los conceptos más básicos que podemos encontrar dentro de las finanzas son: **valor futuro**, **valor presente**, y la **tasa interna de retorno**. Estos conceptos nos dicen cuanto nuestro dinero va a crecer si lo depositamos en un banco (valor futuro), cuanto vale hoy la promesa de unos pagos que recibiremos en el futuro (valor presente), y qué tasa de rendimiento podemos obtener de nuestras inversiones (tasa interna de retorno). Recordemos que todos los activos financieros y toda planificación financiera siempre tiene una dimensión de tiempo; así por ejemplo si depositamos USD 100 en un banco que nos paga una tasa de interés anual de 6% , luego de un año obtendríamos un importe de USD 106."
   ]
  },
  {
   "cell_type": "markdown",
   "id": "f94fc5a1",
   "metadata": {},
   "source": [
    "### Valor Futuro\n",
    "\n",
    "El valor futuro o FV (por sus siglas en inglés), nos indica el valor en el futuro que tendrá el dinero depositado hoy en una cuenta bancaria que nos pague intereses. El valor futuro de USD X depositado hoy en una cuenta que paga r% de interés anual y que es dejado en la cuenta durante n años es X∗(1+r)n. El valor futuro es nuestro primer ejemplo de interés compuesto, es decir, el principio de que podemos ganar intereses sobre los intereses. De la definición que dimos del valor futuro, podemos obtener su expresión matemática:\n",
    "\n",
    "    FV=X∗(1+r)n\n",
    "\n",
    "Como podemos ver, su cálculo es bastante simple. Veamos un ejemplo de como calcular el FV de un depósito de USD 1000 a 3 años y con una tasa de interés del 6% anual."
   ]
  },
  {
   "cell_type": "code",
   "execution_count": 11,
   "id": "2fb33f75",
   "metadata": {},
   "outputs": [
    {
     "name": "stdout",
     "output_type": "stream",
     "text": [
      "Valor Futuro de 1000 al 6% por 3 años:  1191.016\n",
      "Valor Futuro de 95.000 al 0.95% por 3 meses:  95225.80366692747\n"
     ]
    }
   ],
   "source": [
    "# graficos embebidos\n",
    "%matplotlib inline\n",
    "\n",
    "# Ejemplo FV con python\n",
    "# $1000 al 6% anual por 3 años.\n",
    "\n",
    "# importando librerías\n",
    "import numpy as np\n",
    "import numpy_financial as npf\n",
    "import matplotlib.pyplot as plt\n",
    "\n",
    "# 1000 al 6% anual por 3 años.\n",
    "x = -1000     # deposito\n",
    "r = .06       # tasa de interes anual\n",
    "n = 3         # cantidad de años\n",
    "\n",
    "# usando la funcion fv de numpy\n",
    "FV = npf.fv(pv=x, rate=r, nper=n, pmt=0)\n",
    "print(\"Valor Futuro de 1000 al 6% por 3 años: \", FV)\n",
    "\n",
    "# 95.000 al 6% anual por 3 años.\n",
    "x = -95000      # deposito\n",
    "r = .0095/12    # tasa de interes mensual\n",
    "n = 3           # cantidad de meses\n",
    "\n",
    "# usando la funcion fv de numpy\n",
    "FV = npf.fv(pv=x, rate=r, nper=n, pmt=0)\n",
    "print(\"Valor Futuro de 95.000 al 0.95% por 3 meses: \", FV)"
   ]
  },
  {
   "cell_type": "code",
   "execution_count": null,
   "id": "b5e233cc",
   "metadata": {},
   "outputs": [],
   "source": []
  }
 ],
 "metadata": {
  "kernelspec": {
   "display_name": "Python 3.9.7 64-bit",
   "language": "python",
   "name": "python3"
  },
  "language_info": {
   "codemirror_mode": {
    "name": "ipython",
    "version": 3
   },
   "file_extension": ".py",
   "mimetype": "text/x-python",
   "name": "python",
   "nbconvert_exporter": "python",
   "pygments_lexer": "ipython3",
   "version": "3.9.7"
  },
  "vscode": {
   "interpreter": {
    "hash": "c347c8f9a7ef94e4c9e03b4513be7835ed18f45b99a2a817fb579f408b867b16"
   }
  }
 },
 "nbformat": 4,
 "nbformat_minor": 5
}
